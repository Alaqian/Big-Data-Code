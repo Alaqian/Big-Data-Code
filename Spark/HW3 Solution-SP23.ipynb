{
 "cells": [
  {
   "cell_type": "markdown",
   "id": "228bbe2f",
   "metadata": {},
   "source": [
    "## Start a Spark session"
   ]
  },
  {
   "cell_type": "code",
   "execution_count": null,
   "id": "fd8ac99d",
   "metadata": {
    "execution": {
     "iopub.execute_input": "2023-03-18T13:56:36.364836Z",
     "iopub.status.busy": "2023-03-18T13:56:36.364836Z"
    },
    "tags": []
   },
   "outputs": [],
   "source": [
    "import os\n",
    "import pyspark\n",
    "conf = pyspark.SparkConf()\n",
    "conf.set('spark.sql.repl.eagerEval.enabled', True)\n",
    "sc = pyspark.SparkContext(conf=conf)\n",
    "\n",
    "sc.setLogLevel(\"ERROR\")\n",
    "spark = pyspark.SQLContext.getOrCreate(sc)\n",
    "spark"
   ]
  },
  {
   "cell_type": "code",
   "execution_count": 2,
   "id": "646b27af-3ca0-4c08-a6d8-c68b963d79b5",
   "metadata": {},
   "outputs": [
    {
     "data": {
      "text/html": [
       "\n",
       "        <div>\n",
       "            <p><b>SparkContext</b></p>\n",
       "\n",
       "            <p><a href=\"http://jupyter-jcr365:4040\">Spark UI</a></p>\n",
       "\n",
       "            <dl>\n",
       "              <dt>Version</dt>\n",
       "                <dd><code>v3.3.1</code></dd>\n",
       "              <dt>Master</dt>\n",
       "                <dd><code>local[*]</code></dd>\n",
       "              <dt>AppName</dt>\n",
       "                <dd><code>pyspark-shell</code></dd>\n",
       "            </dl>\n",
       "        </div>\n",
       "        "
      ],
      "text/plain": [
       "<SparkContext master=local[*] appName=pyspark-shell>"
      ]
     },
     "execution_count": 2,
     "metadata": {},
     "output_type": "execute_result"
    }
   ],
   "source": [
    "sc"
   ]
  },
  {
   "cell_type": "markdown",
   "id": "f63b5f8c",
   "metadata": {},
   "source": [
    "## Q1\n",
    "What is the most popular (most sold) between the 8:00AM and 8:59AM for each day?"
   ]
  },
  {
   "cell_type": "code",
   "execution_count": 9,
   "id": "7738d094",
   "metadata": {},
   "outputs": [
    {
     "name": "stdout",
     "output_type": "stream",
     "text": [
      "root\n",
      " |-- Date: date (nullable = true)\n",
      " |-- Time: timestamp (nullable = true)\n",
      " |-- Transaction: integer (nullable = true)\n",
      " |-- Item: string (nullable = true)\n",
      " |-- hour: integer (nullable = true)\n",
      "\n"
     ]
    },
    {
     "data": {
      "text/html": [
       "<table border='1'>\n",
       "<tr><th>Date</th><th>Time</th><th>Transaction</th><th>Item</th><th>hour</th></tr>\n",
       "<tr><td>2017-01-01</td><td>2023-03-15 01:21:05</td><td>4090</td><td>Bread</td><td>1</td></tr>\n",
       "<tr><td>2016-11-01</td><td>2023-03-15 07:51:20</td><td>178</td><td>Coffee</td><td>7</td></tr>\n",
       "<tr><td>2016-11-03</td><td>2023-03-15 07:50:50</td><td>341</td><td>Medialuna</td><td>7</td></tr>\n",
       "<tr><td>2016-11-01</td><td>2023-03-15 07:51:20</td><td>178</td><td>Pastry</td><td>7</td></tr>\n",
       "<tr><td>2016-11-03</td><td>2023-03-15 07:46:50</td><td>340</td><td>Coffee</td><td>7</td></tr>\n",
       "</table>\n"
      ],
      "text/plain": [
       "+----------+-------------------+-----------+---------+----+\n",
       "|      Date|               Time|Transaction|     Item|hour|\n",
       "+----------+-------------------+-----------+---------+----+\n",
       "|2017-01-01|2023-03-15 01:21:05|       4090|    Bread|   1|\n",
       "|2016-11-01|2023-03-15 07:51:20|        178|   Coffee|   7|\n",
       "|2016-11-03|2023-03-15 07:50:50|        341|Medialuna|   7|\n",
       "|2016-11-01|2023-03-15 07:51:20|        178|   Pastry|   7|\n",
       "|2016-11-03|2023-03-15 07:46:50|        340|   Coffee|   7|\n",
       "+----------+-------------------+-----------+---------+----+"
      ]
     },
     "execution_count": 9,
     "metadata": {},
     "output_type": "execute_result"
    }
   ],
   "source": [
    "from pyspark.sql.functions import substring, col\n",
    "from pyspark.sql.types import DateType\n",
    "\n",
    "bakery = spark\\\n",
    "    .read.option(\"header\",True)\\\n",
    "    .option(\"inferSchema\",True)\\\n",
    "    .csv(\"shared/hw2/BreadBasket_DMS.csv\")\\\n",
    "    .withColumn(\"hour\",substring(col(\"Time\"),12,2).cast(\"Integer\"))\\\n",
    "    .withColumn(\"Date\", col(\"Date\").cast(DateType()))\n",
    "\n",
    "bakery.printSchema()\n",
    "bakery.sort(\"hour\").limit(5)"
   ]
  },
  {
   "cell_type": "code",
   "execution_count": 11,
   "id": "3a5eb537",
   "metadata": {},
   "outputs": [
    {
     "data": {
      "text/html": [
       "<table border='1'>\n",
       "<tr><th>Date</th><th>Item</th></tr>\n",
       "<tr><td>2016-10-31</td><td>Coffee</td></tr>\n",
       "<tr><td>2016-11-01</td><td>Tea</td></tr>\n",
       "<tr><td>2016-11-02</td><td>Coffee</td></tr>\n",
       "<tr><td>2016-11-03</td><td>Coffee</td></tr>\n",
       "<tr><td>2016-11-04</td><td>Bread</td></tr>\n",
       "<tr><td>2016-11-05</td><td>Bread</td></tr>\n",
       "<tr><td>2016-11-07</td><td>Pastry</td></tr>\n",
       "<tr><td>2016-11-08</td><td>Bread</td></tr>\n",
       "<tr><td>2016-11-09</td><td>Pastry</td></tr>\n",
       "<tr><td>2016-11-10</td><td>Coffee</td></tr>\n",
       "</table>\n"
      ],
      "text/plain": [
       "+----------+------+\n",
       "|      Date|  Item|\n",
       "+----------+------+\n",
       "|2016-10-31|Coffee|\n",
       "|2016-11-01|   Tea|\n",
       "|2016-11-02|Coffee|\n",
       "|2016-11-03|Coffee|\n",
       "|2016-11-04| Bread|\n",
       "|2016-11-05| Bread|\n",
       "|2016-11-07|Pastry|\n",
       "|2016-11-08| Bread|\n",
       "|2016-11-09|Pastry|\n",
       "|2016-11-10|Coffee|\n",
       "+----------+------+"
      ]
     },
     "execution_count": 11,
     "metadata": {},
     "output_type": "execute_result"
    }
   ],
   "source": [
    "from pyspark.sql.window import Window\n",
    "from pyspark.sql.functions import desc, row_number, rank\n",
    "\n",
    "w = Window.partitionBy(\"Date\").orderBy(desc(\"count\"))\n",
    "\n",
    "bakeryq1 = bakery\\\n",
    "    .where(\"hour == 8\")\\\n",
    "    .groupBy(\"Date\",\"Item\").count()\\\n",
    "    .withColumn(\"idx\", row_number().over(w))\n",
    "\n",
    "# one way; pick first item\n",
    "bakeryq1.where(\"idx == 1\").select(\"Date\",\"Item\").limit(10)"
   ]
  },
  {
   "cell_type": "markdown",
   "id": "9e1bd4ee",
   "metadata": {},
   "source": [
    "## Q2\n",
    "What is the most common item bought along with “Brownie”? (items bought in the same transaction)"
   ]
  },
  {
   "cell_type": "code",
   "execution_count": 12,
   "id": "89637908",
   "metadata": {},
   "outputs": [
    {
     "data": {
      "text/html": [
       "<table border='1'>\n",
       "<tr><th>Transaction</th></tr>\n",
       "<tr><td>1238</td></tr>\n",
       "<tr><td>3749</td></tr>\n",
       "<tr><td>7554</td></tr>\n",
       "<tr><td>8389</td></tr>\n",
       "<tr><td>392</td></tr>\n",
       "</table>\n"
      ],
      "text/plain": [
       "+-----------+\n",
       "|Transaction|\n",
       "+-----------+\n",
       "|       1238|\n",
       "|       3749|\n",
       "|       7554|\n",
       "|       8389|\n",
       "|        392|\n",
       "+-----------+"
      ]
     },
     "execution_count": 12,
     "metadata": {},
     "output_type": "execute_result"
    }
   ],
   "source": [
    "transactions = bakery\\\n",
    "    .where(col(\"Item\") == \"Brownie\")\\\n",
    "    .select(\"Transaction\")\\\n",
    "    .distinct()\n",
    "\n",
    "transactions.limit(5)\n"
   ]
  },
  {
   "cell_type": "code",
   "execution_count": 13,
   "id": "521d3399-7228-417f-8dc9-df17eace400e",
   "metadata": {},
   "outputs": [
    {
     "data": {
      "text/html": [
       "<table border='1'>\n",
       "<tr><th>Transaction</th><th>Date</th><th>Time</th><th>Item</th><th>hour</th></tr>\n",
       "<tr><td>371</td><td>2016-11-03</td><td>2023-03-15 10:39:12</td><td>Coffee</td><td>10</td></tr>\n",
       "<tr><td>371</td><td>2016-11-03</td><td>2023-03-15 10:39:12</td><td>Brownie</td><td>10</td></tr>\n",
       "<tr><td>371</td><td>2016-11-03</td><td>2023-03-15 10:39:12</td><td>Alfajores</td><td>10</td></tr>\n",
       "<tr><td>371</td><td>2016-11-03</td><td>2023-03-15 10:39:12</td><td>Fudge</td><td>10</td></tr>\n",
       "<tr><td>384</td><td>2016-11-03</td><td>2023-03-15 12:05:25</td><td>Coffee</td><td>12</td></tr>\n",
       "</table>\n"
      ],
      "text/plain": [
       "+-----------+----------+-------------------+---------+----+\n",
       "|Transaction|      Date|               Time|     Item|hour|\n",
       "+-----------+----------+-------------------+---------+----+\n",
       "|        371|2016-11-03|2023-03-15 10:39:12|   Coffee|  10|\n",
       "|        371|2016-11-03|2023-03-15 10:39:12|  Brownie|  10|\n",
       "|        371|2016-11-03|2023-03-15 10:39:12|Alfajores|  10|\n",
       "|        371|2016-11-03|2023-03-15 10:39:12|    Fudge|  10|\n",
       "|        384|2016-11-03|2023-03-15 12:05:25|   Coffee|  12|\n",
       "+-----------+----------+-------------------+---------+----+"
      ]
     },
     "execution_count": 13,
     "metadata": {},
     "output_type": "execute_result"
    }
   ],
   "source": [
    "bakeryq2 = bakery.join(transactions, on=\"Transaction\", how=\"inner\")\n",
    "bakeryq2.limit(5)"
   ]
  },
  {
   "cell_type": "code",
   "execution_count": 14,
   "id": "35eb364e-c650-4d9a-8928-ce8906c224d9",
   "metadata": {},
   "outputs": [
    {
     "data": {
      "text/plain": [
       "'Coffee'"
      ]
     },
     "execution_count": 14,
     "metadata": {},
     "output_type": "execute_result"
    }
   ],
   "source": [
    "\n",
    "bakeryq2\\\n",
    "    .where(col(\"Item\") != \"Brownie\")\\\n",
    "    .groupBy(\"Item\").count()\\\n",
    "    .orderBy(desc(\"count\"))\\\n",
    "    .take(1)[0][0]\n",
    "    "
   ]
  },
  {
   "cell_type": "markdown",
   "id": "ac3d9c02",
   "metadata": {},
   "source": [
    "## Q3\n",
    "How many years are represented in this dataset?"
   ]
  },
  {
   "cell_type": "code",
   "execution_count": 16,
   "id": "95c3ce0f",
   "metadata": {},
   "outputs": [
    {
     "name": "stdout",
     "output_type": "stream",
     "text": [
      "root\n",
      " |-- ID: string (nullable = true)\n",
      " |-- Premise_Name: string (nullable = true)\n",
      " |-- Premise_Address1: string (nullable = true)\n",
      " |-- Premise_Address2: string (nullable = true)\n",
      " |-- Premise_City: string (nullable = true)\n",
      " |-- Premise_State: string (nullable = true)\n",
      " |-- Premise_Zip: string (nullable = true)\n",
      " |-- Premise_Phone: string (nullable = true)\n",
      " |-- Hours_Of_Operation: string (nullable = true)\n",
      " |-- Opening_Date: date (nullable = true)\n",
      " |-- Closing_Date: date (nullable = true)\n",
      " |-- Seats: string (nullable = true)\n",
      " |-- Water: string (nullable = true)\n",
      " |-- Sewage: string (nullable = true)\n",
      " |-- Insp_Freq: string (nullable = true)\n",
      " |-- Est_Group_Desc: string (nullable = true)\n",
      " |-- Risk: integer (nullable = true)\n",
      " |-- Smoking_Allowed: string (nullable = true)\n",
      " |-- Type_Description: string (nullable = true)\n",
      " |-- Rpt_Area_Desc: string (nullable = true)\n",
      " |-- Status: string (nullable = true)\n",
      " |-- Transitional_Type_Desc: string (nullable = true)\n",
      " |-- geolocation: string (nullable = true)\n",
      "\n"
     ]
    },
    {
     "data": {
      "text/html": [
       "<table border='1'>\n",
       "<tr><th>ID</th><th>Premise_Name</th><th>Premise_Address1</th><th>Premise_Address2</th><th>Premise_City</th><th>Premise_State</th><th>Premise_Zip</th><th>Premise_Phone</th><th>Hours_Of_Operation</th><th>Opening_Date</th><th>Closing_Date</th><th>Seats</th><th>Water</th><th>Sewage</th><th>Insp_Freq</th><th>Est_Group_Desc</th><th>Risk</th><th>Smoking_Allowed</th><th>Type_Description</th><th>Rpt_Area_Desc</th><th>Status</th><th>Transitional_Type_Desc</th><th>geolocation</th></tr>\n",
       "<tr><td>56060</td><td>WEST 94TH ST PUB</td><td>4711 HOPE VALLEY RD</td><td>SUITE 6C</td><td>DURHAM</td><td>NC</td><td>27707</td><td>(919) 403-0025</td><td>null</td><td>1994-09-01</td><td>null</td><td>60</td><td>5 - Municipal/Com...</td><td>3 - Municipal/Com...</td><td>4</td><td>Full-Service Rest...</td><td>4</td><td>NO</td><td>1 - Restaurant</td><td>Food Service</td><td>ACTIVE</td><td>FOOD</td><td>35.9207272, -78.9...</td></tr>\n",
       "<tr><td>58123</td><td>BROOKDALE DURHAM IFS</td><td>4434 BEN FRANKLIN...</td><td>null</td><td>DURHAM</td><td>NC</td><td>27704</td><td>(919) 479-9966</td><td>null</td><td>2003-10-15</td><td>null</td><td>350</td><td>5 - Municipal/Com...</td><td>3 - Municipal/Com...</td><td>4</td><td>Nursing Home</td><td>4</td><td>NO</td><td>16 - Institutiona...</td><td>Food Service</td><td>ACTIVE</td><td>FOOD</td><td>36.0467802, -78.8...</td></tr>\n",
       "<tr><td>70266</td><td>SMOOTHIE KING</td><td>1125 W. NC HWY 54...</td><td>null</td><td>DURHAM</td><td>NC</td><td>27707</td><td>(919) 489-7300</td><td>null</td><td>2009-07-09</td><td>null</td><td>7</td><td>5 - Municipal/Com...</td><td>3 - Municipal/Com...</td><td>2</td><td>Fast Food Restaurant</td><td>2</td><td>NO</td><td>1 - Restaurant</td><td>Food Service</td><td>ACTIVE</td><td>FOOD</td><td>35.9182655, -78.9...</td></tr>\n",
       "<tr><td>97837</td><td>HAMPTON INN &amp; SUITES</td><td>1542 N GREGSON ST</td><td>null</td><td>DURHAM</td><td>NC</td><td>27701</td><td>(919) 688-8880</td><td>null</td><td>2012-01-09</td><td>null</td><td>100</td><td>5 - Municipal/Com...</td><td>3 - Municipal/Com...</td><td>2</td><td>Full-Service Rest...</td><td>2</td><td>NO</td><td>1 - Restaurant</td><td>Food Service</td><td>ACTIVE</td><td>FOOD</td><td>36.0183378, -78.9...</td></tr>\n",
       "<tr><td>60690</td><td>BETTER LIVING CON...</td><td>909 GARCIA ST</td><td>null</td><td>DURHAM</td><td>NC</td><td>27704</td><td>(919) 477-5825</td><td>null</td><td>2008-06-02</td><td>null</td><td>6</td><td>5 - Municipal/Com...</td><td>3 - Municipal/Com...</td><td>1</td><td>null</td><td>0</td><td>N/A</td><td>43 - Residential ...</td><td>Residential Care</td><td>ACTIVE</td><td>N/A</td><td>36.0556347, -78.9...</td></tr>\n",
       "</table>\n"
      ],
      "text/plain": [
       "+-----+--------------------+--------------------+----------------+------------+-------------+-----------+--------------+------------------+------------+------------+-----+--------------------+--------------------+---------+--------------------+----+---------------+--------------------+----------------+------+----------------------+--------------------+\n",
       "|   ID|        Premise_Name|    Premise_Address1|Premise_Address2|Premise_City|Premise_State|Premise_Zip| Premise_Phone|Hours_Of_Operation|Opening_Date|Closing_Date|Seats|               Water|              Sewage|Insp_Freq|      Est_Group_Desc|Risk|Smoking_Allowed|    Type_Description|   Rpt_Area_Desc|Status|Transitional_Type_Desc|         geolocation|\n",
       "+-----+--------------------+--------------------+----------------+------------+-------------+-----------+--------------+------------------+------------+------------+-----+--------------------+--------------------+---------+--------------------+----+---------------+--------------------+----------------+------+----------------------+--------------------+\n",
       "|56060|    WEST 94TH ST PUB| 4711 HOPE VALLEY RD|        SUITE 6C|      DURHAM|           NC|      27707|(919) 403-0025|              null|  1994-09-01|        null|   60|5 - Municipal/Com...|3 - Municipal/Com...|        4|Full-Service Rest...|   4|             NO|      1 - Restaurant|    Food Service|ACTIVE|                  FOOD|35.9207272, -78.9...|\n",
       "|58123|BROOKDALE DURHAM IFS|4434 BEN FRANKLIN...|            null|      DURHAM|           NC|      27704|(919) 479-9966|              null|  2003-10-15|        null|  350|5 - Municipal/Com...|3 - Municipal/Com...|        4|        Nursing Home|   4|             NO|16 - Institutiona...|    Food Service|ACTIVE|                  FOOD|36.0467802, -78.8...|\n",
       "|70266|       SMOOTHIE KING|1125 W. NC HWY 54...|            null|      DURHAM|           NC|      27707|(919) 489-7300|              null|  2009-07-09|        null|    7|5 - Municipal/Com...|3 - Municipal/Com...|        2|Fast Food Restaurant|   2|             NO|      1 - Restaurant|    Food Service|ACTIVE|                  FOOD|35.9182655, -78.9...|\n",
       "|97837|HAMPTON INN & SUITES|   1542 N GREGSON ST|            null|      DURHAM|           NC|      27701|(919) 688-8880|              null|  2012-01-09|        null|  100|5 - Municipal/Com...|3 - Municipal/Com...|        2|Full-Service Rest...|   2|             NO|      1 - Restaurant|    Food Service|ACTIVE|                  FOOD|36.0183378, -78.9...|\n",
       "|60690|BETTER LIVING CON...|       909 GARCIA ST|            null|      DURHAM|           NC|      27704|(919) 477-5825|              null|  2008-06-02|        null|    6|5 - Municipal/Com...|3 - Municipal/Com...|        1|                null|   0|            N/A|43 - Residential ...|Residential Care|ACTIVE|                   N/A|36.0556347, -78.9...|\n",
       "+-----+--------------------+--------------------+----------------+------------+-------------+-----------+--------------+------------------+------------+------------+-----+--------------------+--------------------+---------+--------------------+----+---------------+--------------------+----------------+------+----------------------+--------------------+"
      ]
     },
     "execution_count": 16,
     "metadata": {},
     "output_type": "execute_result"
    }
   ],
   "source": [
    "from pyspark.sql.functions import col\n",
    "from pyspark.sql.types import DateType\n",
    "\n",
    "restaurants = spark.read\\\n",
    "    .option(\"header\",True)\\\n",
    "    .option(\"delimiter\",\";\")\\\n",
    "    .option(\"inferSchema\",True)\\\n",
    "    .csv(\"shared/hw2/Restaurants_in_Durham_County_NC.csv\")\\\n",
    "    .withColumn(\"Opening_Date\",col(\"Opening_Date\").cast(DateType()))\\\n",
    "    .withColumn(\"Closing_Date\",col(\"Closing_Date\").cast(DateType()))\n",
    "    \n",
    "restaurants.printSchema()\n",
    "restaurants.limit(5)"
   ]
  },
  {
   "cell_type": "code",
   "execution_count": 19,
   "id": "8bec0222-7b3f-4df7-badd-1c11e7ff4721",
   "metadata": {},
   "outputs": [
    {
     "name": "stdout",
     "output_type": "stream",
     "text": [
      "root\n",
      " |-- min(Opening_Date): date (nullable = true)\n",
      " |-- max(Opening_Date): date (nullable = true)\n",
      " |-- min(Closing_Date): date (nullable = true)\n",
      " |-- max(Closing_Date): date (nullable = true)\n",
      "\n"
     ]
    },
    {
     "data": {
      "text/html": [
       "<table border='1'>\n",
       "<tr><th>min(Opening_Date)</th><th>max(Opening_Date)</th><th>min(Closing_Date)</th><th>max(Closing_Date)</th></tr>\n",
       "<tr><td>1990-07-01</td><td>2017-03-07</td><td>null</td><td>null</td></tr>\n",
       "</table>\n"
      ],
      "text/plain": [
       "+-----------------+-----------------+-----------------+-----------------+\n",
       "|min(Opening_Date)|max(Opening_Date)|min(Closing_Date)|max(Closing_Date)|\n",
       "+-----------------+-----------------+-----------------+-----------------+\n",
       "|       1990-07-01|       2017-03-07|             null|             null|\n",
       "+-----------------+-----------------+-----------------+-----------------+"
      ]
     },
     "execution_count": 19,
     "metadata": {},
     "output_type": "execute_result"
    }
   ],
   "source": [
    "from pyspark.sql.functions import min, max\n",
    "\n",
    "yearsq3 = restaurants.agg(min(\"Opening_Date\"), max(\"Opening_Date\"), min(\"Closing_Date\"), max(\"Closing_Date\"))\n",
    "yearsq3.printSchema()\n",
    "yearsq3"
   ]
  },
  {
   "cell_type": "code",
   "execution_count": 20,
   "id": "a38b9fad-6cb9-4aca-8f3c-24dbfbd487b1",
   "metadata": {},
   "outputs": [
    {
     "data": {
      "text/html": [
       "<table border='1'>\n",
       "<tr><th>years</th></tr>\n",
       "<tr><td>27</td></tr>\n",
       "</table>\n"
      ],
      "text/plain": [
       "+-----+\n",
       "|years|\n",
       "+-----+\n",
       "|   27|\n",
       "+-----+"
      ]
     },
     "execution_count": 20,
     "metadata": {},
     "output_type": "execute_result"
    }
   ],
   "source": [
    "from pyspark.sql.functions import  year\n",
    "\n",
    "yearsq3\\\n",
    "    .withColumn(\"years\", year(col(\"max(Opening_Date)\")) - year(col(\"min(Opening_Date)\")))\\\n",
    "    .select(\"years\")"
   ]
  },
  {
   "cell_type": "markdown",
   "id": "aee61eeb",
   "metadata": {},
   "source": [
    "## Q4\n",
    "Show the type and count of restaurant opened during the 90’s (1990-1999 inclusive)."
   ]
  },
  {
   "cell_type": "code",
   "execution_count": 21,
   "id": "6273ebfc-8af2-4462-a62e-ae03e4843a65",
   "metadata": {},
   "outputs": [
    {
     "data": {
      "text/html": [
       "<table border='1'>\n",
       "<tr><th>Rpt_Area_Desc</th><th>count</th></tr>\n",
       "<tr><td>Bed&amp;Breakfast Home</td><td>3</td></tr>\n",
       "<tr><td>Summer Camps</td><td>1</td></tr>\n",
       "<tr><td>Institutions</td><td>16</td></tr>\n",
       "<tr><td>Local Confinement</td><td>2</td></tr>\n",
       "<tr><td>School Buildings</td><td>56</td></tr>\n",
       "<tr><td>Swimming Pools</td><td>256</td></tr>\n",
       "<tr><td>Day Care</td><td>58</td></tr>\n",
       "<tr><td>Bed&amp;Breakfast Inn</td><td>1</td></tr>\n",
       "<tr><td>Lodging</td><td>21</td></tr>\n",
       "<tr><td>Food Service</td><td>204</td></tr>\n",
       "</table>\n"
      ],
      "text/plain": [
       "+------------------+-----+\n",
       "|     Rpt_Area_Desc|count|\n",
       "+------------------+-----+\n",
       "|Bed&Breakfast Home|    3|\n",
       "|      Summer Camps|    1|\n",
       "|      Institutions|   16|\n",
       "| Local Confinement|    2|\n",
       "|  School Buildings|   56|\n",
       "|    Swimming Pools|  256|\n",
       "|          Day Care|   58|\n",
       "| Bed&Breakfast Inn|    1|\n",
       "|           Lodging|   21|\n",
       "|      Food Service|  204|\n",
       "+------------------+-----+"
      ]
     },
     "execution_count": 21,
     "metadata": {},
     "output_type": "execute_result"
    }
   ],
   "source": [
    "restaurants\\\n",
    "    .withColumn(\"year\", year(\"Opening_Date\"))\\\n",
    "    .where((col(\"year\") >= 1990) & (col(\"year\") <= 1999))\\\n",
    "    .groupBy(\"Rpt_Area_Desc\").count()\n"
   ]
  },
  {
   "cell_type": "markdown",
   "id": "a3890260",
   "metadata": {},
   "source": [
    "## Q5\n",
    "For region, compute the percentage change in population, year over year. \n",
    "Note the year 1980 will not have a preceding year. \n",
    "For each year, display the region with the top population decrease."
   ]
  },
  {
   "cell_type": "code",
   "execution_count": 22,
   "id": "021df450-1d5f-4c38-a9fa-763fcf3e9684",
   "metadata": {},
   "outputs": [
    {
     "name": "stdout",
     "output_type": "stream",
     "text": [
      "root\n",
      " |-- _c0: string (nullable = true)\n",
      " |-- 1980: string (nullable = true)\n",
      " |-- 1981: string (nullable = true)\n",
      " |-- 1982: string (nullable = true)\n",
      " |-- 1983: string (nullable = true)\n",
      " |-- 1984: string (nullable = true)\n",
      " |-- 1985: string (nullable = true)\n",
      " |-- 1986: string (nullable = true)\n",
      " |-- 1987: string (nullable = true)\n",
      " |-- 1988: string (nullable = true)\n",
      " |-- 1989: string (nullable = true)\n",
      " |-- 1990: string (nullable = true)\n",
      " |-- 1991: string (nullable = true)\n",
      " |-- 1992: string (nullable = true)\n",
      " |-- 1993: string (nullable = true)\n",
      " |-- 1994: string (nullable = true)\n",
      " |-- 1995: string (nullable = true)\n",
      " |-- 1996: string (nullable = true)\n",
      " |-- 1997: string (nullable = true)\n",
      " |-- 1998: string (nullable = true)\n",
      " |-- 1999: string (nullable = true)\n",
      " |-- 2000: string (nullable = true)\n",
      " |-- 2001: string (nullable = true)\n",
      " |-- 2002: string (nullable = true)\n",
      " |-- 2003: string (nullable = true)\n",
      " |-- 2004: string (nullable = true)\n",
      " |-- 2005: string (nullable = true)\n",
      " |-- 2006: string (nullable = true)\n",
      " |-- 2007: string (nullable = true)\n",
      " |-- 2008: string (nullable = true)\n",
      " |-- 2009: string (nullable = true)\n",
      " |-- 2010: string (nullable = true)\n",
      "\n"
     ]
    },
    {
     "data": {
      "text/html": [
       "<table border='1'>\n",
       "<tr><th>_c0</th><th>1980</th><th>1981</th><th>1982</th><th>1983</th><th>1984</th><th>1985</th><th>1986</th><th>1987</th><th>1988</th><th>1989</th><th>1990</th><th>1991</th><th>1992</th><th>1993</th><th>1994</th><th>1995</th><th>1996</th><th>1997</th><th>1998</th><th>1999</th><th>2000</th><th>2001</th><th>2002</th><th>2003</th><th>2004</th><th>2005</th><th>2006</th><th>2007</th><th>2008</th><th>2009</th><th>2010</th></tr>\n",
       "<tr><td>North America</td><td>320.27638</td><td>324.44694</td><td>328.62014</td><td>332.72487</td><td>336.72143</td><td>340.74811</td><td>344.89548</td><td>349.07829</td><td>353.2939</td><td>357.68457</td><td>362.4468</td><td>367.70684</td><td>373.29069</td><td>378.74233</td><td>383.9166</td><td>388.97216</td><td>393.9428</td><td>398.97205</td><td>403.85585</td><td>408.60296</td><td>413.3245</td><td>417.83236</td><td>422.05268</td><td>426.06238</td><td>430.26938</td><td>434.47232</td><td>438.82964</td><td>443.3473</td><td>447.67394</td><td>451.83698</td><td>456.59331</td></tr>\n",
       "<tr><td>Bermuda</td><td>0.05473</td><td>0.05491</td><td>0.05517</td><td>0.05551</td><td>0.05585</td><td>0.05618</td><td>0.05651</td><td>0.05683</td><td>0.05717</td><td>0.05749</td><td>0.05778</td><td>0.0581</td><td>0.0587</td><td>0.05924</td><td>0.05975</td><td>0.06029</td><td>0.06087</td><td>0.06145</td><td>0.06198</td><td>0.06251</td><td>0.06306</td><td>0.06361</td><td>0.06418</td><td>0.06476</td><td>0.06534</td><td>0.06591</td><td>0.06644</td><td>0.06692</td><td>0.06739</td><td>0.06784</td><td>0.06827</td></tr>\n",
       "<tr><td>Canada</td><td>24.5933</td><td>24.9</td><td>25.2019</td><td>25.4563</td><td>25.7018</td><td>25.9416</td><td>26.2038</td><td>26.5497</td><td>26.8948</td><td>27.3793</td><td>27.7906</td><td>28.1179</td><td>28.54489</td><td>28.95334</td><td>29.33081</td><td>29.69053</td><td>30.02632</td><td>30.3056</td><td>30.55166</td><td>30.82026</td><td>31.09956</td><td>31.37674</td><td>31.64096</td><td>31.88931</td><td>32.13476</td><td>32.38638</td><td>32.65668</td><td>32.93596</td><td>33.2127</td><td>33.48721</td><td>33.75974</td></tr>\n",
       "<tr><td>Greenland</td><td>0.05021</td><td>0.05103</td><td>0.05166</td><td>0.05211</td><td>0.05263</td><td>0.05315</td><td>0.05364</td><td>0.0541</td><td>0.05485</td><td>0.05541</td><td>0.05563</td><td>0.05554</td><td>0.05549</td><td>0.05564</td><td>0.05592</td><td>0.05619</td><td>0.05634</td><td>0.05651</td><td>0.05661</td><td>0.0567</td><td>0.05689</td><td>0.05713</td><td>0.05736</td><td>0.05754</td><td>0.0577</td><td>0.05778</td><td>0.05764</td><td>0.05753</td><td>0.05756</td><td>0.0576</td><td>0.05764</td></tr>\n",
       "<tr><td>Mexico</td><td>68.34748</td><td>69.96926</td><td>71.6409</td><td>73.36288</td><td>75.08014</td><td>76.76723</td><td>78.44243</td><td>80.12249</td><td>81.78182</td><td>83.36684</td><td>84.91365</td><td>86.48803</td><td>88.11103</td><td>89.74914</td><td>91.3379</td><td>92.88035</td><td>94.39858</td><td>95.89515</td><td>97.32506</td><td>98.61691</td><td>99.92662</td><td>101.24696</td><td>102.47993</td><td>103.71806</td><td>104.95959</td><td>106.2029</td><td>107.44953</td><td>108.70089</td><td>109.9554</td><td>111.21179</td><td>112.46886</td></tr>\n",
       "</table>\n"
      ],
      "text/plain": [
       "+-------------+---------+---------+---------+---------+---------+---------+---------+---------+--------+---------+--------+---------+---------+---------+--------+---------+--------+---------+---------+---------+--------+---------+---------+---------+---------+---------+---------+---------+---------+---------+---------+\n",
       "|          _c0|     1980|     1981|     1982|     1983|     1984|     1985|     1986|     1987|    1988|     1989|    1990|     1991|     1992|     1993|    1994|     1995|    1996|     1997|     1998|     1999|    2000|     2001|     2002|     2003|     2004|     2005|     2006|     2007|     2008|     2009|     2010|\n",
       "+-------------+---------+---------+---------+---------+---------+---------+---------+---------+--------+---------+--------+---------+---------+---------+--------+---------+--------+---------+---------+---------+--------+---------+---------+---------+---------+---------+---------+---------+---------+---------+---------+\n",
       "|North America|320.27638|324.44694|328.62014|332.72487|336.72143|340.74811|344.89548|349.07829|353.2939|357.68457|362.4468|367.70684|373.29069|378.74233|383.9166|388.97216|393.9428|398.97205|403.85585|408.60296|413.3245|417.83236|422.05268|426.06238|430.26938|434.47232|438.82964| 443.3473|447.67394|451.83698|456.59331|\n",
       "|      Bermuda|  0.05473|  0.05491|  0.05517|  0.05551|  0.05585|  0.05618|  0.05651|  0.05683| 0.05717|  0.05749| 0.05778|   0.0581|   0.0587|  0.05924| 0.05975|  0.06029| 0.06087|  0.06145|  0.06198|  0.06251| 0.06306|  0.06361|  0.06418|  0.06476|  0.06534|  0.06591|  0.06644|  0.06692|  0.06739|  0.06784|  0.06827|\n",
       "|       Canada|  24.5933|     24.9|  25.2019|  25.4563|  25.7018|  25.9416|  26.2038|  26.5497| 26.8948|  27.3793| 27.7906|  28.1179| 28.54489| 28.95334|29.33081| 29.69053|30.02632|  30.3056| 30.55166| 30.82026|31.09956| 31.37674| 31.64096| 31.88931| 32.13476| 32.38638| 32.65668| 32.93596|  33.2127| 33.48721| 33.75974|\n",
       "|    Greenland|  0.05021|  0.05103|  0.05166|  0.05211|  0.05263|  0.05315|  0.05364|   0.0541| 0.05485|  0.05541| 0.05563|  0.05554|  0.05549|  0.05564| 0.05592|  0.05619| 0.05634|  0.05651|  0.05661|   0.0567| 0.05689|  0.05713|  0.05736|  0.05754|   0.0577|  0.05778|  0.05764|  0.05753|  0.05756|   0.0576|  0.05764|\n",
       "|       Mexico| 68.34748| 69.96926|  71.6409| 73.36288| 75.08014| 76.76723| 78.44243| 80.12249|81.78182| 83.36684|84.91365| 86.48803| 88.11103| 89.74914| 91.3379| 92.88035|94.39858| 95.89515| 97.32506| 98.61691|99.92662|101.24696|102.47993|103.71806|104.95959| 106.2029|107.44953|108.70089| 109.9554|111.21179|112.46886|\n",
       "+-------------+---------+---------+---------+---------+---------+---------+---------+---------+--------+---------+--------+---------+---------+---------+--------+---------+--------+---------+---------+---------+--------+---------+---------+---------+---------+---------+---------+---------+---------+---------+---------+"
      ]
     },
     "execution_count": 22,
     "metadata": {},
     "output_type": "execute_result"
    }
   ],
   "source": [
    "pop = spark.read\\\n",
    "    .option(\"header\", True)\\\n",
    "    .option(\"inferSchema\", True)\\\n",
    "    .csv(\"shared/hw2/populationbycountry19802010millions.csv\")\n",
    "\n",
    "pop.printSchema()\n",
    "pop.limit(5)"
   ]
  },
  {
   "cell_type": "code",
   "execution_count": 23,
   "id": "8cc03f5d-1ef8-4826-8920-e90ab547d753",
   "metadata": {},
   "outputs": [
    {
     "data": {
      "text/html": [
       "<table border='1'>\n",
       "<tr><th>_c0</th><th>1980</th><th>1981</th><th>1982</th><th>1983</th><th>1984</th><th>1985</th><th>1986</th><th>1987</th><th>1988</th><th>1989</th><th>1990</th><th>1991</th><th>1992</th><th>1993</th><th>1994</th><th>1995</th><th>1996</th><th>1997</th><th>1998</th><th>1999</th><th>2000</th><th>2001</th><th>2002</th><th>2003</th><th>2004</th><th>2005</th><th>2006</th><th>2007</th><th>2008</th><th>2009</th><th>2010</th><th>_1981</th><th>_1982</th><th>_1983</th><th>_1984</th><th>_1985</th><th>_1986</th><th>_1987</th><th>_1988</th><th>_1989</th><th>_1990</th><th>_1991</th><th>_1992</th><th>_1993</th><th>_1994</th><th>_1995</th><th>_1996</th><th>_1997</th><th>_1998</th><th>_1999</th><th>_2000</th><th>_2001</th><th>_2002</th><th>_2003</th><th>_2004</th><th>_2005</th><th>_2006</th><th>_2007</th><th>_2008</th><th>_2009</th><th>_2010</th></tr>\n",
       "<tr><td>North America</td><td>320.27638</td><td>324.44694</td><td>328.62014</td><td>332.72487</td><td>336.72143</td><td>340.74811</td><td>344.89548</td><td>349.07829</td><td>353.2939</td><td>357.68457</td><td>362.4468</td><td>367.70684</td><td>373.29069</td><td>378.74233</td><td>383.9166</td><td>388.97216</td><td>393.9428</td><td>398.97205</td><td>403.85585</td><td>408.60296</td><td>413.3245</td><td>417.83236</td><td>422.05268</td><td>426.06238</td><td>430.26938</td><td>434.47232</td><td>438.82964</td><td>443.3473</td><td>447.67394</td><td>451.83698</td><td>456.59331</td><td>0.013021753274468651</td><td>0.01286250380416597</td><td>0.012490804732783627</td><td>0.012011605865230297</td><td>0.01195849043525385</td><td>0.012171366115574416</td><td>0.01212776114085334</td><td>0.012076402688921236</td><td>0.012427811518964806</td><td>0.01331404930327296</td><td>0.014512585019373888</td><td>0.015185602748102222</td><td>0.014604275290123089</td><td>0.013661715604907526</td><td>0.013168380841047137</td><td>0.012778909421178122</td><td>0.012766447311640288</td><td>0.012240957731249471</td><td>0.01175446635228887</td><td>0.011555325003029847</td><td>0.010906345982393963</td><td>0.010100510166326073</td><td>0.009500472784582268</td><td>0.009874140964992012</td><td>0.00976815965849118</td><td>0.010028993331496833</td><td>0.010294792302543727</td><td>0.009759030899703229</td><td>0.009299268123581119</td><td>0.0105266505632186</td></tr>\n",
       "<tr><td>Bermuda</td><td>0.05473</td><td>0.05491</td><td>0.05517</td><td>0.05551</td><td>0.05585</td><td>0.05618</td><td>0.05651</td><td>0.05683</td><td>0.05717</td><td>0.05749</td><td>0.05778</td><td>0.0581</td><td>0.0587</td><td>0.05924</td><td>0.05975</td><td>0.06029</td><td>0.06087</td><td>0.06145</td><td>0.06198</td><td>0.06251</td><td>0.06306</td><td>0.06361</td><td>0.06418</td><td>0.06476</td><td>0.06534</td><td>0.06591</td><td>0.06644</td><td>0.06692</td><td>0.06739</td><td>0.06784</td><td>0.06827</td><td>0.003288872647542474</td><td>0.004735020943361798</td><td>0.006162769621170927</td><td>0.006125022518465142</td><td>0.005908683974932926</td><td>0.005873976504093929</td><td>0.005662714563794034</td><td>0.005982755586837939</td><td>0.005597341262900137</td><td>0.005044355540093905</td><td>0.005538248528902749</td><td>0.010327022375215203</td><td>0.009199318568994868</td><td>0.00860904794058063</td><td>0.009037656903765788</td><td>0.009620169182285572</td><td>0.00952850336783304</td><td>0.00862489829129378</td><td>0.008551145530816325</td><td>0.008798592225244102</td><td>0.00872185220424984</td><td>0.008960855211444758</td><td>0.00903708320349014</td><td>0.008956145768993163</td><td>0.008723599632690558</td><td>0.008041268396298023</td><td>0.007224563515954159</td><td>0.007023311416617037</td><td>0.006677548597714...</td><td>0.006338443396226413</td></tr>\n",
       "<tr><td>Canada</td><td>24.5933</td><td>24.9</td><td>25.2019</td><td>25.4563</td><td>25.7018</td><td>25.9416</td><td>26.2038</td><td>26.5497</td><td>26.8948</td><td>27.3793</td><td>27.7906</td><td>28.1179</td><td>28.54489</td><td>28.95334</td><td>29.33081</td><td>29.69053</td><td>30.02632</td><td>30.3056</td><td>30.55166</td><td>30.82026</td><td>31.09956</td><td>31.37674</td><td>31.64096</td><td>31.88931</td><td>32.13476</td><td>32.38638</td><td>32.65668</td><td>32.93596</td><td>33.2127</td><td>33.48721</td><td>33.75974</td><td>0.012470876214253447</td><td>0.012124497991967865</td><td>0.01009447700371799</td><td>0.009643978111508736</td><td>0.009330085830564492</td><td>0.010107317975760938</td><td>0.013200375518054645</td><td>0.012998263633863983</td><td>0.01801463479929208</td><td>0.015022297867366976</td><td>0.011777363568976469</td><td>0.015185700212320265</td><td>0.014309040952688975</td><td>0.013037183274882928</td><td>0.012264236821281083</td><td>0.011309666752328078</td><td>0.009301173104129977</td><td>0.008119291484082148</td><td>0.008791666312076098</td><td>0.009062220759980585</td><td>0.00891266628852631</td><td>0.008420887574681056</td><td>0.007849003317219152</td><td>0.007696936685052193</td><td>0.007830150279634969</td><td>0.008346101046180488</td><td>0.008552002224353485</td><td>0.008402366289004379</td><td>0.008265211801509645</td><td>0.008138331022500927</td></tr>\n",
       "<tr><td>Greenland</td><td>0.05021</td><td>0.05103</td><td>0.05166</td><td>0.05211</td><td>0.05263</td><td>0.05315</td><td>0.05364</td><td>0.0541</td><td>0.05485</td><td>0.05541</td><td>0.05563</td><td>0.05554</td><td>0.05549</td><td>0.05564</td><td>0.05592</td><td>0.05619</td><td>0.05634</td><td>0.05651</td><td>0.05661</td><td>0.0567</td><td>0.05689</td><td>0.05713</td><td>0.05736</td><td>0.05754</td><td>0.0577</td><td>0.05778</td><td>0.05764</td><td>0.05753</td><td>0.05756</td><td>0.0576</td><td>0.05764</td><td>0.016331408086038664</td><td>0.012345679012345652</td><td>0.008710801393728203</td><td>0.009978890807906479</td><td>0.009880296408892259</td><td>0.009219190968955735</td><td>0.008575689783743514</td><td>0.013863216266173765</td><td>0.010209662716499507</td><td>0.003970402454430572</td><td>-0.00161783210497...</td><td>-9.00252070579788...</td><td>0.002703189763921505</td><td>0.00503235082674327</td><td>0.004828326180257501</td><td>0.002669514148425...</td><td>0.003017394391196247</td><td>0.001769598301185...</td><td>0.001589825119236...</td><td>0.003350970017636...</td><td>0.004218667604148307</td><td>0.004025905828811501</td><td>0.003138075313807...</td><td>0.002780674313521...</td><td>0.001386481802426...</td><td>-0.00242298373139...</td><td>-0.00190839694656...</td><td>5.214670606640405E-4</td><td>6.949270326615422E-4</td><td>6.944444444444162E-4</td></tr>\n",
       "<tr><td>Mexico</td><td>68.34748</td><td>69.96926</td><td>71.6409</td><td>73.36288</td><td>75.08014</td><td>76.76723</td><td>78.44243</td><td>80.12249</td><td>81.78182</td><td>83.36684</td><td>84.91365</td><td>86.48803</td><td>88.11103</td><td>89.74914</td><td>91.3379</td><td>92.88035</td><td>94.39858</td><td>95.89515</td><td>97.32506</td><td>98.61691</td><td>99.92662</td><td>101.24696</td><td>102.47993</td><td>103.71806</td><td>104.95959</td><td>106.2029</td><td>107.44953</td><td>108.70089</td><td>109.9554</td><td>111.21179</td><td>112.46886</td><td>0.02372845348504438</td><td>0.02389106301824539</td><td>0.024036269784438805</td><td>0.02340775062265816</td><td>0.022470522830671302</td><td>0.021821811207725014</td><td>0.02141774547269886</td><td>0.0207099155305832</td><td>0.01938108004933126</td><td>0.018554259703258608</td><td>0.018540953074093397</td><td>0.018765602592636283</td><td>0.018591429472564303</td><td>0.017702230907170897</td><td>0.01688729432141534</td><td>0.016346083967168388</td><td>0.01585373424049393</td><td>0.01491118163953018</td><td>0.013273559759428979</td><td>0.01328078521219125</td><td>0.013213095769675805</td><td>0.012177847117582538</td><td>0.012081682725583421</td><td>0.011970239319941114</td><td>0.01184560648531491</td><td>0.011738191706629444</td><td>0.011646025813235343</td><td>0.011540935865382485</td><td>0.011426360142384968</td><td>0.011303387887201645</td></tr>\n",
       "</table>\n"
      ],
      "text/plain": [
       "+-------------+---------+---------+---------+---------+---------+---------+---------+---------+--------+---------+--------+---------+---------+---------+--------+---------+--------+---------+---------+---------+--------+---------+---------+---------+---------+---------+---------+---------+---------+---------+---------+--------------------+--------------------+--------------------+--------------------+--------------------+--------------------+--------------------+--------------------+--------------------+--------------------+--------------------+--------------------+--------------------+--------------------+--------------------+--------------------+--------------------+--------------------+--------------------+--------------------+--------------------+--------------------+--------------------+--------------------+--------------------+--------------------+--------------------+--------------------+--------------------+--------------------+\n",
       "|          _c0|     1980|     1981|     1982|     1983|     1984|     1985|     1986|     1987|    1988|     1989|    1990|     1991|     1992|     1993|    1994|     1995|    1996|     1997|     1998|     1999|    2000|     2001|     2002|     2003|     2004|     2005|     2006|     2007|     2008|     2009|     2010|               _1981|               _1982|               _1983|               _1984|               _1985|               _1986|               _1987|               _1988|               _1989|               _1990|               _1991|               _1992|               _1993|               _1994|               _1995|               _1996|               _1997|               _1998|               _1999|               _2000|               _2001|               _2002|               _2003|               _2004|               _2005|               _2006|               _2007|               _2008|               _2009|               _2010|\n",
       "+-------------+---------+---------+---------+---------+---------+---------+---------+---------+--------+---------+--------+---------+---------+---------+--------+---------+--------+---------+---------+---------+--------+---------+---------+---------+---------+---------+---------+---------+---------+---------+---------+--------------------+--------------------+--------------------+--------------------+--------------------+--------------------+--------------------+--------------------+--------------------+--------------------+--------------------+--------------------+--------------------+--------------------+--------------------+--------------------+--------------------+--------------------+--------------------+--------------------+--------------------+--------------------+--------------------+--------------------+--------------------+--------------------+--------------------+--------------------+--------------------+--------------------+\n",
       "|North America|320.27638|324.44694|328.62014|332.72487|336.72143|340.74811|344.89548|349.07829|353.2939|357.68457|362.4468|367.70684|373.29069|378.74233|383.9166|388.97216|393.9428|398.97205|403.85585|408.60296|413.3245|417.83236|422.05268|426.06238|430.26938|434.47232|438.82964| 443.3473|447.67394|451.83698|456.59331|0.013021753274468651| 0.01286250380416597|0.012490804732783627|0.012011605865230297| 0.01195849043525385|0.012171366115574416| 0.01212776114085334|0.012076402688921236|0.012427811518964806| 0.01331404930327296|0.014512585019373888|0.015185602748102222|0.014604275290123089|0.013661715604907526|0.013168380841047137|0.012778909421178122|0.012766447311640288|0.012240957731249471| 0.01175446635228887|0.011555325003029847|0.010906345982393963|0.010100510166326073|0.009500472784582268|0.009874140964992012| 0.00976815965849118|0.010028993331496833|0.010294792302543727|0.009759030899703229|0.009299268123581119|  0.0105266505632186|\n",
       "|      Bermuda|  0.05473|  0.05491|  0.05517|  0.05551|  0.05585|  0.05618|  0.05651|  0.05683| 0.05717|  0.05749| 0.05778|   0.0581|   0.0587|  0.05924| 0.05975|  0.06029| 0.06087|  0.06145|  0.06198|  0.06251| 0.06306|  0.06361|  0.06418|  0.06476|  0.06534|  0.06591|  0.06644|  0.06692|  0.06739|  0.06784|  0.06827|0.003288872647542474|0.004735020943361798|0.006162769621170927|0.006125022518465142|0.005908683974932926|0.005873976504093929|0.005662714563794034|0.005982755586837939|0.005597341262900137|0.005044355540093905|0.005538248528902749|0.010327022375215203|0.009199318568994868| 0.00860904794058063|0.009037656903765788|0.009620169182285572| 0.00952850336783304| 0.00862489829129378|0.008551145530816325|0.008798592225244102| 0.00872185220424984|0.008960855211444758| 0.00903708320349014|0.008956145768993163|0.008723599632690558|0.008041268396298023|0.007224563515954159|0.007023311416617037|0.006677548597714...|0.006338443396226413|\n",
       "|       Canada|  24.5933|     24.9|  25.2019|  25.4563|  25.7018|  25.9416|  26.2038|  26.5497| 26.8948|  27.3793| 27.7906|  28.1179| 28.54489| 28.95334|29.33081| 29.69053|30.02632|  30.3056| 30.55166| 30.82026|31.09956| 31.37674| 31.64096| 31.88931| 32.13476| 32.38638| 32.65668| 32.93596|  33.2127| 33.48721| 33.75974|0.012470876214253447|0.012124497991967865| 0.01009447700371799|0.009643978111508736|0.009330085830564492|0.010107317975760938|0.013200375518054645|0.012998263633863983| 0.01801463479929208|0.015022297867366976|0.011777363568976469|0.015185700212320265|0.014309040952688975|0.013037183274882928|0.012264236821281083|0.011309666752328078|0.009301173104129977|0.008119291484082148|0.008791666312076098|0.009062220759980585| 0.00891266628852631|0.008420887574681056|0.007849003317219152|0.007696936685052193|0.007830150279634969|0.008346101046180488|0.008552002224353485|0.008402366289004379|0.008265211801509645|0.008138331022500927|\n",
       "|    Greenland|  0.05021|  0.05103|  0.05166|  0.05211|  0.05263|  0.05315|  0.05364|   0.0541| 0.05485|  0.05541| 0.05563|  0.05554|  0.05549|  0.05564| 0.05592|  0.05619| 0.05634|  0.05651|  0.05661|   0.0567| 0.05689|  0.05713|  0.05736|  0.05754|   0.0577|  0.05778|  0.05764|  0.05753|  0.05756|   0.0576|  0.05764|0.016331408086038664|0.012345679012345652|0.008710801393728203|0.009978890807906479|0.009880296408892259|0.009219190968955735|0.008575689783743514|0.013863216266173765|0.010209662716499507|0.003970402454430572|-0.00161783210497...|-9.00252070579788...|0.002703189763921505| 0.00503235082674327|0.004828326180257501|0.002669514148425...|0.003017394391196247|0.001769598301185...|0.001589825119236...|0.003350970017636...|0.004218667604148307|0.004025905828811501|0.003138075313807...|0.002780674313521...|0.001386481802426...|-0.00242298373139...|-0.00190839694656...|5.214670606640405E-4|6.949270326615422E-4|6.944444444444162E-4|\n",
       "|       Mexico| 68.34748| 69.96926|  71.6409| 73.36288| 75.08014| 76.76723| 78.44243| 80.12249|81.78182| 83.36684|84.91365| 86.48803| 88.11103| 89.74914| 91.3379| 92.88035|94.39858| 95.89515| 97.32506| 98.61691|99.92662|101.24696|102.47993|103.71806|104.95959| 106.2029|107.44953|108.70089| 109.9554|111.21179|112.46886| 0.02372845348504438| 0.02389106301824539|0.024036269784438805| 0.02340775062265816|0.022470522830671302|0.021821811207725014| 0.02141774547269886|  0.0207099155305832| 0.01938108004933126|0.018554259703258608|0.018540953074093397|0.018765602592636283|0.018591429472564303|0.017702230907170897| 0.01688729432141534|0.016346083967168388| 0.01585373424049393| 0.01491118163953018|0.013273559759428979| 0.01328078521219125|0.013213095769675805|0.012177847117582538|0.012081682725583421|0.011970239319941114| 0.01184560648531491|0.011738191706629444|0.011646025813235343|0.011540935865382485|0.011426360142384968|0.011303387887201645|\n",
       "+-------------+---------+---------+---------+---------+---------+---------+---------+---------+--------+---------+--------+---------+---------+---------+--------+---------+--------+---------+---------+---------+--------+---------+---------+---------+---------+---------+---------+---------+---------+---------+---------+--------------------+--------------------+--------------------+--------------------+--------------------+--------------------+--------------------+--------------------+--------------------+--------------------+--------------------+--------------------+--------------------+--------------------+--------------------+--------------------+--------------------+--------------------+--------------------+--------------------+--------------------+--------------------+--------------------+--------------------+--------------------+--------------------+--------------------+--------------------+--------------------+--------------------+"
      ]
     },
     "execution_count": 23,
     "metadata": {},
     "output_type": "execute_result"
    }
   ],
   "source": [
    "# can do this manually or in a loop\n",
    "\n",
    "# compute percent change year over year\n",
    "years = range(1981, 2011)\n",
    "for year in years:\n",
    "    pop = pop.withColumn(\"_\" + str(year), (col(str(year)) - col(str(year-1))) / col(str(year-1)))\n",
    "    \n",
    "pop.limit(5)"
   ]
  },
  {
   "cell_type": "code",
   "execution_count": 24,
   "id": "5a49df1f-feed-4dbc-8ca9-e512ef7ea1fa",
   "metadata": {},
   "outputs": [
    {
     "data": {
      "text/html": [
       "<table border='1'>\n",
       "<tr><th>_c0</th><th>1981</th><th>1982</th><th>1983</th><th>1984</th><th>1985</th><th>1986</th><th>1987</th><th>1988</th><th>1989</th><th>1990</th><th>1991</th><th>1992</th><th>1993</th><th>1994</th><th>1995</th><th>1996</th><th>1997</th><th>1998</th><th>1999</th><th>2000</th><th>2001</th><th>2002</th><th>2003</th><th>2004</th><th>2005</th><th>2006</th><th>2007</th><th>2008</th><th>2009</th><th>2010</th></tr>\n",
       "<tr><td>North America</td><td>0.013021753274468651</td><td>0.01286250380416597</td><td>0.012490804732783627</td><td>0.012011605865230297</td><td>0.01195849043525385</td><td>0.012171366115574416</td><td>0.01212776114085334</td><td>0.012076402688921236</td><td>0.012427811518964806</td><td>0.01331404930327296</td><td>0.014512585019373888</td><td>0.015185602748102222</td><td>0.014604275290123089</td><td>0.013661715604907526</td><td>0.013168380841047137</td><td>0.012778909421178122</td><td>0.012766447311640288</td><td>0.012240957731249471</td><td>0.01175446635228887</td><td>0.011555325003029847</td><td>0.010906345982393963</td><td>0.010100510166326073</td><td>0.009500472784582268</td><td>0.009874140964992012</td><td>0.00976815965849118</td><td>0.010028993331496833</td><td>0.010294792302543727</td><td>0.009759030899703229</td><td>0.009299268123581119</td><td>0.0105266505632186</td></tr>\n",
       "<tr><td>Bermuda</td><td>0.003288872647542474</td><td>0.004735020943361798</td><td>0.006162769621170927</td><td>0.006125022518465142</td><td>0.005908683974932926</td><td>0.005873976504093929</td><td>0.005662714563794034</td><td>0.005982755586837939</td><td>0.005597341262900137</td><td>0.005044355540093905</td><td>0.005538248528902749</td><td>0.010327022375215203</td><td>0.009199318568994868</td><td>0.00860904794058063</td><td>0.009037656903765788</td><td>0.009620169182285572</td><td>0.00952850336783304</td><td>0.00862489829129378</td><td>0.008551145530816325</td><td>0.008798592225244102</td><td>0.00872185220424984</td><td>0.008960855211444758</td><td>0.00903708320349014</td><td>0.008956145768993163</td><td>0.008723599632690558</td><td>0.008041268396298023</td><td>0.007224563515954159</td><td>0.007023311416617037</td><td>0.006677548597714...</td><td>0.006338443396226413</td></tr>\n",
       "<tr><td>Canada</td><td>0.012470876214253447</td><td>0.012124497991967865</td><td>0.01009447700371799</td><td>0.009643978111508736</td><td>0.009330085830564492</td><td>0.010107317975760938</td><td>0.013200375518054645</td><td>0.012998263633863983</td><td>0.01801463479929208</td><td>0.015022297867366976</td><td>0.011777363568976469</td><td>0.015185700212320265</td><td>0.014309040952688975</td><td>0.013037183274882928</td><td>0.012264236821281083</td><td>0.011309666752328078</td><td>0.009301173104129977</td><td>0.008119291484082148</td><td>0.008791666312076098</td><td>0.009062220759980585</td><td>0.00891266628852631</td><td>0.008420887574681056</td><td>0.007849003317219152</td><td>0.007696936685052193</td><td>0.007830150279634969</td><td>0.008346101046180488</td><td>0.008552002224353485</td><td>0.008402366289004379</td><td>0.008265211801509645</td><td>0.008138331022500927</td></tr>\n",
       "<tr><td>Greenland</td><td>0.016331408086038664</td><td>0.012345679012345652</td><td>0.008710801393728203</td><td>0.009978890807906479</td><td>0.009880296408892259</td><td>0.009219190968955735</td><td>0.008575689783743514</td><td>0.013863216266173765</td><td>0.010209662716499507</td><td>0.003970402454430572</td><td>-0.00161783210497...</td><td>-9.00252070579788...</td><td>0.002703189763921505</td><td>0.00503235082674327</td><td>0.004828326180257501</td><td>0.002669514148425...</td><td>0.003017394391196247</td><td>0.001769598301185...</td><td>0.001589825119236...</td><td>0.003350970017636...</td><td>0.004218667604148307</td><td>0.004025905828811501</td><td>0.003138075313807...</td><td>0.002780674313521...</td><td>0.001386481802426...</td><td>-0.00242298373139...</td><td>-0.00190839694656...</td><td>5.214670606640405E-4</td><td>6.949270326615422E-4</td><td>6.944444444444162E-4</td></tr>\n",
       "<tr><td>Mexico</td><td>0.02372845348504438</td><td>0.02389106301824539</td><td>0.024036269784438805</td><td>0.02340775062265816</td><td>0.022470522830671302</td><td>0.021821811207725014</td><td>0.02141774547269886</td><td>0.0207099155305832</td><td>0.01938108004933126</td><td>0.018554259703258608</td><td>0.018540953074093397</td><td>0.018765602592636283</td><td>0.018591429472564303</td><td>0.017702230907170897</td><td>0.01688729432141534</td><td>0.016346083967168388</td><td>0.01585373424049393</td><td>0.01491118163953018</td><td>0.013273559759428979</td><td>0.01328078521219125</td><td>0.013213095769675805</td><td>0.012177847117582538</td><td>0.012081682725583421</td><td>0.011970239319941114</td><td>0.01184560648531491</td><td>0.011738191706629444</td><td>0.011646025813235343</td><td>0.011540935865382485</td><td>0.011426360142384968</td><td>0.011303387887201645</td></tr>\n",
       "</table>\n"
      ],
      "text/plain": [
       "+-------------+--------------------+--------------------+--------------------+--------------------+--------------------+--------------------+--------------------+--------------------+--------------------+--------------------+--------------------+--------------------+--------------------+--------------------+--------------------+--------------------+--------------------+--------------------+--------------------+--------------------+--------------------+--------------------+--------------------+--------------------+--------------------+--------------------+--------------------+--------------------+--------------------+--------------------+\n",
       "|          _c0|                1981|                1982|                1983|                1984|                1985|                1986|                1987|                1988|                1989|                1990|                1991|                1992|                1993|                1994|                1995|                1996|                1997|                1998|                1999|                2000|                2001|                2002|                2003|                2004|                2005|                2006|                2007|                2008|                2009|                2010|\n",
       "+-------------+--------------------+--------------------+--------------------+--------------------+--------------------+--------------------+--------------------+--------------------+--------------------+--------------------+--------------------+--------------------+--------------------+--------------------+--------------------+--------------------+--------------------+--------------------+--------------------+--------------------+--------------------+--------------------+--------------------+--------------------+--------------------+--------------------+--------------------+--------------------+--------------------+--------------------+\n",
       "|North America|0.013021753274468651| 0.01286250380416597|0.012490804732783627|0.012011605865230297| 0.01195849043525385|0.012171366115574416| 0.01212776114085334|0.012076402688921236|0.012427811518964806| 0.01331404930327296|0.014512585019373888|0.015185602748102222|0.014604275290123089|0.013661715604907526|0.013168380841047137|0.012778909421178122|0.012766447311640288|0.012240957731249471| 0.01175446635228887|0.011555325003029847|0.010906345982393963|0.010100510166326073|0.009500472784582268|0.009874140964992012| 0.00976815965849118|0.010028993331496833|0.010294792302543727|0.009759030899703229|0.009299268123581119|  0.0105266505632186|\n",
       "|      Bermuda|0.003288872647542474|0.004735020943361798|0.006162769621170927|0.006125022518465142|0.005908683974932926|0.005873976504093929|0.005662714563794034|0.005982755586837939|0.005597341262900137|0.005044355540093905|0.005538248528902749|0.010327022375215203|0.009199318568994868| 0.00860904794058063|0.009037656903765788|0.009620169182285572| 0.00952850336783304| 0.00862489829129378|0.008551145530816325|0.008798592225244102| 0.00872185220424984|0.008960855211444758| 0.00903708320349014|0.008956145768993163|0.008723599632690558|0.008041268396298023|0.007224563515954159|0.007023311416617037|0.006677548597714...|0.006338443396226413|\n",
       "|       Canada|0.012470876214253447|0.012124497991967865| 0.01009447700371799|0.009643978111508736|0.009330085830564492|0.010107317975760938|0.013200375518054645|0.012998263633863983| 0.01801463479929208|0.015022297867366976|0.011777363568976469|0.015185700212320265|0.014309040952688975|0.013037183274882928|0.012264236821281083|0.011309666752328078|0.009301173104129977|0.008119291484082148|0.008791666312076098|0.009062220759980585| 0.00891266628852631|0.008420887574681056|0.007849003317219152|0.007696936685052193|0.007830150279634969|0.008346101046180488|0.008552002224353485|0.008402366289004379|0.008265211801509645|0.008138331022500927|\n",
       "|    Greenland|0.016331408086038664|0.012345679012345652|0.008710801393728203|0.009978890807906479|0.009880296408892259|0.009219190968955735|0.008575689783743514|0.013863216266173765|0.010209662716499507|0.003970402454430572|-0.00161783210497...|-9.00252070579788...|0.002703189763921505| 0.00503235082674327|0.004828326180257501|0.002669514148425...|0.003017394391196247|0.001769598301185...|0.001589825119236...|0.003350970017636...|0.004218667604148307|0.004025905828811501|0.003138075313807...|0.002780674313521...|0.001386481802426...|-0.00242298373139...|-0.00190839694656...|5.214670606640405E-4|6.949270326615422E-4|6.944444444444162E-4|\n",
       "|       Mexico| 0.02372845348504438| 0.02389106301824539|0.024036269784438805| 0.02340775062265816|0.022470522830671302|0.021821811207725014| 0.02141774547269886|  0.0207099155305832| 0.01938108004933126|0.018554259703258608|0.018540953074093397|0.018765602592636283|0.018591429472564303|0.017702230907170897| 0.01688729432141534|0.016346083967168388| 0.01585373424049393| 0.01491118163953018|0.013273559759428979| 0.01328078521219125|0.013213095769675805|0.012177847117582538|0.012081682725583421|0.011970239319941114| 0.01184560648531491|0.011738191706629444|0.011646025813235343|0.011540935865382485|0.011426360142384968|0.011303387887201645|\n",
       "+-------------+--------------------+--------------------+--------------------+--------------------+--------------------+--------------------+--------------------+--------------------+--------------------+--------------------+--------------------+--------------------+--------------------+--------------------+--------------------+--------------------+--------------------+--------------------+--------------------+--------------------+--------------------+--------------------+--------------------+--------------------+--------------------+--------------------+--------------------+--------------------+--------------------+--------------------+"
      ]
     },
     "execution_count": 24,
     "metadata": {},
     "output_type": "execute_result"
    }
   ],
   "source": [
    "# clean up the column names; get rid of columns not needed\n",
    "pop = pop.drop(\"1980\")\n",
    "for year in years:\n",
    "    pop = pop.drop(str(year))\n",
    "    pop = pop.withColumnRenamed(\"_\" + str(year), str(year))\n",
    "\n",
    "# pivot the columns as rows\n",
    "pop.limit(5)"
   ]
  },
  {
   "cell_type": "code",
   "execution_count": 25,
   "id": "ebc37f3b-71b5-4c22-8385-f10d23ede1df",
   "metadata": {},
   "outputs": [
    {
     "name": "stdout",
     "output_type": "stream",
     "text": [
      "['1981', '1982', '1983', '1984', '1985', '1986', '1987', '1988', '1989', '1990', '1991', '1992', '1993', '1994', '1995', '1996', '1997', '1998', '1999', '2000', '2001', '2002', '2003', '2004', '2005', '2006', '2007', '2008', '2009', '2010']\n"
     ]
    }
   ],
   "source": [
    "columns = [str(year) for year in years]\n",
    "print(columns)\n"
   ]
  },
  {
   "cell_type": "code",
   "execution_count": 26,
   "id": "58a0dd5b-8f81-4b0a-b083-f638cca3ad8a",
   "metadata": {},
   "outputs": [
    {
     "data": {
      "text/html": [
       "<table border='1'>\n",
       "<tr><th>year</th><th>change</th></tr>\n",
       "<tr><td>1981</td><td>-0.09106330931425992</td></tr>\n",
       "</table>\n"
      ],
      "text/plain": [
       "+----+--------------------+\n",
       "|year|              change|\n",
       "+----+--------------------+\n",
       "|1981|-0.09106330931425992|\n",
       "+----+--------------------+"
      ]
     },
     "execution_count": 26,
     "metadata": {},
     "output_type": "execute_result"
    }
   ],
   "source": [
    "from pyspark.sql.functions import lit\n",
    "change = pop.select(lit(1981).alias(\"year\"), min(\"1981\").alias(\"change\"))\n",
    "change\n"
   ]
  },
  {
   "cell_type": "code",
   "execution_count": 27,
   "id": "00f46014-d37f-4013-a6cf-ee8cda7d4946",
   "metadata": {},
   "outputs": [
    {
     "data": {
      "text/html": [
       "<table border='1'>\n",
       "<tr><th>change</th><th>year</th><th>_c0</th></tr>\n",
       "<tr><td>-0.09106330931425992</td><td>1981</td><td>Afghanistan</td></tr>\n",
       "</table>\n"
      ],
      "text/plain": [
       "+--------------------+----+-----------+\n",
       "|              change|year|        _c0|\n",
       "+--------------------+----+-----------+\n",
       "|-0.09106330931425992|1981|Afghanistan|\n",
       "+--------------------+----+-----------+"
      ]
     },
     "execution_count": 27,
     "metadata": {},
     "output_type": "execute_result"
    }
   ],
   "source": [
    "q5 = change.join(pop.select(col(\"_c0\"),col(\"1981\").alias(\"change\")), on=\"change\", how=\"inner\")\n",
    "q5 \n"
   ]
  },
  {
   "cell_type": "code",
   "execution_count": 28,
   "id": "c32e108b-6d4d-42ca-8ba0-70c0de799840",
   "metadata": {},
   "outputs": [
    {
     "name": "stderr",
     "output_type": "stream",
     "text": [
      "                                                                                \r"
     ]
    },
    {
     "data": {
      "text/html": [
       "<table border='1'>\n",
       "<tr><th>change</th><th>year</th><th>_c0</th></tr>\n",
       "<tr><td>-0.09106330931425992</td><td>1981</td><td>Afghanistan</td></tr>\n",
       "<tr><td>-0.08017227257036874</td><td>1982</td><td>Afghanistan</td></tr>\n",
       "<tr><td>-0.03514189089839...</td><td>1983</td><td>Antigua and Barbuda</td></tr>\n",
       "<tr><td>-0.01752514477293...</td><td>1984</td><td>Antigua and Barbuda</td></tr>\n",
       "<tr><td>-0.01409244644870...</td><td>1985</td><td>Cook Islands</td></tr>\n",
       "<tr><td>-0.24587816552796307</td><td>1986</td><td>Netherlands Antilles</td></tr>\n",
       "<tr><td>-0.21299638989169675</td><td>1987</td><td>Saint Helena</td></tr>\n",
       "<tr><td>-0.02883631837516...</td><td>1988</td><td>Mozambique</td></tr>\n",
       "<tr><td>-0.02196496533102...</td><td>1989</td><td>Somalia</td></tr>\n",
       "<tr><td>-0.12816300240117076</td><td>1990</td><td>Liberia</td></tr>\n",
       "<tr><td>-0.554531619095637</td><td>1991</td><td>Kuwait</td></tr>\n",
       "<tr><td>-0.05387440289087449</td><td>1992</td><td>Somalia</td></tr>\n",
       "<tr><td>-0.07072116841830721</td><td>1993</td><td>Bosnia and Herzeg...</td></tr>\n",
       "<tr><td>-0.14363511428676737</td><td>1994</td><td>Rwanda</td></tr>\n",
       "<tr><td>-0.15871881307134092</td><td>1995</td><td>Rwanda</td></tr>\n",
       "<tr><td>-0.22590068159688406</td><td>1996</td><td>Montserrat</td></tr>\n",
       "<tr><td>-0.25157232704402516</td><td>1997</td><td>Montserrat</td></tr>\n",
       "<tr><td>-0.4319327731092437</td><td>1998</td><td>Montserrat</td></tr>\n",
       "<tr><td>-0.02991944764096...</td><td>1999</td><td>Cook Islands</td></tr>\n",
       "<tr><td>-0.03262158956109125</td><td>2000</td><td>Cook Islands</td></tr>\n",
       "</table>\n",
       "only showing top 20 rows\n"
      ],
      "text/plain": [
       "+--------------------+----+--------------------+\n",
       "|              change|year|                 _c0|\n",
       "+--------------------+----+--------------------+\n",
       "|-0.09106330931425992|1981|         Afghanistan|\n",
       "|-0.08017227257036874|1982|         Afghanistan|\n",
       "|-0.03514189089839...|1983| Antigua and Barbuda|\n",
       "|-0.01752514477293...|1984| Antigua and Barbuda|\n",
       "|-0.01409244644870...|1985|        Cook Islands|\n",
       "|-0.24587816552796307|1986|Netherlands Antilles|\n",
       "|-0.21299638989169675|1987|        Saint Helena|\n",
       "|-0.02883631837516...|1988|          Mozambique|\n",
       "|-0.02196496533102...|1989|             Somalia|\n",
       "|-0.12816300240117076|1990|             Liberia|\n",
       "|  -0.554531619095637|1991|              Kuwait|\n",
       "|-0.05387440289087449|1992|             Somalia|\n",
       "|-0.07072116841830721|1993|Bosnia and Herzeg...|\n",
       "|-0.14363511428676737|1994|              Rwanda|\n",
       "|-0.15871881307134092|1995|              Rwanda|\n",
       "|-0.22590068159688406|1996|          Montserrat|\n",
       "|-0.25157232704402516|1997|          Montserrat|\n",
       "| -0.4319327731092437|1998|          Montserrat|\n",
       "|-0.02991944764096...|1999|        Cook Islands|\n",
       "|-0.03262158956109125|2000|        Cook Islands|\n",
       "+--------------------+----+--------------------+\n",
       "only showing top 20 rows"
      ]
     },
     "execution_count": 28,
     "metadata": {},
     "output_type": "execute_result"
    }
   ],
   "source": [
    "# put it all together - add all other years\n",
    "\n",
    "\n",
    "for year in columns[1:]:\n",
    "    change = pop.select(lit(year).alias(\"year\"), min(year).alias(\"change\"))\n",
    "    q5 = q5.union(change.join(pop.select(col(\"_c0\"),col(year).alias(\"change\")), on=\"change\", how=\"inner\"))\n",
    "    \n",
    "q5\n"
   ]
  },
  {
   "cell_type": "markdown",
   "id": "234ba677-e3b6-4ecd-82f5-f4909e5f51af",
   "metadata": {},
   "source": [
    "## Q6\n",
    "Do word count in pyspark. Ignore punctuation, and normalize to lower case. Accept only the characters in this set: [0-9a-zA-Z]"
   ]
  },
  {
   "cell_type": "code",
   "execution_count": 29,
   "id": "368fc9be",
   "metadata": {},
   "outputs": [
    {
     "data": {
      "text/html": [
       "<table border='1'>\n",
       "<tr><th>value</th></tr>\n",
       "<tr><td></td></tr>\n",
       "<tr><td>This Etext file i...</td></tr>\n",
       "<tr><td>cooperation with ...</td></tr>\n",
       "<tr><td>Future and Shakes...</td></tr>\n",
       "<tr><td>Etexts that are N...</td></tr>\n",
       "</table>\n"
      ],
      "text/plain": [
       "+--------------------+\n",
       "|               value|\n",
       "+--------------------+\n",
       "|                    |\n",
       "|This Etext file i...|\n",
       "|cooperation with ...|\n",
       "|Future and Shakes...|\n",
       "|Etexts that are N...|\n",
       "+--------------------+"
      ]
     },
     "execution_count": 29,
     "metadata": {},
     "output_type": "execute_result"
    }
   ],
   "source": [
    "text = spark.read.text(\"shared/hw2/romeo-juliet-pg1777.txt\")\n",
    "text.limit(5)\n",
    "\n"
   ]
  },
  {
   "cell_type": "code",
   "execution_count": 30,
   "id": "95f769c0-9d51-43f4-bedb-d29c5721037b",
   "metadata": {},
   "outputs": [
    {
     "data": {
      "text/html": [
       "<table border='1'>\n",
       "<tr><th>value</th></tr>\n",
       "<tr><td>this etext file i...</td></tr>\n",
       "<tr><td>cooperation with ...</td></tr>\n",
       "<tr><td>future and shakes...</td></tr>\n",
       "<tr><td>etexts that are n...</td></tr>\n",
       "<tr><td>this etext has ce...</td></tr>\n",
       "</table>\n"
      ],
      "text/plain": [
       "+--------------------+\n",
       "|               value|\n",
       "+--------------------+\n",
       "|this etext file i...|\n",
       "|cooperation with ...|\n",
       "|future and shakes...|\n",
       "|etexts that are n...|\n",
       "|this etext has ce...|\n",
       "+--------------------+"
      ]
     },
     "execution_count": 30,
     "metadata": {},
     "output_type": "execute_result"
    }
   ],
   "source": [
    "# cleanup, spark way\n",
    "from pyspark.sql.functions import lower, regexp_replace, trim, length\n",
    "\n",
    "text = text\\\n",
    "    .withColumn(\"value\", trim(lower(\"value\")))\\\n",
    "    .withColumn(\"value\", regexp_replace(\"value\", \"[^0-9a-z]\", \" \"))\\\n",
    "    .withColumn(\"value\", trim(regexp_replace(\"value\", \"  +\", \" \")))\\\n",
    "    .withColumn(\"value\", regexp_replace(\"value\", \"^ *$\", \"\"))\\\n",
    "    .where(length(\"value\")>0)\n",
    "\n",
    "text.limit(5)"
   ]
  },
  {
   "cell_type": "code",
   "execution_count": 31,
   "id": "80c486c2",
   "metadata": {},
   "outputs": [
    {
     "data": {
      "text/html": [
       "<table border='1'>\n",
       "<tr><th>value</th><th>words</th></tr>\n",
       "<tr><td>this etext file i...</td><td>[this, etext, fil...</td></tr>\n",
       "<tr><td>cooperation with ...</td><td>[cooperation, wit...</td></tr>\n",
       "<tr><td>future and shakes...</td><td>[future, and, sha...</td></tr>\n",
       "<tr><td>etexts that are n...</td><td>[etexts, that, ar...</td></tr>\n",
       "<tr><td>this etext has ce...</td><td>[this, etext, has...</td></tr>\n",
       "</table>\n"
      ],
      "text/plain": [
       "+--------------------+--------------------+\n",
       "|               value|               words|\n",
       "+--------------------+--------------------+\n",
       "|this etext file i...|[this, etext, fil...|\n",
       "|cooperation with ...|[cooperation, wit...|\n",
       "|future and shakes...|[future, and, sha...|\n",
       "|etexts that are n...|[etexts, that, ar...|\n",
       "|this etext has ce...|[this, etext, has...|\n",
       "+--------------------+--------------------+"
      ]
     },
     "execution_count": 31,
     "metadata": {},
     "output_type": "execute_result"
    }
   ],
   "source": [
    "# wordcount\n",
    "from pyspark.sql.functions import split, length\n",
    "\n",
    "wc = text.withColumn(\"words\", split(\"value\", \" \"))\n",
    "wc.limit(5)\n"
   ]
  },
  {
   "cell_type": "code",
   "execution_count": 32,
   "id": "c3c89106-8271-47dd-b7aa-74b0d5ab33c2",
   "metadata": {},
   "outputs": [
    {
     "name": "stderr",
     "output_type": "stream",
     "text": [
      "                                                                                \r"
     ]
    },
    {
     "data": {
      "text/html": [
       "<table border='1'>\n",
       "<tr><th>word</th><th>count</th></tr>\n",
       "<tr><td>those</td><td>17</td></tr>\n",
       "<tr><td>carnegie</td><td>10</td></tr>\n",
       "<tr><td>some</td><td>58</td></tr>\n",
       "<tr><td>chor</td><td>2</td></tr>\n",
       "<tr><td>art</td><td>55</td></tr>\n",
       "<tr><td>still</td><td>15</td></tr>\n",
       "<tr><td>nourish</td><td>1</td></tr>\n",
       "<tr><td>cures</td><td>1</td></tr>\n",
       "<tr><td>solemnity</td><td>3</td></tr>\n",
       "<tr><td>feign</td><td>1</td></tr>\n",
       "<tr><td>imagin</td><td>1</td></tr>\n",
       "<tr><td>consortest</td><td>1</td></tr>\n",
       "<tr><td>pitcher</td><td>1</td></tr>\n",
       "<tr><td>earl</td><td>1</td></tr>\n",
       "<tr><td>hope</td><td>4</td></tr>\n",
       "<tr><td>shroud</td><td>3</td></tr>\n",
       "<tr><td>unfirm</td><td>1</td></tr>\n",
       "<tr><td>embrace</td><td>1</td></tr>\n",
       "<tr><td>often</td><td>4</td></tr>\n",
       "<tr><td>received</td><td>3</td></tr>\n",
       "</table>\n",
       "only showing top 20 rows\n"
      ],
      "text/plain": [
       "+----------+-----+\n",
       "|      word|count|\n",
       "+----------+-----+\n",
       "|     those|   17|\n",
       "|  carnegie|   10|\n",
       "|      some|   58|\n",
       "|      chor|    2|\n",
       "|       art|   55|\n",
       "|     still|   15|\n",
       "|   nourish|    1|\n",
       "|     cures|    1|\n",
       "| solemnity|    3|\n",
       "|     feign|    1|\n",
       "|    imagin|    1|\n",
       "|consortest|    1|\n",
       "|   pitcher|    1|\n",
       "|      earl|    1|\n",
       "|      hope|    4|\n",
       "|    shroud|    3|\n",
       "|    unfirm|    1|\n",
       "|   embrace|    1|\n",
       "|     often|    4|\n",
       "|  received|    3|\n",
       "+----------+-----+\n",
       "only showing top 20 rows"
      ]
     },
     "execution_count": 32,
     "metadata": {},
     "output_type": "execute_result"
    }
   ],
   "source": [
    "from pyspark.sql.functions import explode\n",
    "\n",
    "\n",
    "wc.select(explode(\"words\").alias(\"word\")).groupBy(\"word\").count()"
   ]
  },
  {
   "cell_type": "markdown",
   "id": "6d5a54c5",
   "metadata": {},
   "source": [
    "## Extra Credit Q7\n",
    "For each restaurant (‘Restaurants_in_Durham_County_NC.csv) with “status”=“ACTIVE” and “\"rpt_area_desc\"=\"Food Service\", show the number of foreclosures (‘durham-nc-foreclosure-2006-2016’) within a radius of 1 mile of the restaurant’s coordinates."
   ]
  },
  {
   "cell_type": "code",
   "execution_count": 33,
   "id": "09ba01a1",
   "metadata": {},
   "outputs": [
    {
     "data": {
      "text/html": [
       "<table border='1'>\n",
       "<tr><th>ID</th><th>Premise_Name</th><th>Premise_Address1</th><th>Premise_Address2</th><th>Premise_City</th><th>Premise_State</th><th>Premise_Zip</th><th>Premise_Phone</th><th>Hours_Of_Operation</th><th>Opening_Date</th><th>Closing_Date</th><th>Seats</th><th>Water</th><th>Sewage</th><th>Insp_Freq</th><th>Est_Group_Desc</th><th>Risk</th><th>Smoking_Allowed</th><th>Type_Description</th><th>Rpt_Area_Desc</th><th>Status</th><th>Transitional_Type_Desc</th><th>geolocation</th></tr>\n",
       "<tr><td>56060</td><td>WEST 94TH ST PUB</td><td>4711 HOPE VALLEY RD</td><td>SUITE 6C</td><td>DURHAM</td><td>NC</td><td>27707</td><td>(919) 403-0025</td><td>null</td><td>1994-09-01</td><td>null</td><td>60</td><td>5 - Municipal/Com...</td><td>3 - Municipal/Com...</td><td>4</td><td>Full-Service Rest...</td><td>4</td><td>NO</td><td>1 - Restaurant</td><td>Food Service</td><td>ACTIVE</td><td>FOOD</td><td>35.9207272, -78.9...</td></tr>\n",
       "<tr><td>58123</td><td>BROOKDALE DURHAM IFS</td><td>4434 BEN FRANKLIN...</td><td>null</td><td>DURHAM</td><td>NC</td><td>27704</td><td>(919) 479-9966</td><td>null</td><td>2003-10-15</td><td>null</td><td>350</td><td>5 - Municipal/Com...</td><td>3 - Municipal/Com...</td><td>4</td><td>Nursing Home</td><td>4</td><td>NO</td><td>16 - Institutiona...</td><td>Food Service</td><td>ACTIVE</td><td>FOOD</td><td>36.0467802, -78.8...</td></tr>\n",
       "<tr><td>70266</td><td>SMOOTHIE KING</td><td>1125 W. NC HWY 54...</td><td>null</td><td>DURHAM</td><td>NC</td><td>27707</td><td>(919) 489-7300</td><td>null</td><td>2009-07-09</td><td>null</td><td>7</td><td>5 - Municipal/Com...</td><td>3 - Municipal/Com...</td><td>2</td><td>Fast Food Restaurant</td><td>2</td><td>NO</td><td>1 - Restaurant</td><td>Food Service</td><td>ACTIVE</td><td>FOOD</td><td>35.9182655, -78.9...</td></tr>\n",
       "<tr><td>97837</td><td>HAMPTON INN &amp; SUITES</td><td>1542 N GREGSON ST</td><td>null</td><td>DURHAM</td><td>NC</td><td>27701</td><td>(919) 688-8880</td><td>null</td><td>2012-01-09</td><td>null</td><td>100</td><td>5 - Municipal/Com...</td><td>3 - Municipal/Com...</td><td>2</td><td>Full-Service Rest...</td><td>2</td><td>NO</td><td>1 - Restaurant</td><td>Food Service</td><td>ACTIVE</td><td>FOOD</td><td>36.0183378, -78.9...</td></tr>\n",
       "<tr><td>60690</td><td>BETTER LIVING CON...</td><td>909 GARCIA ST</td><td>null</td><td>DURHAM</td><td>NC</td><td>27704</td><td>(919) 477-5825</td><td>null</td><td>2008-06-02</td><td>null</td><td>6</td><td>5 - Municipal/Com...</td><td>3 - Municipal/Com...</td><td>1</td><td>null</td><td>0</td><td>N/A</td><td>43 - Residential ...</td><td>Residential Care</td><td>ACTIVE</td><td>N/A</td><td>36.0556347, -78.9...</td></tr>\n",
       "</table>\n"
      ],
      "text/plain": [
       "+-----+--------------------+--------------------+----------------+------------+-------------+-----------+--------------+------------------+------------+------------+-----+--------------------+--------------------+---------+--------------------+----+---------------+--------------------+----------------+------+----------------------+--------------------+\n",
       "|   ID|        Premise_Name|    Premise_Address1|Premise_Address2|Premise_City|Premise_State|Premise_Zip| Premise_Phone|Hours_Of_Operation|Opening_Date|Closing_Date|Seats|               Water|              Sewage|Insp_Freq|      Est_Group_Desc|Risk|Smoking_Allowed|    Type_Description|   Rpt_Area_Desc|Status|Transitional_Type_Desc|         geolocation|\n",
       "+-----+--------------------+--------------------+----------------+------------+-------------+-----------+--------------+------------------+------------+------------+-----+--------------------+--------------------+---------+--------------------+----+---------------+--------------------+----------------+------+----------------------+--------------------+\n",
       "|56060|    WEST 94TH ST PUB| 4711 HOPE VALLEY RD|        SUITE 6C|      DURHAM|           NC|      27707|(919) 403-0025|              null|  1994-09-01|        null|   60|5 - Municipal/Com...|3 - Municipal/Com...|        4|Full-Service Rest...|   4|             NO|      1 - Restaurant|    Food Service|ACTIVE|                  FOOD|35.9207272, -78.9...|\n",
       "|58123|BROOKDALE DURHAM IFS|4434 BEN FRANKLIN...|            null|      DURHAM|           NC|      27704|(919) 479-9966|              null|  2003-10-15|        null|  350|5 - Municipal/Com...|3 - Municipal/Com...|        4|        Nursing Home|   4|             NO|16 - Institutiona...|    Food Service|ACTIVE|                  FOOD|36.0467802, -78.8...|\n",
       "|70266|       SMOOTHIE KING|1125 W. NC HWY 54...|            null|      DURHAM|           NC|      27707|(919) 489-7300|              null|  2009-07-09|        null|    7|5 - Municipal/Com...|3 - Municipal/Com...|        2|Fast Food Restaurant|   2|             NO|      1 - Restaurant|    Food Service|ACTIVE|                  FOOD|35.9182655, -78.9...|\n",
       "|97837|HAMPTON INN & SUITES|   1542 N GREGSON ST|            null|      DURHAM|           NC|      27701|(919) 688-8880|              null|  2012-01-09|        null|  100|5 - Municipal/Com...|3 - Municipal/Com...|        2|Full-Service Rest...|   2|             NO|      1 - Restaurant|    Food Service|ACTIVE|                  FOOD|36.0183378, -78.9...|\n",
       "|60690|BETTER LIVING CON...|       909 GARCIA ST|            null|      DURHAM|           NC|      27704|(919) 477-5825|              null|  2008-06-02|        null|    6|5 - Municipal/Com...|3 - Municipal/Com...|        1|                null|   0|            N/A|43 - Residential ...|Residential Care|ACTIVE|                   N/A|36.0556347, -78.9...|\n",
       "+-----+--------------------+--------------------+----------------+------------+-------------+-----------+--------------+------------------+------------+------------+-----+--------------------+--------------------+---------+--------------------+----+---------------+--------------------+----------------+------+----------------------+--------------------+"
      ]
     },
     "execution_count": 33,
     "metadata": {},
     "output_type": "execute_result"
    }
   ],
   "source": [
    "#  from before\n",
    "restaurants.limit(5)"
   ]
  },
  {
   "cell_type": "code",
   "execution_count": 34,
   "id": "87fb54b2",
   "metadata": {},
   "outputs": [
    {
     "name": "stdout",
     "output_type": "stream",
     "text": [
      "root\n",
      " |-- Premise_Name: string (nullable = true)\n",
      " |-- lat1: double (nullable = true)\n",
      " |-- lon1: double (nullable = true)\n",
      " |-- coordinates: array (nullable = false)\n",
      " |    |-- element: double (containsNull = true)\n",
      "\n"
     ]
    },
    {
     "data": {
      "text/html": [
       "<table border='1'>\n",
       "<tr><th>Premise_Name</th><th>lat1</th><th>lon1</th><th>coordinates</th></tr>\n",
       "<tr><td>WEST 94TH ST PUB</td><td>35.9207272</td><td>-78.9573299</td><td>[35.9207272, -78....</td></tr>\n",
       "<tr><td>BROOKDALE DURHAM IFS</td><td>36.0467802</td><td>-78.8895483</td><td>[36.0467802, -78....</td></tr>\n",
       "<tr><td>SMOOTHIE KING</td><td>35.9182655</td><td>-78.9593263</td><td>[35.9182655, -78....</td></tr>\n",
       "<tr><td>HAMPTON INN &amp; SUITES</td><td>36.0183378</td><td>-78.9060312</td><td>[36.0183378, -78....</td></tr>\n",
       "<tr><td>KROGER R 381 MEAT...</td><td>35.9495321</td><td>-78.9211694</td><td>[35.9495321, -78....</td></tr>\n",
       "</table>\n"
      ],
      "text/plain": [
       "+--------------------+----------+-----------+--------------------+\n",
       "|        Premise_Name|      lat1|       lon1|         coordinates|\n",
       "+--------------------+----------+-----------+--------------------+\n",
       "|    WEST 94TH ST PUB|35.9207272|-78.9573299|[35.9207272, -78....|\n",
       "|BROOKDALE DURHAM IFS|36.0467802|-78.8895483|[36.0467802, -78....|\n",
       "|       SMOOTHIE KING|35.9182655|-78.9593263|[35.9182655, -78....|\n",
       "|HAMPTON INN & SUITES|36.0183378|-78.9060312|[36.0183378, -78....|\n",
       "|KROGER R 381 MEAT...|35.9495321|-78.9211694|[35.9495321, -78....|\n",
       "+--------------------+----------+-----------+--------------------+"
      ]
     },
     "execution_count": 34,
     "metadata": {},
     "output_type": "execute_result"
    }
   ],
   "source": [
    "# look only at qualifying restaurants\n",
    "from pyspark.sql import functions as F\n",
    "\n",
    "interesting = restaurants.where('Status = \"ACTIVE\" AND Rpt_Area_Desc = \"Food Service\"')\\\n",
    "    .select(\"Premise_Name\", \"geolocation\")\\\n",
    "    .withColumn(\"point\", F.split(\"geolocation\", \",\"))\\\n",
    "    .withColumn(\"lat1\", F.col(\"point\").getItem(0).cast(\"Double\"))\\\n",
    "    .withColumn(\"lon1\", F.col(\"point\").getItem(1).cast(\"Double\"))\\\n",
    "    .withColumn(\"coordinates\", F.array(F.col(\"lat1\"), F.col(\"lon1\")))\\\n",
    "    .drop(\"geolocation\", \"point\")\n",
    "\n",
    "interesting.printSchema()\n",
    "interesting.limit(5)\n"
   ]
  },
  {
   "cell_type": "code",
   "execution_count": 36,
   "id": "9d1e590a",
   "metadata": {},
   "outputs": [
    {
     "name": "stdout",
     "output_type": "stream",
     "text": [
      "root\n",
      " |-- datasetid: string (nullable = true)\n",
      " |-- fields: struct (nullable = true)\n",
      " |    |-- address: string (nullable = true)\n",
      " |    |-- geocode: array (nullable = true)\n",
      " |    |    |-- element: double (containsNull = true)\n",
      " |    |-- parcel_number: string (nullable = true)\n",
      " |    |-- year: string (nullable = true)\n",
      " |-- geometry: struct (nullable = true)\n",
      " |    |-- coordinates: array (nullable = true)\n",
      " |    |    |-- element: double (containsNull = true)\n",
      " |    |-- type: string (nullable = true)\n",
      " |-- record_timestamp: string (nullable = true)\n",
      " |-- recordid: string (nullable = true)\n",
      "\n"
     ]
    },
    {
     "data": {
      "text/html": [
       "<table border='1'>\n",
       "<tr><th>datasetid</th><th>fields</th><th>geometry</th><th>record_timestamp</th><th>recordid</th></tr>\n",
       "<tr><td>foreclosure-2006-...</td><td>{217 E CORPORATIO...</td><td>{[-78.8922549, 36...</td><td>2017-03-06T12:41:...</td><td>629979c85b1cc68c1...</td></tr>\n",
       "<tr><td>foreclosure-2006-...</td><td>{401 N QUEEN ST, ...</td><td>{[-78.895396, 35....</td><td>2017-03-06T12:41:...</td><td>e3cce8bbc3c9b804c...</td></tr>\n",
       "<tr><td>foreclosure-2006-...</td><td>{403 N QUEEN ST, ...</td><td>{[-78.8950321, 35...</td><td>2017-03-06T12:41:...</td><td>311559ebfeffe7ebc...</td></tr>\n",
       "<tr><td>foreclosure-2006-...</td><td>{918 GILBERT ST, ...</td><td>{[-78.8873774, 35...</td><td>2017-03-06T12:41:...</td><td>7ec0761bd385bab8a...</td></tr>\n",
       "<tr><td>foreclosure-2006-...</td><td>{721 LIBERTY ST, ...</td><td>{[-78.888343, 35....</td><td>2017-03-06T12:41:...</td><td>c81ae2921ffca8125...</td></tr>\n",
       "</table>\n"
      ],
      "text/plain": [
       "+--------------------+--------------------+--------------------+--------------------+--------------------+\n",
       "|           datasetid|              fields|            geometry|    record_timestamp|            recordid|\n",
       "+--------------------+--------------------+--------------------+--------------------+--------------------+\n",
       "|foreclosure-2006-...|{217 E CORPORATIO...|{[-78.8922549, 36...|2017-03-06T12:41:...|629979c85b1cc68c1...|\n",
       "|foreclosure-2006-...|{401 N QUEEN ST, ...|{[-78.895396, 35....|2017-03-06T12:41:...|e3cce8bbc3c9b804c...|\n",
       "|foreclosure-2006-...|{403 N QUEEN ST, ...|{[-78.8950321, 35...|2017-03-06T12:41:...|311559ebfeffe7ebc...|\n",
       "|foreclosure-2006-...|{918 GILBERT ST, ...|{[-78.8873774, 35...|2017-03-06T12:41:...|7ec0761bd385bab8a...|\n",
       "|foreclosure-2006-...|{721 LIBERTY ST, ...|{[-78.888343, 35....|2017-03-06T12:41:...|c81ae2921ffca8125...|\n",
       "+--------------------+--------------------+--------------------+--------------------+--------------------+"
      ]
     },
     "execution_count": 36,
     "metadata": {},
     "output_type": "execute_result"
    }
   ],
   "source": [
    "#  load the second dataset\n",
    "foreclosures = spark.read.json(\"shared/hw2/durham-nc-foreclosure-2006-2016.json\")\n",
    "foreclosures.printSchema()\n",
    "foreclosures.limit(5)"
   ]
  },
  {
   "cell_type": "code",
   "execution_count": 37,
   "id": "a192b018",
   "metadata": {},
   "outputs": [
    {
     "data": {
      "text/html": [
       "<div>\n",
       "<style scoped>\n",
       "    .dataframe tbody tr th:only-of-type {\n",
       "        vertical-align: middle;\n",
       "    }\n",
       "\n",
       "    .dataframe tbody tr th {\n",
       "        vertical-align: top;\n",
       "    }\n",
       "\n",
       "    .dataframe thead th {\n",
       "        text-align: right;\n",
       "    }\n",
       "</style>\n",
       "<table border=\"1\" class=\"dataframe\">\n",
       "  <thead>\n",
       "    <tr style=\"text-align: right;\">\n",
       "      <th></th>\n",
       "      <th>recordid</th>\n",
       "      <th>geocode</th>\n",
       "      <th>lat2</th>\n",
       "      <th>lon2</th>\n",
       "    </tr>\n",
       "  </thead>\n",
       "  <tbody>\n",
       "    <tr>\n",
       "      <th>0</th>\n",
       "      <td>629979c85b1cc68c1d4ee8cc351050bfe3592c62</td>\n",
       "      <td>[36.0013755, -78.8922549]</td>\n",
       "      <td>36.001376</td>\n",
       "      <td>-78.892255</td>\n",
       "    </tr>\n",
       "    <tr>\n",
       "      <th>1</th>\n",
       "      <td>e3cce8bbc3c9b804cbd87e267a6ff121285274e0</td>\n",
       "      <td>[35.995797, -78.895396]</td>\n",
       "      <td>35.995797</td>\n",
       "      <td>-78.895396</td>\n",
       "    </tr>\n",
       "    <tr>\n",
       "      <th>2</th>\n",
       "      <td>311559ebfeffe7ebc2a8b056a034a24298da08f3</td>\n",
       "      <td>[35.995413, -78.8950321]</td>\n",
       "      <td>35.995413</td>\n",
       "      <td>-78.895032</td>\n",
       "    </tr>\n",
       "    <tr>\n",
       "      <th>3</th>\n",
       "      <td>7ec0761bd385bab8af10f682115a6eb4400740b3</td>\n",
       "      <td>[35.9957683, -78.8873774]</td>\n",
       "      <td>35.995768</td>\n",
       "      <td>-78.887377</td>\n",
       "    </tr>\n",
       "    <tr>\n",
       "      <th>4</th>\n",
       "      <td>c81ae2921ffca8125c2de2fd3e3b1375388cd925</td>\n",
       "      <td>[35.993026, -78.888343]</td>\n",
       "      <td>35.993026</td>\n",
       "      <td>-78.888343</td>\n",
       "    </tr>\n",
       "  </tbody>\n",
       "</table>\n",
       "</div>"
      ],
      "text/plain": [
       "                                   recordid                    geocode  \\\n",
       "0  629979c85b1cc68c1d4ee8cc351050bfe3592c62  [36.0013755, -78.8922549]   \n",
       "1  e3cce8bbc3c9b804cbd87e267a6ff121285274e0    [35.995797, -78.895396]   \n",
       "2  311559ebfeffe7ebc2a8b056a034a24298da08f3   [35.995413, -78.8950321]   \n",
       "3  7ec0761bd385bab8af10f682115a6eb4400740b3  [35.9957683, -78.8873774]   \n",
       "4  c81ae2921ffca8125c2de2fd3e3b1375388cd925    [35.993026, -78.888343]   \n",
       "\n",
       "        lat2       lon2  \n",
       "0  36.001376 -78.892255  \n",
       "1  35.995797 -78.895396  \n",
       "2  35.995413 -78.895032  \n",
       "3  35.995768 -78.887377  \n",
       "4  35.993026 -78.888343  "
      ]
     },
     "execution_count": 37,
     "metadata": {},
     "output_type": "execute_result"
    }
   ],
   "source": [
    "#  get the foreclosure data we want\n",
    "df1 = foreclosures\\\n",
    "    .select(\"recordid\",\"fields.geocode\")\\\n",
    "    .dropna(subset=\"geocode\")\\\n",
    "    .withColumn(\"lat2\", col(\"geocode\").getItem(0))\\\n",
    "    .withColumn(\"lon2\", col(\"geocode\").getItem(1))\n",
    "\n",
    "df1.limit(5).toPandas()"
   ]
  },
  {
   "cell_type": "code",
   "execution_count": 38,
   "id": "6a575545",
   "metadata": {},
   "outputs": [
    {
     "data": {
      "text/html": [
       "<table border='1'>\n",
       "<tr><th>Premise_Name</th><th>lat1</th><th>lon1</th><th>coordinates</th><th>recordid</th><th>geocode</th><th>lat2</th><th>lon2</th></tr>\n",
       "<tr><td>WEST 94TH ST PUB</td><td>35.9207272</td><td>-78.9573299</td><td>[35.9207272, -78....</td><td>629979c85b1cc68c1...</td><td>[36.0013755, -78....</td><td>36.0013755</td><td>-78.8922549</td></tr>\n",
       "<tr><td>BROOKDALE DURHAM IFS</td><td>36.0467802</td><td>-78.8895483</td><td>[36.0467802, -78....</td><td>629979c85b1cc68c1...</td><td>[36.0013755, -78....</td><td>36.0013755</td><td>-78.8922549</td></tr>\n",
       "<tr><td>SMOOTHIE KING</td><td>35.9182655</td><td>-78.9593263</td><td>[35.9182655, -78....</td><td>629979c85b1cc68c1...</td><td>[36.0013755, -78....</td><td>36.0013755</td><td>-78.8922549</td></tr>\n",
       "<tr><td>HAMPTON INN &amp; SUITES</td><td>36.0183378</td><td>-78.9060312</td><td>[36.0183378, -78....</td><td>629979c85b1cc68c1...</td><td>[36.0013755, -78....</td><td>36.0013755</td><td>-78.8922549</td></tr>\n",
       "<tr><td>KROGER R 381 MEAT...</td><td>35.9495321</td><td>-78.9211694</td><td>[35.9495321, -78....</td><td>629979c85b1cc68c1...</td><td>[36.0013755, -78....</td><td>36.0013755</td><td>-78.8922549</td></tr>\n",
       "</table>\n"
      ],
      "text/plain": [
       "+--------------------+----------+-----------+--------------------+--------------------+--------------------+----------+-----------+\n",
       "|        Premise_Name|      lat1|       lon1|         coordinates|            recordid|             geocode|      lat2|       lon2|\n",
       "+--------------------+----------+-----------+--------------------+--------------------+--------------------+----------+-----------+\n",
       "|    WEST 94TH ST PUB|35.9207272|-78.9573299|[35.9207272, -78....|629979c85b1cc68c1...|[36.0013755, -78....|36.0013755|-78.8922549|\n",
       "|BROOKDALE DURHAM IFS|36.0467802|-78.8895483|[36.0467802, -78....|629979c85b1cc68c1...|[36.0013755, -78....|36.0013755|-78.8922549|\n",
       "|       SMOOTHIE KING|35.9182655|-78.9593263|[35.9182655, -78....|629979c85b1cc68c1...|[36.0013755, -78....|36.0013755|-78.8922549|\n",
       "|HAMPTON INN & SUITES|36.0183378|-78.9060312|[36.0183378, -78....|629979c85b1cc68c1...|[36.0013755, -78....|36.0013755|-78.8922549|\n",
       "|KROGER R 381 MEAT...|35.9495321|-78.9211694|[35.9495321, -78....|629979c85b1cc68c1...|[36.0013755, -78....|36.0013755|-78.8922549|\n",
       "+--------------------+----------+-----------+--------------------+--------------------+--------------------+----------+-----------+"
      ]
     },
     "execution_count": 38,
     "metadata": {},
     "output_type": "execute_result"
    }
   ],
   "source": [
    "# combine all \n",
    "df = interesting.crossJoin(df1)\n",
    "df.limit(5)"
   ]
  },
  {
   "cell_type": "code",
   "execution_count": null,
   "id": "3342488b-842d-4085-b988-7ed9e39ad0df",
   "metadata": {},
   "outputs": [],
   "source": [
    "#!pip install haversine"
   ]
  },
  {
   "cell_type": "code",
   "execution_count": 39,
   "id": "c89e9510",
   "metadata": {},
   "outputs": [
    {
     "name": "stdout",
     "output_type": "stream",
     "text": [
      "6.655445922744362\n",
      "6.655445922744362\n",
      "4140.130127121173\n",
      "1.7976931348623157e+308\n",
      "1.7976931348623157e+308\n",
      "1.7976931348623157e+308\n"
     ]
    }
   ],
   "source": [
    "import haversine as H\n",
    "import sys\n",
    "\n",
    "# make a function to compute foreclosures distance in miles - in Python\n",
    "def distance(p1, p2, unit=H.Unit.MILES) -> float:\n",
    "    try:\n",
    "        return H.haversine(p1, p2, unit=unit)\n",
    "    except:\n",
    "        return sys.float_info.max\n",
    "\n",
    "\n",
    "def distance2(lat1, lon1, lat2, lon2, unit=H.Unit.MILES) -> float:\n",
    "    try:\n",
    "        return H.haversine([lat1, lon1], [lat2, lon2],  unit=unit)\n",
    "    except:\n",
    "        return sys.float_info.max\n",
    "    \n",
    "                \n",
    "p1 = [35.9207272, -78.9573299]\n",
    "p2 = [36.0013755, -78.8922549]\n",
    "print(distance(p1, p2))\n",
    "print(distance2(p1[0], p1[1], p2[0], p2[1]))\n",
    "\n",
    "p2 = [-24.0, -78.8922549]\n",
    "print(distance(p1, p2, H.Unit.MILES))\n",
    "\n",
    "print(distance(None, p2, H.Unit.MILES))\n",
    "print(distance([1], [0.2, 0.3], H.Unit.MILES))\n",
    "print(distance(\"\", 0))\n",
    "\n",
    "\n"
   ]
  },
  {
   "cell_type": "code",
   "execution_count": 45,
   "id": "6a8d8a5f",
   "metadata": {},
   "outputs": [
    {
     "name": "stderr",
     "output_type": "stream",
     "text": [
      "                                                                                \r"
     ]
    },
    {
     "data": {
      "text/html": [
       "<table border='1'>\n",
       "<tr><th>Premise_Name</th><th>count</th></tr>\n",
       "<tr><td>DPAC  3RD FLOOR</td><td>267</td></tr>\n",
       "<tr><td>W G PEARSON SCHOO...</td><td>199</td></tr>\n",
       "<tr><td>COMPARE FOODS DELI</td><td>65</td></tr>\n",
       "<tr><td>GSK COMMERCIAL OP...</td><td>1</td></tr>\n",
       "<tr><td>MCDONALD&#x27;S 35265</td><td>17</td></tr>\n",
       "<tr><td>DUKE UNIVERSITY W...</td><td>6</td></tr>\n",
       "<tr><td>BLU SEAFOOD AND BAR</td><td>31</td></tr>\n",
       "<tr><td>JADE BUFFET</td><td>33</td></tr>\n",
       "<tr><td>HARRIS TEETER 172...</td><td>10</td></tr>\n",
       "<tr><td>GRILL 46</td><td>17</td></tr>\n",
       "</table>\n"
      ],
      "text/plain": [
       "+--------------------+-----+\n",
       "|        Premise_Name|count|\n",
       "+--------------------+-----+\n",
       "|     DPAC  3RD FLOOR|  267|\n",
       "|W G PEARSON SCHOO...|  199|\n",
       "|  COMPARE FOODS DELI|   65|\n",
       "|GSK COMMERCIAL OP...|    1|\n",
       "|    MCDONALD'S 35265|   17|\n",
       "|DUKE UNIVERSITY W...|    6|\n",
       "| BLU SEAFOOD AND BAR|   31|\n",
       "|         JADE BUFFET|   33|\n",
       "|HARRIS TEETER 172...|   10|\n",
       "|            GRILL 46|   17|\n",
       "+--------------------+-----+"
      ]
     },
     "execution_count": 45,
     "metadata": {},
     "output_type": "execute_result"
    }
   ],
   "source": [
    "# add a distance cell to each row, filter rows withing the limit, and count restaurants \n",
    "from pyspark.sql.types import DoubleType, ArrayType\n",
    "from pyspark.sql.functions import udf\n",
    "\n",
    "# UDF of our Python function; using arrays\n",
    "udf_distance = F.udf(distance, DoubleType())\n",
    "\n",
    "result = df.withColumn(\"distance\", udf_distance(col(\"coordinates\"), col(\"geocode\")).cast(DoubleType()))\n",
    "result.where(col(\"distance\")<=1).groupBy(\"Premise_Name\").count().limit(10)\n"
   ]
  },
  {
   "cell_type": "code",
   "execution_count": 48,
   "id": "2c7bbf90-fce8-45e8-b872-b14d9237e441",
   "metadata": {},
   "outputs": [
    {
     "name": "stderr",
     "output_type": "stream",
     "text": [
      "                                                                                \r"
     ]
    },
    {
     "data": {
      "text/html": [
       "<table border='1'>\n",
       "<tr><th>Premise_Name</th><th>count</th></tr>\n",
       "<tr><td>DPAC  3RD FLOOR</td><td>267</td></tr>\n",
       "<tr><td>W G PEARSON SCHOO...</td><td>199</td></tr>\n",
       "<tr><td>COMPARE FOODS DELI</td><td>65</td></tr>\n",
       "<tr><td>GSK COMMERCIAL OP...</td><td>1</td></tr>\n",
       "<tr><td>MCDONALD&#x27;S 35265</td><td>17</td></tr>\n",
       "<tr><td>DUKE UNIVERSITY W...</td><td>6</td></tr>\n",
       "<tr><td>BLU SEAFOOD AND BAR</td><td>31</td></tr>\n",
       "<tr><td>JADE BUFFET</td><td>33</td></tr>\n",
       "<tr><td>HARRIS TEETER 172...</td><td>10</td></tr>\n",
       "<tr><td>GRILL 46</td><td>17</td></tr>\n",
       "<tr><td>EL DORADO&#x27;S #6</td><td>5</td></tr>\n",
       "<tr><td>THE BLUE NOTE GRILL</td><td>111</td></tr>\n",
       "<tr><td>CHICK-FIL-A EXPRESS</td><td>6</td></tr>\n",
       "<tr><td>HARRIS TEETER 224...</td><td>9</td></tr>\n",
       "<tr><td>MATEO</td><td>198</td></tr>\n",
       "<tr><td>NZINGA&#x27;S BREAKFAS...</td><td>346</td></tr>\n",
       "<tr><td>SPROUT CAFE</td><td>57</td></tr>\n",
       "<tr><td>WENDY&#x27;S 6316</td><td>39</td></tr>\n",
       "<tr><td>LA SUPERIOR MEAT ...</td><td>39</td></tr>\n",
       "<tr><td>PAGE ROAD GRILL</td><td>2</td></tr>\n",
       "</table>\n",
       "only showing top 20 rows\n"
      ],
      "text/plain": [
       "+--------------------+-----+\n",
       "|        Premise_Name|count|\n",
       "+--------------------+-----+\n",
       "|     DPAC  3RD FLOOR|  267|\n",
       "|W G PEARSON SCHOO...|  199|\n",
       "|  COMPARE FOODS DELI|   65|\n",
       "|GSK COMMERCIAL OP...|    1|\n",
       "|    MCDONALD'S 35265|   17|\n",
       "|DUKE UNIVERSITY W...|    6|\n",
       "| BLU SEAFOOD AND BAR|   31|\n",
       "|         JADE BUFFET|   33|\n",
       "|HARRIS TEETER 172...|   10|\n",
       "|            GRILL 46|   17|\n",
       "|      EL DORADO'S #6|    5|\n",
       "| THE BLUE NOTE GRILL|  111|\n",
       "| CHICK-FIL-A EXPRESS|    6|\n",
       "|HARRIS TEETER 224...|    9|\n",
       "|               MATEO|  198|\n",
       "|NZINGA'S BREAKFAS...|  346|\n",
       "|         SPROUT CAFE|   57|\n",
       "|        WENDY'S 6316|   39|\n",
       "|LA SUPERIOR MEAT ...|   39|\n",
       "|     PAGE ROAD GRILL|    2|\n",
       "+--------------------+-----+\n",
       "only showing top 20 rows"
      ]
     },
     "execution_count": 48,
     "metadata": {},
     "output_type": "execute_result"
    }
   ],
   "source": [
    "# can also be done via individual lat,lon values...\n",
    "\n",
    "from pyspark.sql.functions import udf\n",
    "from pyspark.sql.types import DoubleType\n",
    "\n",
    "udf_distance2 = udf(distance2, DoubleType())\n",
    "\n",
    "df\\\n",
    "    .select(\"Premise_Name\", udf_distance2(\"lat1\",\"lon1\",\"lat2\",\"lon2\").alias(\"distance\"))\\\n",
    "    .where(\"distance <= 1.0\")\\\n",
    "    .groupBy(\"Premise_Name\").count()\n"
   ]
  },
  {
   "cell_type": "code",
   "execution_count": null,
   "id": "2018035b",
   "metadata": {},
   "outputs": [],
   "source": []
  }
 ],
 "metadata": {
  "kernelspec": {
   "display_name": "Python 3 (ipykernel)",
   "language": "python",
   "name": "python3"
  },
  "language_info": {
   "codemirror_mode": {
    "name": "ipython",
    "version": 3
   },
   "file_extension": ".py",
   "mimetype": "text/x-python",
   "name": "python",
   "nbconvert_exporter": "python",
   "pygments_lexer": "ipython3",
   "version": "3.8.16"
  }
 },
 "nbformat": 4,
 "nbformat_minor": 5
}
