{
 "cells": [
  {
   "cell_type": "markdown",
   "id": "a0a11e5d-b62b-4b17-b253-59d45e80f727",
   "metadata": {},
   "source": [
    "# Assignment 2 - Spark Dataframes\n",
    "***Note***: All the dataset files were stored in the same folder as this notebook."
   ]
  },
  {
   "cell_type": "code",
   "execution_count": 1,
   "id": "bda4be81-c73e-459b-a426-209b94e4631b",
   "metadata": {
    "tags": []
   },
   "outputs": [
    {
     "data": {
      "text/html": [
       "\n",
       "            <div>\n",
       "                <p><b>SparkSession - in-memory</b></p>\n",
       "                \n",
       "        <div>\n",
       "            <p><b>SparkContext</b></p>\n",
       "\n",
       "            <p><a href=\"http://host.docker.internal:4040\">Spark UI</a></p>\n",
       "\n",
       "            <dl>\n",
       "              <dt>Version</dt>\n",
       "                <dd><code>v3.3.2</code></dd>\n",
       "              <dt>Master</dt>\n",
       "                <dd><code>local[*]</code></dd>\n",
       "              <dt>AppName</dt>\n",
       "                <dd><code>pyspark-shell</code></dd>\n",
       "            </dl>\n",
       "        </div>\n",
       "        \n",
       "            </div>\n",
       "        "
      ],
      "text/plain": [
       "<pyspark.sql.session.SparkSession at 0x1dcfce93430>"
      ]
     },
     "execution_count": 1,
     "metadata": {},
     "output_type": "execute_result"
    }
   ],
   "source": [
    "import os\n",
    "import pyspark\n",
    "import sys\n",
    "\n",
    "os.environ['PYSPARK_PYTHON'] = sys.executable\n",
    "os.environ['PYSPARK_DRIVER_PYTHON'] = sys.executable\n",
    "conf = pyspark.SparkConf()\n",
    "sc = pyspark.SparkContext(conf=conf)\n",
    "spark = pyspark.sql.SparkSession(sc)\n",
    "spark"
   ]
  },
  {
   "cell_type": "markdown",
   "id": "e1b389af-e9a2-4c6a-8c08-7fdb347fbac6",
   "metadata": {},
   "source": [
    "## 1. 15 Points\n",
    "**Datafile**: BreadBasket_DMV.csv\n",
    "\n",
    "**Solve**: What is the most popular (most sold) between the 8:00AM and 8:59AM for each day?\n",
    "\n",
    "Example output (not actual solution)\n",
    "\n",
    "    2016-10-30, Pastry\n",
    "\n",
    "    2016-10-31, Coffee\n",
    "     :\n",
    "     :\n",
    "\n",
    "### Approach:\n",
    "1. Import `BreadBasket_DMS.csv` into a dataframe\n",
    "2. Extract dates in `YYYY-MM-DD` format from the `Date` column and times in `hh:mm:ss` format from the `Time` column\n",
    "3. Filter the data by `Time` in the range of `08:00:00` and `08:59:00` inclusive and remove rows with `None` in the `Item` column\n",
    "4. Group the data by `Date` and `Item`, aggregate the `sum` of `Transaction` for each `Item` aliased as `Total` and, sort by `Date` and `Total`\n",
    "5. Group the data by `Date` and return the last `Item` and last `Total`"
   ]
  },
  {
   "cell_type": "code",
   "execution_count": 2,
   "id": "798a4acf-2cd2-43d5-90f4-91593e1139e8",
   "metadata": {
    "tags": []
   },
   "outputs": [
    {
     "name": "stdout",
     "output_type": "stream",
     "text": [
      "+----------+------------------+------------------+\n",
      "|      Date|Most Popular Iteam|Total Transactions|\n",
      "+----------+------------------+------------------+\n",
      "|2016-10-31|             Bread|               165|\n",
      "|2016-11-01|               Tea|               542|\n",
      "|2016-11-02|            Coffee|              2064|\n",
      "|2016-11-03|            Coffee|              1382|\n",
      "|2016-11-04|            Coffee|               883|\n",
      "|2016-11-05|             Bread|              3164|\n",
      "|2016-11-07|            Coffee|               739|\n",
      "|2016-11-08|             Bread|               816|\n",
      "|2016-11-09|             Bread|               890|\n",
      "|2016-11-10|            Coffee|              1879|\n",
      "|2016-11-11|             Bread|              6067|\n",
      "|2016-11-12|         Medialuna|              1104|\n",
      "|2016-11-14|         Medialuna|              2555|\n",
      "|2016-11-15|  Keeping It Local|              1343|\n",
      "|2016-11-16|             Bread|              1409|\n",
      "|2016-11-17|          Siblings|              2953|\n",
      "|2016-11-18|            Coffee|              9313|\n",
      "|2016-11-19|            Coffee|              4895|\n",
      "|2016-11-21|            Coffee|              3604|\n",
      "|2016-11-22|         Medialuna|              1847|\n",
      "+----------+------------------+------------------+\n",
      "only showing top 20 rows\n",
      "\n"
     ]
    }
   ],
   "source": [
    "# 1. Import BreadBasket_DMS.csv into a dataframe\n",
    "q1 = spark.read.option(\"header\", True).option(\"InferSchema\", True).csv(\"BreadBasket_DMS.csv\")\n",
    "\n",
    "# 2. Extract dates in `YYYY-MM-DD` format from the `Date` column and times in `hh:mm:ss` format from the `Time` column\n",
    "from pyspark.sql.functions import col, to_date, date_format\n",
    "q1 = q1.withColumn(\"Date\", to_date(col(\"Date\"), \"YYYY-MM-DD\"))\n",
    "q1 = q1.withColumn(\"Time\", date_format(col(\"Time\"),\"hh:mm:ss\"))\n",
    "\n",
    "# 3. Filter the data by `Time` in the range of `08:00:00` and `08:59:00` inclusive and remove rows with `None` in the `Item` column\n",
    "q1 = q1.filter((col(\"Time\") <= \"08:59:00\") & (col(\"Time\") >= \"08:00:00\") & (col(\"Item\") != \"NONE\"))\n",
    "\n",
    "# 4. Group the data by `Date` and `Item`, aggregate the `sum` of `Transaction` for each `Item` aliased as `Total` and, sort by `Date` and `Total`\n",
    "from pyspark.sql.functions import sum\n",
    "q1 = q1.groupBy(\"Date\",\"Item\").agg(sum(\"Transaction\").alias(\"Total\")).sort(\"Date\",\"Total\")\n",
    "\n",
    "# 5. Group the data by `Date` and return the last `Item` and last `Total`\n",
    "from pyspark.sql.functions import last\n",
    "q1 = q1.groupBy(\"Date\").agg(last(\"Item\").alias(\"Most Popular Iteam\"),last(\"Total\").alias(\"Total Transactions\"))\n",
    "\n",
    "# Display results\n",
    "q1.show()"
   ]
  }
 ],
 "metadata": {
  "kernelspec": {
   "display_name": "Python 3 (ipykernel)",
   "language": "python",
   "name": "python3"
  },
  "language_info": {
   "codemirror_mode": {
    "name": "ipython",
    "version": 3
   },
   "file_extension": ".py",
   "mimetype": "text/x-python",
   "name": "python",
   "nbconvert_exporter": "python",
   "pygments_lexer": "ipython3",
   "version": "3.8.16"
  }
 },
 "nbformat": 4,
 "nbformat_minor": 5
}
