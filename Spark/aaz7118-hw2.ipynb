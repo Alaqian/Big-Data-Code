{
 "cells": [
  {
   "cell_type": "markdown",
   "id": "a0a11e5d-b62b-4b17-b253-59d45e80f727",
   "metadata": {},
   "source": [
    "# Assignment 2 - Spark Dataframes\n",
    "***Note***: All the dataset files were stored in the same folder as this notebook."
   ]
  },
  {
   "cell_type": "code",
   "execution_count": 1,
   "id": "bda4be81-c73e-459b-a426-209b94e4631b",
   "metadata": {
    "tags": []
   },
   "outputs": [
    {
     "data": {
      "text/html": [
       "\n",
       "            <div>\n",
       "                <p><b>SparkSession - in-memory</b></p>\n",
       "                \n",
       "        <div>\n",
       "            <p><b>SparkContext</b></p>\n",
       "\n",
       "            <p><a href=\"http://host.docker.internal:4040\">Spark UI</a></p>\n",
       "\n",
       "            <dl>\n",
       "              <dt>Version</dt>\n",
       "                <dd><code>v3.3.2</code></dd>\n",
       "              <dt>Master</dt>\n",
       "                <dd><code>local[*]</code></dd>\n",
       "              <dt>AppName</dt>\n",
       "                <dd><code>pyspark-shell</code></dd>\n",
       "            </dl>\n",
       "        </div>\n",
       "        \n",
       "            </div>\n",
       "        "
      ],
      "text/plain": [
       "<pyspark.sql.session.SparkSession at 0x1eb110f1610>"
      ]
     },
     "execution_count": 1,
     "metadata": {},
     "output_type": "execute_result"
    }
   ],
   "source": [
    "import os\n",
    "import pyspark\n",
    "import sys\n",
    "\n",
    "os.environ['PYSPARK_PYTHON'] = sys.executable\n",
    "os.environ['PYSPARK_DRIVER_PYTHON'] = sys.executable\n",
    "conf = pyspark.SparkConf()\n",
    "sc = pyspark.SparkContext(conf=conf)\n",
    "spark = pyspark.sql.SparkSession(sc)\n",
    "spark"
   ]
  },
  {
   "cell_type": "markdown",
   "id": "e1b389af-e9a2-4c6a-8c08-7fdb347fbac6",
   "metadata": {
    "tags": []
   },
   "source": [
    "## 1. 15 Points\n",
    "**Datafile**: BreadBasket_DMV.csv\n",
    "\n",
    "**Solve**: What is the most popular (most sold) between the 8:00AM and 8:59AM for each day?\n",
    "\n",
    "Example output (not actual solution)\n",
    "\n",
    "    2016-10-30, Pastry\n",
    "\n",
    "    2016-10-31, Coffee\n",
    "     :\n",
    "     :\n",
    "\n",
    "### Approach:\n",
    "1. Import `BreadBasket_DMS.csv` into a dataframe\n",
    "2. Extract dates in `YYYY-MM-DD` format from the `Date` column and times in `hh:mm:ss` format from the `Time` column\n",
    "3. Filter the data by `Time` in the range of `08:00:00` and `08:59:00` inclusive and remove rows with `None` in the `Item` column\n",
    "4. Group the data by `Date` and `Item`, aggregate the `sum` of `Transaction` for each `Item` aliased as `Total` and, sort by `Date` and `Total`\n",
    "5. Group the data by `Date` and return the last `Item` and last `Total`"
   ]
  },
  {
   "cell_type": "code",
   "execution_count": 2,
   "id": "798a4acf-2cd2-43d5-90f4-91593e1139e8",
   "metadata": {
    "tags": []
   },
   "outputs": [
    {
     "name": "stdout",
     "output_type": "stream",
     "text": [
      "+----------+------------------+------------------+\n",
      "|      Date|Most Popular Iteam|Total Transactions|\n",
      "+----------+------------------+------------------+\n",
      "|2016-10-31|             Bread|               165|\n",
      "|2016-11-01|               Tea|               542|\n",
      "|2016-11-02|            Coffee|              2064|\n",
      "|2016-11-03|            Coffee|              1382|\n",
      "|2016-11-04|            Coffee|               883|\n",
      "|2016-11-05|             Bread|              3164|\n",
      "|2016-11-07|            Coffee|               739|\n",
      "|2016-11-08|             Bread|               816|\n",
      "|2016-11-09|             Bread|               890|\n",
      "|2016-11-10|            Coffee|              1879|\n",
      "|2016-11-11|             Bread|              6067|\n",
      "|2016-11-12|         Medialuna|              1104|\n",
      "|2016-11-14|         Medialuna|              2555|\n",
      "|2016-11-15|  Keeping It Local|              1343|\n",
      "|2016-11-16|             Bread|              1409|\n",
      "|2016-11-17|          Siblings|              2953|\n",
      "|2016-11-18|            Coffee|              9313|\n",
      "|2016-11-19|            Coffee|              4895|\n",
      "|2016-11-21|            Coffee|              3604|\n",
      "|2016-11-22|         Medialuna|              1847|\n",
      "+----------+------------------+------------------+\n",
      "only showing top 20 rows\n",
      "\n"
     ]
    }
   ],
   "source": [
    "# 1. Import BreadBasket_DMS.csv into a dataframe\n",
    "BreadBasket_DMV = spark.read.option(\"header\", True).option(\"InferSchema\", True).csv(\"BreadBasket_DMS.csv\")\n",
    "\n",
    "# 2. Extract dates in `YYYY-MM-DD` format from the `Date` column and times in `hh:mm:ss` format from the `Time` column\n",
    "from pyspark.sql.functions import col, to_date, date_format\n",
    "BreadBasket_DMV = BreadBasket_DMV.withColumn(\"Date\", to_date(col(\"Date\"), \"YYYY-MM-DD\"))\n",
    "BreadBasket_DMV = BreadBasket_DMV.withColumn(\"Time\", date_format(col(\"Time\"),\"hh:mm:ss\"))\n",
    "\n",
    "# 3. Filter the data by `Time` in the range of `08:00:00` and `08:59:00` inclusive and remove rows with `None` in the `Item` column\n",
    "q1 = BreadBasket_DMV\n",
    "q1 = q1.filter((col(\"Time\") <= \"08:59:00\") & (col(\"Time\") >= \"08:00:00\") & (col(\"Item\") != \"NONE\"))\n",
    "\n",
    "# 4. Group the data by `Date` and `Item`, aggregate the `sum` of `Transaction` for each `Item` aliased as `Total` and, sort by `Date` and `Total`\n",
    "from pyspark.sql.functions import sum\n",
    "q1 = q1.groupBy(\"Date\",\"Item\").agg(sum(\"Transaction\").alias(\"Total\")).sort(\"Date\",\"Total\")\n",
    "\n",
    "# 5. Group the data by `Date` and return the last `Item` and last `Total`\n",
    "from pyspark.sql.functions import last\n",
    "q1 = q1.groupBy(\"Date\").agg(last(\"Item\").alias(\"Most Popular Iteam\"),last(\"Total\").alias(\"Total Transactions\"))\n",
    "\n",
    "# Display results\n",
    "q1.show()"
   ]
  },
  {
   "cell_type": "markdown",
   "id": "a5749546-f3a2-46b4-8210-c86fa7c87502",
   "metadata": {
    "tags": []
   },
   "source": [
    "## 2. 15 Points\n",
    "**Datafile**: BreadBasket_DMV.csv\n",
    "\n",
    "**Solve**: What is the most common item bought along with “Brownie”? (items bought in the same transaction)\n",
    "\n",
    "### Approach:\n",
    "To qualify as an item bought in the same transaction, we will consider items bought at the same time as \"Brownie\n",
    "\"\n",
    "1. Import `BreadBasket_DMS.csv` into a dataframe (See Q1)\n",
    "2. Extract dates in `YYYY-MM-DD` format from the `Date` column and times in `hh:mm:ss` format from the `Time` column (See Q1)\n",
    "3. "
   ]
  },
  {
   "cell_type": "code",
   "execution_count": 8,
   "id": "90daa6a0-13db-4f5f-a13f-796a2df13589",
   "metadata": {
    "tags": []
   },
   "outputs": [],
   "source": [
    "brown_trans = BreadBasket_DMV.filter(col(\"Item\") == \"Brownie\").select(col(\"Date\").alias(\"D\"),col(\"Time\").alias(\"T\")).sort(\"D\",\"T\")\n",
    "brown_trans.toPandas()\n",
    "JoinExpression = (BreadBasket_DMV[\"Date\"] == brown_trans[\"D\"]) & (BreadBasket_DMV[\"Time\"] == brown_trans[\"T\"])\n",
    "q2 = BreadBasket_DMV.join(brown_trans,JoinExpression).sort(\"Date\",\"Time\")"
   ]
  },
  {
   "cell_type": "code",
   "execution_count": 5,
   "id": "ae783115-6a4f-4f6a-93ea-46a05e018691",
   "metadata": {
    "tags": []
   },
   "outputs": [
    {
     "data": {
      "text/plain": [
       "379"
      ]
     },
     "execution_count": 5,
     "metadata": {},
     "output_type": "execute_result"
    }
   ],
   "source": [
    "brown_trans = BreadBasket_DMV.filter(col(\"Item\") == \"Brownie\").select(col(\"Date\").alias(\"D\"),col(\"Time\").alias(\"T\")).sort(\"D\",\"T\")\n",
    "brown_trans.count()"
   ]
  },
  {
   "cell_type": "code",
   "execution_count": 9,
   "id": "a6bc1132-b9fa-4c72-bd93-51ae157a4db8",
   "metadata": {
    "tags": []
   },
   "outputs": [
    {
     "data": {
      "text/html": [
       "<div>\n",
       "<style scoped>\n",
       "    .dataframe tbody tr th:only-of-type {\n",
       "        vertical-align: middle;\n",
       "    }\n",
       "\n",
       "    .dataframe tbody tr th {\n",
       "        vertical-align: top;\n",
       "    }\n",
       "\n",
       "    .dataframe thead th {\n",
       "        text-align: right;\n",
       "    }\n",
       "</style>\n",
       "<table border=\"1\" class=\"dataframe\">\n",
       "  <thead>\n",
       "    <tr style=\"text-align: right;\">\n",
       "      <th></th>\n",
       "      <th>Date</th>\n",
       "      <th>Time</th>\n",
       "      <th>Transaction</th>\n",
       "      <th>Item</th>\n",
       "      <th>D</th>\n",
       "      <th>T</th>\n",
       "    </tr>\n",
       "  </thead>\n",
       "  <tbody>\n",
       "    <tr>\n",
       "      <th>0</th>\n",
       "      <td>2016-11-03</td>\n",
       "      <td>01:02:37</td>\n",
       "      <td>391</td>\n",
       "      <td>Sandwich</td>\n",
       "      <td>2016-11-03</td>\n",
       "      <td>01:02:37</td>\n",
       "    </tr>\n",
       "    <tr>\n",
       "      <th>1</th>\n",
       "      <td>2016-11-03</td>\n",
       "      <td>01:02:37</td>\n",
       "      <td>391</td>\n",
       "      <td>Coffee</td>\n",
       "      <td>2016-11-03</td>\n",
       "      <td>01:02:37</td>\n",
       "    </tr>\n",
       "    <tr>\n",
       "      <th>2</th>\n",
       "      <td>2016-11-03</td>\n",
       "      <td>01:19:57</td>\n",
       "      <td>392</td>\n",
       "      <td>Pastry</td>\n",
       "      <td>2016-11-03</td>\n",
       "      <td>01:19:57</td>\n",
       "    </tr>\n",
       "    <tr>\n",
       "      <th>3</th>\n",
       "      <td>2016-11-03</td>\n",
       "      <td>01:19:57</td>\n",
       "      <td>392</td>\n",
       "      <td>Focaccia</td>\n",
       "      <td>2016-11-03</td>\n",
       "      <td>01:19:57</td>\n",
       "    </tr>\n",
       "    <tr>\n",
       "      <th>4</th>\n",
       "      <td>2016-11-03</td>\n",
       "      <td>01:19:57</td>\n",
       "      <td>392</td>\n",
       "      <td>Farm House</td>\n",
       "      <td>2016-11-03</td>\n",
       "      <td>01:19:57</td>\n",
       "    </tr>\n",
       "    <tr>\n",
       "      <th>...</th>\n",
       "      <td>...</td>\n",
       "      <td>...</td>\n",
       "      <td>...</td>\n",
       "      <td>...</td>\n",
       "      <td>...</td>\n",
       "      <td>...</td>\n",
       "    </tr>\n",
       "    <tr>\n",
       "      <th>856</th>\n",
       "      <td>2017-04-08</td>\n",
       "      <td>10:33:51</td>\n",
       "      <td>9574</td>\n",
       "      <td>Coffee</td>\n",
       "      <td>2017-04-08</td>\n",
       "      <td>10:33:51</td>\n",
       "    </tr>\n",
       "    <tr>\n",
       "      <th>857</th>\n",
       "      <td>2017-04-08</td>\n",
       "      <td>10:33:51</td>\n",
       "      <td>9574</td>\n",
       "      <td>Spanish Brunch</td>\n",
       "      <td>2017-04-08</td>\n",
       "      <td>10:33:51</td>\n",
       "    </tr>\n",
       "    <tr>\n",
       "      <th>858</th>\n",
       "      <td>2017-04-08</td>\n",
       "      <td>10:33:51</td>\n",
       "      <td>9574</td>\n",
       "      <td>The Nomad</td>\n",
       "      <td>2017-04-08</td>\n",
       "      <td>10:33:51</td>\n",
       "    </tr>\n",
       "    <tr>\n",
       "      <th>859</th>\n",
       "      <td>2017-04-08</td>\n",
       "      <td>10:33:51</td>\n",
       "      <td>9574</td>\n",
       "      <td>Cookies</td>\n",
       "      <td>2017-04-08</td>\n",
       "      <td>10:33:51</td>\n",
       "    </tr>\n",
       "    <tr>\n",
       "      <th>860</th>\n",
       "      <td>2017-04-08</td>\n",
       "      <td>12:14:40</td>\n",
       "      <td>9593</td>\n",
       "      <td>Muffin</td>\n",
       "      <td>2017-04-08</td>\n",
       "      <td>12:14:40</td>\n",
       "    </tr>\n",
       "  </tbody>\n",
       "</table>\n",
       "<p>861 rows × 6 columns</p>\n",
       "</div>"
      ],
      "text/plain": [
       "           Date      Time  Transaction            Item           D         T\n",
       "0    2016-11-03  01:02:37          391        Sandwich  2016-11-03  01:02:37\n",
       "1    2016-11-03  01:02:37          391          Coffee  2016-11-03  01:02:37\n",
       "2    2016-11-03  01:19:57          392          Pastry  2016-11-03  01:19:57\n",
       "3    2016-11-03  01:19:57          392        Focaccia  2016-11-03  01:19:57\n",
       "4    2016-11-03  01:19:57          392      Farm House  2016-11-03  01:19:57\n",
       "..          ...       ...          ...             ...         ...       ...\n",
       "856  2017-04-08  10:33:51         9574          Coffee  2017-04-08  10:33:51\n",
       "857  2017-04-08  10:33:51         9574  Spanish Brunch  2017-04-08  10:33:51\n",
       "858  2017-04-08  10:33:51         9574       The Nomad  2017-04-08  10:33:51\n",
       "859  2017-04-08  10:33:51         9574         Cookies  2017-04-08  10:33:51\n",
       "860  2017-04-08  12:14:40         9593          Muffin  2017-04-08  12:14:40\n",
       "\n",
       "[861 rows x 6 columns]"
      ]
     },
     "execution_count": 9,
     "metadata": {},
     "output_type": "execute_result"
    }
   ],
   "source": [
    "q2.filter(col(\"Item\") != \"Brownie\").toPandas()"
   ]
  },
  {
   "cell_type": "code",
   "execution_count": 10,
   "id": "bd11ba2b-6802-4fa5-b2fc-dec099e7da5d",
   "metadata": {
    "tags": []
   },
   "outputs": [
    {
     "data": {
      "text/plain": [
       "861"
      ]
     },
     "execution_count": 10,
     "metadata": {},
     "output_type": "execute_result"
    }
   ],
   "source": [
    "1240-379"
   ]
  },
  {
   "cell_type": "code",
   "execution_count": null,
   "id": "2e081c0c-2a9a-49fe-a901-d1543943318f",
   "metadata": {},
   "outputs": [],
   "source": []
  }
 ],
 "metadata": {
  "kernelspec": {
   "display_name": "Python 3 (ipykernel)",
   "language": "python",
   "name": "python3"
  },
  "language_info": {
   "codemirror_mode": {
    "name": "ipython",
    "version": 3
   },
   "file_extension": ".py",
   "mimetype": "text/x-python",
   "name": "python",
   "nbconvert_exporter": "python",
   "pygments_lexer": "ipython3",
   "version": "3.8.16"
  }
 },
 "nbformat": 4,
 "nbformat_minor": 5
}
