{
 "cells": [
  {
   "cell_type": "markdown",
   "id": "a0a11e5d-b62b-4b17-b253-59d45e80f727",
   "metadata": {},
   "source": [
    "# Assignment 2 - Spark Dataframes\n",
    "***Note***: All the dataset files were stored in the same folder as this notebook."
   ]
  },
  {
   "cell_type": "code",
   "execution_count": 1,
   "id": "bda4be81-c73e-459b-a426-209b94e4631b",
   "metadata": {
    "tags": []
   },
   "outputs": [
    {
     "data": {
      "text/html": [
       "\n",
       "            <div>\n",
       "                <p><b>SparkSession - in-memory</b></p>\n",
       "                \n",
       "        <div>\n",
       "            <p><b>SparkContext</b></p>\n",
       "\n",
       "            <p><a href=\"http://host.docker.internal:4042\">Spark UI</a></p>\n",
       "\n",
       "            <dl>\n",
       "              <dt>Version</dt>\n",
       "                <dd><code>v3.3.2</code></dd>\n",
       "              <dt>Master</dt>\n",
       "                <dd><code>local[*]</code></dd>\n",
       "              <dt>AppName</dt>\n",
       "                <dd><code>pyspark-shell</code></dd>\n",
       "            </dl>\n",
       "        </div>\n",
       "        \n",
       "            </div>\n",
       "        "
      ],
      "text/plain": [
       "<pyspark.sql.session.SparkSession at 0x1d7aca844c0>"
      ]
     },
     "execution_count": 1,
     "metadata": {},
     "output_type": "execute_result"
    }
   ],
   "source": [
    "import os\n",
    "import pyspark\n",
    "import sys\n",
    "\n",
    "os.environ['PYSPARK_PYTHON'] = sys.executable\n",
    "os.environ['PYSPARK_DRIVER_PYTHON'] = sys.executable\n",
    "conf = pyspark.SparkConf()\n",
    "sc = pyspark.SparkContext(conf=conf)\n",
    "spark = pyspark.sql.SparkSession(sc)\n",
    "spark"
   ]
  },
  {
   "cell_type": "markdown",
   "id": "e1b389af-e9a2-4c6a-8c08-7fdb347fbac6",
   "metadata": {
    "tags": []
   },
   "source": [
    "## 5. 25 Points\n",
    "**Dataset**:  populationbycountry19802010millions.csv\n",
    "\n",
    "**Solve**: For region, compute the ***percentage change*** in population, year over year.  Note the year 1980 will not have a preceding year. For each year, display the region with the top population ***decrease***.\n",
    "\n",
    "**Example** (not actual results):\n",
    "\n",
    "1981,  North America, -2%\n",
    "\n",
    "1982, Aruba, -7%…\n",
    "\n",
    "### Assumptions:\n",
    "The region with the top population ***decrease*** has the lowest ***percentage change***.\n",
    "\n",
    "How to make unions: https://stackoverflow.com/questions/52685609/add-new-rows-to-pyspark-dataframe"
   ]
  },
  {
   "cell_type": "code",
   "execution_count": 2,
   "id": "15c39ac8-2b79-42bc-b044-5770369e6fa8",
   "metadata": {
    "tags": []
   },
   "outputs": [
    {
     "name": "stdout",
     "output_type": "stream",
     "text": [
      "+----+--------------------+-------------------+\n",
      "|Year|             Country|               Drop|\n",
      "+----+--------------------+-------------------+\n",
      "|1981|         Afghanistan| -9.106330931425992|\n",
      "|1982|         Afghanistan| -8.017227257036874|\n",
      "|1983| Antigua and Barbuda|-3.5141890898397343|\n",
      "|1984| Antigua and Barbuda|-1.7525144772935055|\n",
      "|1985|        Cook Islands|-1.4092446448703508|\n",
      "|1986|Netherlands Antilles| -24.58781655279631|\n",
      "|1987|        Saint Helena|-21.299638989169676|\n",
      "|1988|          Mozambique| -2.883631837516533|\n",
      "|1989|             Somalia|-2.1964965331028314|\n",
      "|1990|             Liberia|-12.816300240117076|\n",
      "|1991|              Kuwait|  -55.4531619095637|\n",
      "|1992|             Somalia| -5.387440289087448|\n",
      "|1993|Bosnia and Herzeg...| -7.072116841830721|\n",
      "|1994|              Rwanda|-14.363511428676736|\n",
      "|1995|              Rwanda|-15.871881307134093|\n",
      "|1996|          Montserrat|-22.590068159688407|\n",
      "|1997|          Montserrat|-25.157232704402517|\n",
      "|1998|          Montserrat|-43.193277310924366|\n",
      "|1999|        Cook Islands|-2.9919447640966608|\n",
      "|2000|        Cook Islands|-3.2621589561091247|\n",
      "|2001|        Cook Islands|  -3.55610055180871|\n",
      "|2002|        Cook Islands|-3.6872218690400547|\n",
      "|2003|          Montserrat| -6.652806652806653|\n",
      "|2004|            Djibouti| -4.830771012478634|\n",
      "|2005|          Montserrat| -8.669354838709674|\n",
      "|2006|               Nauru|  -4.39560439560439|\n",
      "|2007|               Nauru| -4.702194357366778|\n",
      "|2008|        Cook Islands|-3.3096926713948007|\n",
      "|2009|        Cook Islands| -3.259983700081494|\n",
      "|2010|        Cook Islands|-3.2013479359730423|\n",
      "+----+--------------------+-------------------+\n",
      "\n"
     ]
    }
   ],
   "source": [
    "from pyspark.sql.functions import first, desc, lit, col\n",
    "from pyspark.sql import Row\n",
    "from pyspark.sql.types import StructField, StructType, StringType, IntegerType, DoubleType\n",
    "population = spark.read.option(\"header\", True).option(\"InferSchema\", True).csv(\"populationbycountry19802010millions.csv\")\n",
    "population = population.withColumnRenamed(\"_c0\", \"country\")\n",
    "\n",
    "ms = StructType([\n",
    "    StructField(\"Year\", IntegerType(), True),\n",
    "    StructField(\"Country\", StringType(), True),\n",
    "    StructField(\"Drop\", DoubleType(), True)])\n",
    "D = spark.createDataFrame([],ms)\n",
    "\n",
    "for year in range (1980, 2010):\n",
    "    # Find PerDrop and sort by PerDrop in descending\n",
    "    A = population.withColumn(\"PerDrop\", (col(str(year)) - col(str(year+1)))*100/col(str(year))).sort(desc(\"PerDrop\"))\n",
    "    B = A.select(first(\"country\").alias(\"Country\"), (-1*first(\"PerDrop\")).alias(\"Drop\"))\n",
    "    C = B.withColumn(\"Year\", lit(year+1))\n",
    "    D = D.union(C.select(\"Year\", \"Country\",\"Drop\"))\n",
    "# Display\n",
    "D.show(30)"
   ]
  }
 ],
 "metadata": {
  "kernelspec": {
   "display_name": "Python 3 (ipykernel)",
   "language": "python",
   "name": "python3"
  },
  "language_info": {
   "codemirror_mode": {
    "name": "ipython",
    "version": 3
   },
   "file_extension": ".py",
   "mimetype": "text/x-python",
   "name": "python",
   "nbconvert_exporter": "python",
   "pygments_lexer": "ipython3",
   "version": "3.8.16"
  }
 },
 "nbformat": 4,
 "nbformat_minor": 5
}
