{
 "cells": [
  {
   "cell_type": "code",
   "execution_count": 1,
   "id": "94b73626-5dd9-4d94-8249-16f2a3b602e1",
   "metadata": {
    "tags": []
   },
   "outputs": [],
   "source": [
    "import os\n",
    "import pyspark\n",
    "conf = pyspark.SparkConf()\n",
    "sc = pyspark.SparkContext(conf=conf)\n",
    "spark = pyspark.sql.SparkSession(sc)"
   ]
  },
  {
   "cell_type": "code",
   "execution_count": 2,
   "id": "a5523047-afd2-46df-85a7-d108193837aa",
   "metadata": {
    "tags": []
   },
   "outputs": [
    {
     "data": {
      "text/html": [
       "\n",
       "            <div>\n",
       "                <p><b>SparkSession - in-memory</b></p>\n",
       "                \n",
       "        <div>\n",
       "            <p><b>SparkContext</b></p>\n",
       "\n",
       "            <p><a href=\"http://host.docker.internal:4040\">Spark UI</a></p>\n",
       "\n",
       "            <dl>\n",
       "              <dt>Version</dt>\n",
       "                <dd><code>v3.3.2</code></dd>\n",
       "              <dt>Master</dt>\n",
       "                <dd><code>local[*]</code></dd>\n",
       "              <dt>AppName</dt>\n",
       "                <dd><code>pyspark-shell</code></dd>\n",
       "            </dl>\n",
       "        </div>\n",
       "        \n",
       "            </div>\n",
       "        "
      ],
      "text/plain": [
       "<pyspark.sql.session.SparkSession at 0x1bf3b5ba0d0>"
      ]
     },
     "execution_count": 2,
     "metadata": {},
     "output_type": "execute_result"
    }
   ],
   "source": [
    "spark"
   ]
  },
  {
   "cell_type": "code",
   "execution_count": 3,
   "id": "a9fe779d-eefb-4d72-b46b-64e73e6363b3",
   "metadata": {},
   "outputs": [],
   "source": [
    "df = spark.read.csv(\"Electric_Vehicle_Population_Data.csv\")"
   ]
  },
  {
   "cell_type": "code",
   "execution_count": 4,
   "id": "8af6b301-89d2-4728-a6bc-dc24e71313be",
   "metadata": {
    "tags": []
   },
   "outputs": [
    {
     "data": {
      "text/plain": [
       "DataFrame[_c0: string, _c1: string, _c2: string, _c3: string, _c4: string, _c5: string, _c6: string, _c7: string, _c8: string, _c9: string, _c10: string, _c11: string, _c12: string, _c13: string, _c14: string, _c15: string, _c16: string]"
      ]
     },
     "execution_count": 4,
     "metadata": {},
     "output_type": "execute_result"
    }
   ],
   "source": [
    "df"
   ]
  },
  {
   "cell_type": "code",
   "execution_count": 5,
   "id": "7a7aa6af-cbd6-4077-a3c5-baedad78c298",
   "metadata": {
    "tags": []
   },
   "outputs": [],
   "source": [
    "df1 = spark.read.option(\"header\", True).option(\"InferSchema\", True).csv(\"Electric_Vehicle_Population_Data.csv\")"
   ]
  },
  {
   "cell_type": "code",
   "execution_count": 6,
   "id": "a5f37c1a-c775-4df3-94ee-f4df4b406d65",
   "metadata": {
    "tags": []
   },
   "outputs": [
    {
     "data": {
      "text/plain": [
       "DataFrame[VIN (1-10): string, County: string, City: string, State: string, Postal Code: int, Model Year: int, Make: string, Model: string, Electric Vehicle Type: string, Clean Alternative Fuel Vehicle (CAFV) Eligibility: string, Electric Range: int, Base MSRP: int, Legislative District: int, DOL Vehicle ID: int, Vehicle Location: string, Electric Utility: string, 2020 Census Tract: bigint]"
      ]
     },
     "execution_count": 6,
     "metadata": {},
     "output_type": "execute_result"
    }
   ],
   "source": [
    "df1"
   ]
  },
  {
   "cell_type": "code",
   "execution_count": 7,
   "id": "b2777852-5089-4fef-8d1e-cba6e69c1e10",
   "metadata": {
    "tags": []
   },
   "outputs": [
    {
     "name": "stdout",
     "output_type": "stream",
     "text": [
      "+----------+-----------+-----------+-----+-----------+----------+---------+-------+---------------------+-------------------------------------------------+--------------+---------+--------------------+--------------+--------------------+--------------------+-----------------+\n",
      "|VIN (1-10)|     County|       City|State|Postal Code|Model Year|     Make|  Model|Electric Vehicle Type|Clean Alternative Fuel Vehicle (CAFV) Eligibility|Electric Range|Base MSRP|Legislative District|DOL Vehicle ID|    Vehicle Location|    Electric Utility|2020 Census Tract|\n",
      "+----------+-----------+-----------+-----+-----------+----------+---------+-------+---------------------+-------------------------------------------------+--------------+---------+--------------------+--------------+--------------------+--------------------+-----------------+\n",
      "|5YJ3E1EA8J|  San Diego|  Oceanside|   CA|      92051|      2018|    TESLA|MODEL 3| Battery Electric ...|                             Clean Alternative...|           215|        0|                null|     153998050|                null|                null|       6073018509|\n",
      "|3FA6P0PU7H|   Sedgwick|      Derby|   KS|      67037|      2017|     FORD| FUSION| Plug-in Hybrid El...|                             Not eligible due ...|            21|        0|                null|     138214331|POINT (-97.27013 ...|                null|      20173009801|\n",
      "|1N4AZ0CP8D|  Snohomish| Marysville|   WA|      98271|      2013|   NISSAN|   LEAF| Battery Electric ...|                             Clean Alternative...|            75|        0|                  38|       3129059|POINT (-122.19388...|PUGET SOUND ENERG...|      53061052805|\n",
      "|WBY8P8C58K|     Kitsap|  Bremerton|   WA|      98337|      2019|      BMW|     I3| Plug-in Hybrid El...|                             Clean Alternative...|           126|        0|                  26|     166525635|POINT (-122.62749...|PUGET SOUND ENERG...|      53035080500|\n",
      "|5YJ3E1EA7K|  Snohomish|    Edmonds|   WA|      98026|      2019|    TESLA|MODEL 3| Battery Electric ...|                             Clean Alternative...|           220|        0|                  32|     475248315|POINT (-122.31768...|PUGET SOUND ENERG...|      53061050800|\n",
      "|1G1FZ6S07L|Walla Walla|Walla Walla|   WA|      99362|      2020|CHEVROLET|BOLT EV| Battery Electric ...|                             Clean Alternative...|           259|        0|                  16|     150312991|POINT (-118.34261...|          PACIFICORP|      53071920702|\n",
      "|KNDCC3LG1L|  Snohomish|    Everett|   WA|      98204|      2020|      KIA|   NIRO| Battery Electric ...|                             Clean Alternative...|           239|        0|                  21|     152471728|POINT (-122.25527...|PUGET SOUND ENERG...|      53061041905|\n",
      "|1N4AZ0CP5D|     Island| Oak Harbor|   WA|      98277|      2013|   NISSAN|   LEAF| Battery Electric ...|                             Clean Alternative...|            75|        0|                  10|     234850367|POINT (-122.64682...|PUGET SOUND ENERG...|      53029970300|\n",
      "|5YJ3E1EA1L|  Snohomish|    Bothell|   WA|      98021|      2020|    TESLA|MODEL 3| Battery Electric ...|                             Clean Alternative...|           266|        0|                   1|     110771972|POINT (-122.18384...|PUGET SOUND ENERG...|      53061051937|\n",
      "|5YJ3E1EB8K|   Thurston|    Olympia|   WA|      98501|      2019|    TESLA|MODEL 3| Battery Electric ...|                             Clean Alternative...|           220|        0|                  22|     477769939|POINT (-122.89166...|PUGET SOUND ENERG...|      53067010700|\n",
      "|5YJ3E1EA4J|     Skagit|  Anacortes|   WA|      98221|      2018|    TESLA|MODEL 3| Battery Electric ...|                             Clean Alternative...|           215|        0|                  10|     258609291|POINT (-122.61214...|PUGET SOUND ENERG...|      53057940302|\n",
      "|5YJ3E1EBXL|  Snohomish|    Bothell|   WA|      98012|      2020|    TESLA|MODEL 3| Battery Electric ...|                             Clean Alternative...|           322|        0|                  21|     106295451|POINT (-122.21061...|PUGET SOUND ENERG...|      53061051927|\n",
      "|5YJ3E1EA9J|       King|       Kent|   WA|      98031|      2018|    TESLA|MODEL 3| Battery Electric ...|                             Clean Alternative...|           215|        0|                  11|     186185814|POINT (-122.17743...|PUGET SOUND ENERG...|      53033029306|\n",
      "|5YJSA1S29F|  Snohomish|    Bothell|   WA|      98021|      2015|    TESLA|MODEL S| Battery Electric ...|                             Clean Alternative...|           208|        0|                   1|     199402794|POINT (-122.18384...|PUGET SOUND ENERG...|      53061051937|\n",
      "|5YJ3E1EAXK|   Thurston|    Olympia|   WA|      98513|      2019|    TESLA|MODEL 3| Battery Electric ...|                             Clean Alternative...|           220|        0|                   2|     329238430|POINT (-122.80277...|PUGET SOUND ENERG...|      53067012320|\n",
      "|KNAGV4LD3H|     Kitsap|  Bremerton|   WA|      98383|      2017|      KIA| OPTIMA| Plug-in Hybrid El...|                             Not eligible due ...|            29|        0|                  23|     314301186|POINT (-122.69275...|PUGET SOUND ENERG...|      53035091205|\n",
      "|KNDJP3AE8H|     Kitsap|     Olalla|   WA|      98359|      2017|      KIA|SOUL EV| Battery Electric ...|                             Clean Alternative...|            93|    32250|                  26|     350084948|POINT (-122.54729...|PUGET SOUND ENERG...|      53035092803|\n",
      "|1N4AZ1CP8K|  Snohomish|    Woodway|   WA|      98020|      2019|   NISSAN|   LEAF| Battery Electric ...|                             Clean Alternative...|           150|        0|                  32|     274983740|POINT (-122.37689...|PUGET SOUND ENERG...|      53061050600|\n",
      "|1FADP5CU1D|  Snohomish|    Bothell|   WA|      98021|      2013|     FORD|  C-MAX| Plug-in Hybrid El...|                             Not eligible due ...|            19|        0|                   1|     302447554|POINT (-122.18384...|PUGET SOUND ENERG...|      53061051918|\n",
      "|7SAYGDEE2N|    Whitman|    Pullman|   WA|      99163|      2022|    TESLA|MODEL Y| Battery Electric ...|                             Eligibility unkno...|             0|        0|                   9|     193579760|POINT (-117.18147...|         AVISTA CORP|      53075000201|\n",
      "+----------+-----------+-----------+-----+-----------+----------+---------+-------+---------------------+-------------------------------------------------+--------------+---------+--------------------+--------------+--------------------+--------------------+-----------------+\n",
      "only showing top 20 rows\n",
      "\n"
     ]
    }
   ],
   "source": [
    "df1.show()"
   ]
  },
  {
   "cell_type": "code",
   "execution_count": 8,
   "id": "ae631c8d-6439-414e-b804-378da19e452e",
   "metadata": {},
   "outputs": [
    {
     "name": "stdout",
     "output_type": "stream",
     "text": [
      "== Physical Plan ==\n",
      "AdaptiveSparkPlan isFinalPlan=false\n",
      "+- Sort [City#70 ASC NULLS FIRST], true, 0\n",
      "   +- Exchange rangepartitioning(City#70 ASC NULLS FIRST, 200), ENSURE_REQUIREMENTS, [plan_id=58]\n",
      "      +- FileScan csv [VIN (1-10)#68,County#69,City#70,State#71,Postal Code#72,Model Year#73,Make#74,Model#75,Electric Vehicle Type#76,Clean Alternative Fuel Vehicle (CAFV) Eligibility#77,Electric Range#78,Base MSRP#79,Legislative District#80,DOL Vehicle ID#81,Vehicle Location#82,Electric Utility#83,2020 Census Tract#84L] Batched: false, DataFilters: [], Format: CSV, Location: InMemoryFileIndex(1 paths)[file:/G:/My Drive/CS-GY 6513 Big Data/Big-Data-Code/Spark/Electric_Veh..., PartitionFilters: [], PushedFilters: [], ReadSchema: struct<VIN (1-10):string,County:string,City:string,State:string,Postal Code:int,Model Year:int,Ma...\n",
      "\n",
      "\n"
     ]
    }
   ],
   "source": [
    "df1.sort(\"City\").explain()"
   ]
  },
  {
   "cell_type": "code",
   "execution_count": 9,
   "id": "500a4e6c-5049-49d5-b98f-2638b13f3743",
   "metadata": {
    "tags": []
   },
   "outputs": [
    {
     "name": "stdout",
     "output_type": "stream",
     "text": [
      "+-----------+\n",
      "|       City|\n",
      "+-----------+\n",
      "|  Oceanside|\n",
      "|      Derby|\n",
      "| Marysville|\n",
      "|  Bremerton|\n",
      "|    Edmonds|\n",
      "|Walla Walla|\n",
      "|    Everett|\n",
      "| Oak Harbor|\n",
      "|    Bothell|\n",
      "|    Olympia|\n",
      "|  Anacortes|\n",
      "|    Bothell|\n",
      "|       Kent|\n",
      "|    Bothell|\n",
      "|    Olympia|\n",
      "|  Bremerton|\n",
      "|     Olalla|\n",
      "|    Woodway|\n",
      "|    Bothell|\n",
      "|    Pullman|\n",
      "+-----------+\n",
      "only showing top 20 rows\n",
      "\n"
     ]
    }
   ],
   "source": [
    "df1.select(\"City\").show()"
   ]
  },
  {
   "cell_type": "code",
   "execution_count": 10,
   "id": "9a1ef894-0759-4c4f-bcb4-b366a3f5882e",
   "metadata": {
    "tags": []
   },
   "outputs": [],
   "source": [
    "df1.createOrReplaceTempView(\"cars\")"
   ]
  },
  {
   "cell_type": "code",
   "execution_count": 11,
   "id": "1ccf2537-bc13-402b-b207-70ef94b27e7e",
   "metadata": {
    "tags": []
   },
   "outputs": [
    {
     "name": "stdout",
     "output_type": "stream",
     "text": [
      "+-----------+\n",
      "|       City|\n",
      "+-----------+\n",
      "|  Oceanside|\n",
      "|      Derby|\n",
      "| Marysville|\n",
      "|  Bremerton|\n",
      "|    Edmonds|\n",
      "|Walla Walla|\n",
      "|    Everett|\n",
      "| Oak Harbor|\n",
      "|    Bothell|\n",
      "|    Olympia|\n",
      "|  Anacortes|\n",
      "|    Bothell|\n",
      "|       Kent|\n",
      "|    Bothell|\n",
      "|    Olympia|\n",
      "|  Bremerton|\n",
      "|     Olalla|\n",
      "|    Woodway|\n",
      "|    Bothell|\n",
      "|    Pullman|\n",
      "+-----------+\n",
      "only showing top 20 rows\n",
      "\n"
     ]
    }
   ],
   "source": [
    "spark.sql(\"select City from cars\").show()"
   ]
  },
  {
   "cell_type": "code",
   "execution_count": 12,
   "id": "a72ab2f0-8bed-4ea7-8f16-26d28b02fecc",
   "metadata": {
    "tags": []
   },
   "outputs": [
    {
     "name": "stdout",
     "output_type": "stream",
     "text": [
      "== Physical Plan ==\n",
      "FileScan csv [City#70] Batched: false, DataFilters: [], Format: CSV, Location: InMemoryFileIndex(1 paths)[file:/G:/My Drive/CS-GY 6513 Big Data/Big-Data-Code/Spark/Electric_Veh..., PartitionFilters: [], PushedFilters: [], ReadSchema: struct<City:string>\n",
      "\n",
      "\n"
     ]
    }
   ],
   "source": [
    "spark.sql(\"select City from cars\").explain()"
   ]
  },
  {
   "cell_type": "code",
   "execution_count": 13,
   "id": "320f8ab7-1a67-41d8-8a90-18b57d857b7b",
   "metadata": {
    "tags": []
   },
   "outputs": [
    {
     "name": "stdout",
     "output_type": "stream",
     "text": [
      "== Physical Plan ==\n",
      "FileScan csv [City#70] Batched: false, DataFilters: [], Format: CSV, Location: InMemoryFileIndex(1 paths)[file:/G:/My Drive/CS-GY 6513 Big Data/Big-Data-Code/Spark/Electric_Veh..., PartitionFilters: [], PushedFilters: [], ReadSchema: struct<City:string>\n",
      "\n",
      "\n"
     ]
    }
   ],
   "source": [
    "df1.select(\"City\").explain()"
   ]
  },
  {
   "cell_type": "code",
   "execution_count": 14,
   "id": "ddc559e8-79c1-4359-b92d-9c5789ff2ccf",
   "metadata": {
    "tags": []
   },
   "outputs": [
    {
     "name": "stdout",
     "output_type": "stream",
     "text": [
      "+---------------+-----+\n",
      "|         County|count|\n",
      "+---------------+-----+\n",
      "|       Thurston| 4326|\n",
      "|          Ferry|   27|\n",
      "|          Marin|    1|\n",
      "|       Kittitas|  409|\n",
      "|Prince George's|    3|\n",
      "|      Snohomish|13293|\n",
      "|       Franklin|  387|\n",
      "|         Kitsap| 4016|\n",
      "|           Bell|    2|\n",
      "|       Arapahoe|    1|\n",
      "|     Alexandria|    5|\n",
      "|    Los Angeles|    8|\n",
      "|       Okanogan|  154|\n",
      "|     Sacramento|    1|\n",
      "|      San Diego|   23|\n",
      "|           null|    2|\n",
      "|   Grays Harbor|  415|\n",
      "|     Chesapeake|    4|\n",
      "|      St. Louis|    1|\n",
      "|           King|62375|\n",
      "+---------------+-----+\n",
      "only showing top 20 rows\n",
      "\n"
     ]
    }
   ],
   "source": [
    "df1.groupBy(\"County\").count().show()"
   ]
  },
  {
   "cell_type": "code",
   "execution_count": 15,
   "id": "4d33d1e4-ac8e-46ee-88f4-ca71ada23b6e",
   "metadata": {
    "tags": []
   },
   "outputs": [
    {
     "name": "stdout",
     "output_type": "stream",
     "text": [
      "+-------------------+\n",
      "|max(Electric Range)|\n",
      "+-------------------+\n",
      "|                337|\n",
      "+-------------------+\n",
      "\n"
     ]
    }
   ],
   "source": [
    "from pyspark.sql.functions import max\n",
    "df1.select(max(\"Electric Range\")).show()"
   ]
  },
  {
   "cell_type": "code",
   "execution_count": 16,
   "id": "f629cc8b-0725-450e-bce9-74c269fdfe38",
   "metadata": {
    "tags": []
   },
   "outputs": [
    {
     "name": "stdout",
     "output_type": "stream",
     "text": [
      "+---------+---------+--------------+-------+\n",
      "|   county|     city|electric range|  model|\n",
      "+---------+---------+--------------+-------+\n",
      "|    Clark|Vancouver|           337|MODEL S|\n",
      "|     King|Carnation|           337|MODEL S|\n",
      "|Snohomish|  Bothell|           337|MODEL S|\n",
      "+---------+---------+--------------+-------+\n",
      "only showing top 3 rows\n",
      "\n"
     ]
    }
   ],
   "source": [
    "from pyspark.sql.functions import desc\n",
    "\n",
    "df1.sort(desc(\"Electric Range\")).select(\"county\",\"city\",\"electric range\", \"model\").show(3)"
   ]
  },
  {
   "cell_type": "code",
   "execution_count": 17,
   "id": "8c5afc0b-9520-4688-9e22-45b7e1fd8d5e",
   "metadata": {
    "tags": []
   },
   "outputs": [
    {
     "name": "stdout",
     "output_type": "stream",
     "text": [
      "+----------------+-------------+\n",
      "|       Car Model|Highest Range|\n",
      "+----------------+-------------+\n",
      "|         MODEL S|          337|\n",
      "|         MODEL 3|          322|\n",
      "|         MODEL X|          293|\n",
      "|         MODEL Y|          291|\n",
      "|         BOLT EV|          259|\n",
      "|            KONA|          258|\n",
      "|        ROADSTER|          245|\n",
      "|            NIRO|          239|\n",
      "|          I-PACE|          234|\n",
      "|             PS2|          233|\n",
      "|          E-TRON|          222|\n",
      "|E-TRON SPORTBACK|          218|\n",
      "|            LEAF|          215|\n",
      "|          TAYCAN|          203|\n",
      "|           IONIQ|          170|\n",
      "|              I3|          153|\n",
      "|          E-GOLF|          125|\n",
      "|         SOUL EV|          111|\n",
      "|         HARDTOP|          110|\n",
      "|            RAV4|          103|\n",
      "+----------------+-------------+\n",
      "only showing top 20 rows\n",
      "\n"
     ]
    }
   ],
   "source": [
    "df1.groupBy(\"Model\").max(\"Electric Range\")\\\n",
    ".withColumnRenamed(\"Model\", \"Car Model\").withColumnRenamed(\"max(Electric Range)\",\"Highest Range\")\\\n",
    ".sort(desc(\"Highest Range\")).show()"
   ]
  },
  {
   "cell_type": "code",
   "execution_count": 18,
   "id": "a334de95-d5d2-4044-9ec4-b99e668993df",
   "metadata": {
    "tags": []
   },
   "outputs": [
    {
     "name": "stdout",
     "output_type": "stream",
     "text": [
      "root\n",
      " |-- VIN (1-10): string (nullable = true)\n",
      " |-- County: string (nullable = true)\n",
      " |-- City: string (nullable = true)\n",
      " |-- State: string (nullable = true)\n",
      " |-- Postal Code: integer (nullable = true)\n",
      " |-- Model Year: integer (nullable = true)\n",
      " |-- Make: string (nullable = true)\n",
      " |-- Model: string (nullable = true)\n",
      " |-- Electric Vehicle Type: string (nullable = true)\n",
      " |-- Clean Alternative Fuel Vehicle (CAFV) Eligibility: string (nullable = true)\n",
      " |-- Electric Range: integer (nullable = true)\n",
      " |-- Base MSRP: integer (nullable = true)\n",
      " |-- Legislative District: integer (nullable = true)\n",
      " |-- DOL Vehicle ID: integer (nullable = true)\n",
      " |-- Vehicle Location: string (nullable = true)\n",
      " |-- Electric Utility: string (nullable = true)\n",
      " |-- 2020 Census Tract: long (nullable = true)\n",
      "\n"
     ]
    }
   ],
   "source": [
    "df1.printSchema()"
   ]
  },
  {
   "cell_type": "code",
   "execution_count": 19,
   "id": "809e3e5a-f2dd-4ded-8dd1-55f98c9f06c9",
   "metadata": {
    "tags": []
   },
   "outputs": [
    {
     "name": "stdout",
     "output_type": "stream",
     "text": [
      "+-------+\n",
      "|  Model|\n",
      "+-------+\n",
      "|MODEL 3|\n",
      "| FUSION|\n",
      "|   LEAF|\n",
      "|     I3|\n",
      "|MODEL 3|\n",
      "|BOLT EV|\n",
      "|   NIRO|\n",
      "|   LEAF|\n",
      "|MODEL 3|\n",
      "|MODEL 3|\n",
      "|MODEL 3|\n",
      "|MODEL 3|\n",
      "|MODEL 3|\n",
      "|MODEL S|\n",
      "|MODEL 3|\n",
      "| OPTIMA|\n",
      "|SOUL EV|\n",
      "|   LEAF|\n",
      "|  C-MAX|\n",
      "|MODEL Y|\n",
      "+-------+\n",
      "only showing top 20 rows\n",
      "\n"
     ]
    }
   ],
   "source": [
    "df1.select(\"Model\").show()"
   ]
  },
  {
   "cell_type": "code",
   "execution_count": 20,
   "id": "e31d9504-18a8-4817-a83d-6c150fa01299",
   "metadata": {
    "tags": []
   },
   "outputs": [
    {
     "name": "stdout",
     "output_type": "stream",
     "text": [
      "root\n",
      " |-- DEST_COUNTRY_NAME: string (nullable = true)\n",
      " |-- ORIGIN_COUNTRY_NAME: string (nullable = true)\n",
      " |-- count: long (nullable = true)\n",
      "\n"
     ]
    }
   ],
   "source": [
    "df2 = spark.read.\\\n",
    "format(\"json\").load(\"flight-data/json/2015-summary.json\")\n",
    "df2.printSchema()"
   ]
  },
  {
   "cell_type": "code",
   "execution_count": 21,
   "id": "463fa63b-710e-4648-8604-4df579bfb8ac",
   "metadata": {
    "tags": []
   },
   "outputs": [
    {
     "name": "stdout",
     "output_type": "stream",
     "text": [
      "root\n",
      " |-- DEST_COUNTRY_NAME: string (nullable = true)\n",
      " |-- ORIGIN_COUNTRY_NAME: string (nullable = true)\n",
      " |-- count: long (nullable = true)\n",
      "\n"
     ]
    }
   ],
   "source": [
    "df2 = spark.read.json(\"flight-data/json/2015-summary.json\")\n",
    "df2.printSchema()"
   ]
  },
  {
   "cell_type": "code",
   "execution_count": null,
   "id": "9e1e8c60-e4ce-4bd5-ab48-761cb1a1eb58",
   "metadata": {},
   "outputs": [],
   "source": [
    "from pyspark.sql.functions import col\n",
    "df1.col(\"cars\")"
   ]
  }
 ],
 "metadata": {
  "kernelspec": {
   "display_name": "Python 3 (ipykernel)",
   "language": "python",
   "name": "python3"
  },
  "language_info": {
   "codemirror_mode": {
    "name": "ipython",
    "version": 3
   },
   "file_extension": ".py",
   "mimetype": "text/x-python",
   "name": "python",
   "nbconvert_exporter": "python",
   "pygments_lexer": "ipython3",
   "version": "3.8.16"
  }
 },
 "nbformat": 4,
 "nbformat_minor": 5
}
