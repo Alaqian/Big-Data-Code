{
 "cells": [
  {
   "cell_type": "code",
   "execution_count": 1,
   "id": "94b73626-5dd9-4d94-8249-16f2a3b602e1",
   "metadata": {
    "tags": []
   },
   "outputs": [],
   "source": [
    "import os\n",
    "import pyspark\n",
    "conf = pyspark.SparkConf()\n",
    "sc = pyspark.SparkContext(conf=conf)\n",
    "spark = pyspark.sql.SparkSession(sc)"
   ]
  },
  {
   "cell_type": "code",
   "execution_count": 2,
   "id": "a5523047-afd2-46df-85a7-d108193837aa",
   "metadata": {
    "tags": []
   },
   "outputs": [
    {
     "data": {
      "text/html": [
       "\n",
       "            <div>\n",
       "                <p><b>SparkSession - in-memory</b></p>\n",
       "                \n",
       "        <div>\n",
       "            <p><b>SparkContext</b></p>\n",
       "\n",
       "            <p><a href=\"http://host.docker.internal:4040\">Spark UI</a></p>\n",
       "\n",
       "            <dl>\n",
       "              <dt>Version</dt>\n",
       "                <dd><code>v3.3.2</code></dd>\n",
       "              <dt>Master</dt>\n",
       "                <dd><code>local[*]</code></dd>\n",
       "              <dt>AppName</dt>\n",
       "                <dd><code>pyspark-shell</code></dd>\n",
       "            </dl>\n",
       "        </div>\n",
       "        \n",
       "            </div>\n",
       "        "
      ],
      "text/plain": [
       "<pyspark.sql.session.SparkSession at 0x28393694400>"
      ]
     },
     "execution_count": 2,
     "metadata": {},
     "output_type": "execute_result"
    }
   ],
   "source": [
    "spark"
   ]
  },
  {
   "cell_type": "code",
   "execution_count": 3,
   "id": "a9fe779d-eefb-4d72-b46b-64e73e6363b3",
   "metadata": {},
   "outputs": [],
   "source": [
    "df = spark.read.csv(\"Electric_Vehicle_Population_Data.csv\")"
   ]
  },
  {
   "cell_type": "code",
   "execution_count": 4,
   "id": "8af6b301-89d2-4728-a6bc-dc24e71313be",
   "metadata": {
    "tags": []
   },
   "outputs": [
    {
     "data": {
      "text/plain": [
       "DataFrame[_c0: string, _c1: string, _c2: string, _c3: string, _c4: string, _c5: string, _c6: string, _c7: string, _c8: string, _c9: string, _c10: string, _c11: string, _c12: string, _c13: string, _c14: string, _c15: string, _c16: string]"
      ]
     },
     "execution_count": 4,
     "metadata": {},
     "output_type": "execute_result"
    }
   ],
   "source": [
    "df"
   ]
  },
  {
   "cell_type": "code",
   "execution_count": 6,
   "id": "7a7aa6af-cbd6-4077-a3c5-baedad78c298",
   "metadata": {
    "tags": []
   },
   "outputs": [],
   "source": [
    "df1 = spark.read.option(\"header\", True).option(\"InferSchema\", True).csv(\"Electric_Vehicle_Population_Data.csv\")"
   ]
  },
  {
   "cell_type": "code",
   "execution_count": 7,
   "id": "a5f37c1a-c775-4df3-94ee-f4df4b406d65",
   "metadata": {
    "tags": []
   },
   "outputs": [
    {
     "data": {
      "text/plain": [
       "DataFrame[VIN (1-10): string, County: string, City: string, State: string, Postal Code: int, Model Year: int, Make: string, Model: string, Electric Vehicle Type: string, Clean Alternative Fuel Vehicle (CAFV) Eligibility: string, Electric Range: int, Base MSRP: int, Legislative District: int, DOL Vehicle ID: int, Vehicle Location: string, Electric Utility: string, 2020 Census Tract: bigint]"
      ]
     },
     "execution_count": 7,
     "metadata": {},
     "output_type": "execute_result"
    }
   ],
   "source": [
    "df1"
   ]
  },
  {
   "cell_type": "code",
   "execution_count": 13,
   "id": "b2777852-5089-4fef-8d1e-cba6e69c1e10",
   "metadata": {
    "tags": []
   },
   "outputs": [
    {
     "name": "stdout",
     "output_type": "stream",
     "text": [
      "+----------+---------+----------+-----+-----------+----------+------+-------+---------------------+-------------------------------------------------+--------------+---------+--------------------+--------------+--------------------+--------------------+-----------------+\n",
      "|VIN (1-10)|   County|      City|State|Postal Code|Model Year|  Make|  Model|Electric Vehicle Type|Clean Alternative Fuel Vehicle (CAFV) Eligibility|Electric Range|Base MSRP|Legislative District|DOL Vehicle ID|    Vehicle Location|    Electric Utility|2020 Census Tract|\n",
      "+----------+---------+----------+-----+-----------+----------+------+-------+---------------------+-------------------------------------------------+--------------+---------+--------------------+--------------+--------------------+--------------------+-----------------+\n",
      "|5YJ3E1EA8J|San Diego| Oceanside|   CA|      92051|      2018| TESLA|MODEL 3| Battery Electric ...|                             Clean Alternative...|           215|        0|                null|     153998050|                null|                null|       6073018509|\n",
      "|3FA6P0PU7H| Sedgwick|     Derby|   KS|      67037|      2017|  FORD| FUSION| Plug-in Hybrid El...|                             Not eligible due ...|            21|        0|                null|     138214331|POINT (-97.27013 ...|                null|      20173009801|\n",
      "|1N4AZ0CP8D|Snohomish|Marysville|   WA|      98271|      2013|NISSAN|   LEAF| Battery Electric ...|                             Clean Alternative...|            75|        0|                  38|       3129059|POINT (-122.19388...|PUGET SOUND ENERG...|      53061052805|\n",
      "|WBY8P8C58K|   Kitsap| Bremerton|   WA|      98337|      2019|   BMW|     I3| Plug-in Hybrid El...|                             Clean Alternative...|           126|        0|                  26|     166525635|POINT (-122.62749...|PUGET SOUND ENERG...|      53035080500|\n",
      "|5YJ3E1EA7K|Snohomish|   Edmonds|   WA|      98026|      2019| TESLA|MODEL 3| Battery Electric ...|                             Clean Alternative...|           220|        0|                  32|     475248315|POINT (-122.31768...|PUGET SOUND ENERG...|      53061050800|\n",
      "+----------+---------+----------+-----+-----------+----------+------+-------+---------------------+-------------------------------------------------+--------------+---------+--------------------+--------------+--------------------+--------------------+-----------------+\n",
      "only showing top 5 rows\n",
      "\n"
     ]
    }
   ],
   "source": [
    "df1.show(5)"
   ]
  },
  {
   "cell_type": "code",
   "execution_count": null,
   "id": "ae631c8d-6439-414e-b804-378da19e452e",
   "metadata": {},
   "outputs": [],
   "source": []
  }
 ],
 "metadata": {
  "kernelspec": {
   "display_name": "Python 3 (ipykernel)",
   "language": "python",
   "name": "python3"
  },
  "language_info": {
   "codemirror_mode": {
    "name": "ipython",
    "version": 3
   },
   "file_extension": ".py",
   "mimetype": "text/x-python",
   "name": "python",
   "nbconvert_exporter": "python",
   "pygments_lexer": "ipython3",
   "version": "3.8.16"
  }
 },
 "nbformat": 4,
 "nbformat_minor": 5
}
