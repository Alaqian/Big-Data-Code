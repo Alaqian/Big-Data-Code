{
 "cells": [
  {
   "cell_type": "code",
   "execution_count": 1,
   "id": "94b73626-5dd9-4d94-8249-16f2a3b602e1",
   "metadata": {
    "tags": []
   },
   "outputs": [],
   "source": [
    "import os\n",
    "import pyspark\n",
    "conf = pyspark.SparkConf()\n",
    "sc = pyspark.SparkContext(conf=conf)\n",
    "spark = pyspark.sql.SparkSession(sc)"
   ]
  },
  {
   "cell_type": "code",
   "execution_count": 2,
   "id": "a5523047-afd2-46df-85a7-d108193837aa",
   "metadata": {
    "tags": []
   },
   "outputs": [
    {
     "data": {
      "text/html": [
       "\n",
       "            <div>\n",
       "                <p><b>SparkSession - in-memory</b></p>\n",
       "                \n",
       "        <div>\n",
       "            <p><b>SparkContext</b></p>\n",
       "\n",
       "            <p><a href=\"http://host.docker.internal:4040\">Spark UI</a></p>\n",
       "\n",
       "            <dl>\n",
       "              <dt>Version</dt>\n",
       "                <dd><code>v3.3.2</code></dd>\n",
       "              <dt>Master</dt>\n",
       "                <dd><code>local[*]</code></dd>\n",
       "              <dt>AppName</dt>\n",
       "                <dd><code>pyspark-shell</code></dd>\n",
       "            </dl>\n",
       "        </div>\n",
       "        \n",
       "            </div>\n",
       "        "
      ],
      "text/plain": [
       "<pyspark.sql.session.SparkSession at 0x195d18b7f40>"
      ]
     },
     "execution_count": 2,
     "metadata": {},
     "output_type": "execute_result"
    }
   ],
   "source": [
    "spark"
   ]
  },
  {
   "cell_type": "code",
   "execution_count": 3,
   "id": "a9fe779d-eefb-4d72-b46b-64e73e6363b3",
   "metadata": {},
   "outputs": [],
   "source": [
    "df = spark.read.csv(\"Electric_Vehicle_Population_Data.csv\")"
   ]
  },
  {
   "cell_type": "code",
   "execution_count": 4,
   "id": "8af6b301-89d2-4728-a6bc-dc24e71313be",
   "metadata": {
    "tags": []
   },
   "outputs": [
    {
     "data": {
      "text/plain": [
       "DataFrame[_c0: string, _c1: string, _c2: string, _c3: string, _c4: string, _c5: string, _c6: string, _c7: string, _c8: string, _c9: string, _c10: string, _c11: string, _c12: string, _c13: string, _c14: string, _c15: string, _c16: string]"
      ]
     },
     "execution_count": 4,
     "metadata": {},
     "output_type": "execute_result"
    }
   ],
   "source": [
    "df"
   ]
  },
  {
   "cell_type": "code",
   "execution_count": 5,
   "id": "7a7aa6af-cbd6-4077-a3c5-baedad78c298",
   "metadata": {
    "tags": []
   },
   "outputs": [],
   "source": [
    "df1 = spark.read.option(\"header\", True).option(\"InferSchema\", True).csv(\"Electric_Vehicle_Population_Data.csv\")"
   ]
  },
  {
   "cell_type": "code",
   "execution_count": 6,
   "id": "a5f37c1a-c775-4df3-94ee-f4df4b406d65",
   "metadata": {
    "tags": []
   },
   "outputs": [
    {
     "data": {
      "text/plain": [
       "DataFrame[VIN (1-10): string, County: string, City: string, State: string, Postal Code: int, Model Year: int, Make: string, Model: string, Electric Vehicle Type: string, Clean Alternative Fuel Vehicle (CAFV) Eligibility: string, Electric Range: int, Base MSRP: int, Legislative District: int, DOL Vehicle ID: int, Vehicle Location: string, Electric Utility: string, 2020 Census Tract: bigint]"
      ]
     },
     "execution_count": 6,
     "metadata": {},
     "output_type": "execute_result"
    }
   ],
   "source": [
    "df1"
   ]
  },
  {
   "cell_type": "code",
   "execution_count": 7,
   "id": "b2777852-5089-4fef-8d1e-cba6e69c1e10",
   "metadata": {
    "tags": []
   },
   "outputs": [
    {
     "name": "stdout",
     "output_type": "stream",
     "text": [
      "+----------+-----------+-----------+-----+-----------+----------+---------+-------+---------------------+-------------------------------------------------+--------------+---------+--------------------+--------------+--------------------+--------------------+-----------------+\n",
      "|VIN (1-10)|     County|       City|State|Postal Code|Model Year|     Make|  Model|Electric Vehicle Type|Clean Alternative Fuel Vehicle (CAFV) Eligibility|Electric Range|Base MSRP|Legislative District|DOL Vehicle ID|    Vehicle Location|    Electric Utility|2020 Census Tract|\n",
      "+----------+-----------+-----------+-----+-----------+----------+---------+-------+---------------------+-------------------------------------------------+--------------+---------+--------------------+--------------+--------------------+--------------------+-----------------+\n",
      "|5YJ3E1EA8J|  San Diego|  Oceanside|   CA|      92051|      2018|    TESLA|MODEL 3| Battery Electric ...|                             Clean Alternative...|           215|        0|                null|     153998050|                null|                null|       6073018509|\n",
      "|3FA6P0PU7H|   Sedgwick|      Derby|   KS|      67037|      2017|     FORD| FUSION| Plug-in Hybrid El...|                             Not eligible due ...|            21|        0|                null|     138214331|POINT (-97.27013 ...|                null|      20173009801|\n",
      "|1N4AZ0CP8D|  Snohomish| Marysville|   WA|      98271|      2013|   NISSAN|   LEAF| Battery Electric ...|                             Clean Alternative...|            75|        0|                  38|       3129059|POINT (-122.19388...|PUGET SOUND ENERG...|      53061052805|\n",
      "|WBY8P8C58K|     Kitsap|  Bremerton|   WA|      98337|      2019|      BMW|     I3| Plug-in Hybrid El...|                             Clean Alternative...|           126|        0|                  26|     166525635|POINT (-122.62749...|PUGET SOUND ENERG...|      53035080500|\n",
      "|5YJ3E1EA7K|  Snohomish|    Edmonds|   WA|      98026|      2019|    TESLA|MODEL 3| Battery Electric ...|                             Clean Alternative...|           220|        0|                  32|     475248315|POINT (-122.31768...|PUGET SOUND ENERG...|      53061050800|\n",
      "|1G1FZ6S07L|Walla Walla|Walla Walla|   WA|      99362|      2020|CHEVROLET|BOLT EV| Battery Electric ...|                             Clean Alternative...|           259|        0|                  16|     150312991|POINT (-118.34261...|          PACIFICORP|      53071920702|\n",
      "|KNDCC3LG1L|  Snohomish|    Everett|   WA|      98204|      2020|      KIA|   NIRO| Battery Electric ...|                             Clean Alternative...|           239|        0|                  21|     152471728|POINT (-122.25527...|PUGET SOUND ENERG...|      53061041905|\n",
      "|1N4AZ0CP5D|     Island| Oak Harbor|   WA|      98277|      2013|   NISSAN|   LEAF| Battery Electric ...|                             Clean Alternative...|            75|        0|                  10|     234850367|POINT (-122.64682...|PUGET SOUND ENERG...|      53029970300|\n",
      "|5YJ3E1EA1L|  Snohomish|    Bothell|   WA|      98021|      2020|    TESLA|MODEL 3| Battery Electric ...|                             Clean Alternative...|           266|        0|                   1|     110771972|POINT (-122.18384...|PUGET SOUND ENERG...|      53061051937|\n",
      "|5YJ3E1EB8K|   Thurston|    Olympia|   WA|      98501|      2019|    TESLA|MODEL 3| Battery Electric ...|                             Clean Alternative...|           220|        0|                  22|     477769939|POINT (-122.89166...|PUGET SOUND ENERG...|      53067010700|\n",
      "|5YJ3E1EA4J|     Skagit|  Anacortes|   WA|      98221|      2018|    TESLA|MODEL 3| Battery Electric ...|                             Clean Alternative...|           215|        0|                  10|     258609291|POINT (-122.61214...|PUGET SOUND ENERG...|      53057940302|\n",
      "|5YJ3E1EBXL|  Snohomish|    Bothell|   WA|      98012|      2020|    TESLA|MODEL 3| Battery Electric ...|                             Clean Alternative...|           322|        0|                  21|     106295451|POINT (-122.21061...|PUGET SOUND ENERG...|      53061051927|\n",
      "|5YJ3E1EA9J|       King|       Kent|   WA|      98031|      2018|    TESLA|MODEL 3| Battery Electric ...|                             Clean Alternative...|           215|        0|                  11|     186185814|POINT (-122.17743...|PUGET SOUND ENERG...|      53033029306|\n",
      "|5YJSA1S29F|  Snohomish|    Bothell|   WA|      98021|      2015|    TESLA|MODEL S| Battery Electric ...|                             Clean Alternative...|           208|        0|                   1|     199402794|POINT (-122.18384...|PUGET SOUND ENERG...|      53061051937|\n",
      "|5YJ3E1EAXK|   Thurston|    Olympia|   WA|      98513|      2019|    TESLA|MODEL 3| Battery Electric ...|                             Clean Alternative...|           220|        0|                   2|     329238430|POINT (-122.80277...|PUGET SOUND ENERG...|      53067012320|\n",
      "|KNAGV4LD3H|     Kitsap|  Bremerton|   WA|      98383|      2017|      KIA| OPTIMA| Plug-in Hybrid El...|                             Not eligible due ...|            29|        0|                  23|     314301186|POINT (-122.69275...|PUGET SOUND ENERG...|      53035091205|\n",
      "|KNDJP3AE8H|     Kitsap|     Olalla|   WA|      98359|      2017|      KIA|SOUL EV| Battery Electric ...|                             Clean Alternative...|            93|    32250|                  26|     350084948|POINT (-122.54729...|PUGET SOUND ENERG...|      53035092803|\n",
      "|1N4AZ1CP8K|  Snohomish|    Woodway|   WA|      98020|      2019|   NISSAN|   LEAF| Battery Electric ...|                             Clean Alternative...|           150|        0|                  32|     274983740|POINT (-122.37689...|PUGET SOUND ENERG...|      53061050600|\n",
      "|1FADP5CU1D|  Snohomish|    Bothell|   WA|      98021|      2013|     FORD|  C-MAX| Plug-in Hybrid El...|                             Not eligible due ...|            19|        0|                   1|     302447554|POINT (-122.18384...|PUGET SOUND ENERG...|      53061051918|\n",
      "|7SAYGDEE2N|    Whitman|    Pullman|   WA|      99163|      2022|    TESLA|MODEL Y| Battery Electric ...|                             Eligibility unkno...|             0|        0|                   9|     193579760|POINT (-117.18147...|         AVISTA CORP|      53075000201|\n",
      "+----------+-----------+-----------+-----+-----------+----------+---------+-------+---------------------+-------------------------------------------------+--------------+---------+--------------------+--------------+--------------------+--------------------+-----------------+\n",
      "only showing top 20 rows\n",
      "\n"
     ]
    }
   ],
   "source": [
    "df1.show()"
   ]
  },
  {
   "cell_type": "code",
   "execution_count": null,
   "id": "ae631c8d-6439-414e-b804-378da19e452e",
   "metadata": {},
   "outputs": [],
   "source": []
  }
 ],
 "metadata": {
  "kernelspec": {
   "display_name": "Python 3 (ipykernel)",
   "language": "python",
   "name": "python3"
  },
  "language_info": {
   "codemirror_mode": {
    "name": "ipython",
    "version": 3
   },
   "file_extension": ".py",
   "mimetype": "text/x-python",
   "name": "python",
   "nbconvert_exporter": "python",
   "pygments_lexer": "ipython3",
   "version": "3.8.16"
  }
 },
 "nbformat": 4,
 "nbformat_minor": 5
}
