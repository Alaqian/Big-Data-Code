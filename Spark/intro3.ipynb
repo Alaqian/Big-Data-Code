{
 "cells": [
  {
   "cell_type": "code",
   "execution_count": 1,
   "id": "92d65680-ed4f-416e-83a3-b3ba83a59c78",
   "metadata": {
    "execution": {
     "iopub.execute_input": "2023-03-09T23:40:01.215510Z",
     "iopub.status.busy": "2023-03-09T23:40:01.215510Z",
     "iopub.status.idle": "2023-03-09T23:40:05.538060Z",
     "shell.execute_reply": "2023-03-09T23:40:05.538060Z",
     "shell.execute_reply.started": "2023-03-09T23:40:01.215510Z"
    },
    "tags": []
   },
   "outputs": [
    {
     "data": {
      "text/html": [
       "\n",
       "            <div>\n",
       "                <p><b>SparkSession - in-memory</b></p>\n",
       "                \n",
       "        <div>\n",
       "            <p><b>SparkContext</b></p>\n",
       "\n",
       "            <p><a href=\"http://10.18.218.122:4041\">Spark UI</a></p>\n",
       "\n",
       "            <dl>\n",
       "              <dt>Version</dt>\n",
       "                <dd><code>v3.3.2</code></dd>\n",
       "              <dt>Master</dt>\n",
       "                <dd><code>local[*]</code></dd>\n",
       "              <dt>AppName</dt>\n",
       "                <dd><code>pyspark-shell</code></dd>\n",
       "            </dl>\n",
       "        </div>\n",
       "        \n",
       "            </div>\n",
       "        "
      ],
      "text/plain": [
       "<pyspark.sql.session.SparkSession at 0x24550b7a580>"
      ]
     },
     "execution_count": 1,
     "metadata": {},
     "output_type": "execute_result"
    }
   ],
   "source": [
    "import os\n",
    "import pyspark\n",
    "import sys\n",
    "\n",
    "os.environ['PYSPARK_PYTHON'] = sys.executable\n",
    "os.environ['PYSPARK_DRIVER_PYTHON'] = sys.executable\n",
    "conf = pyspark.SparkConf()\n",
    "\n",
    "sc = pyspark.SparkContext(conf=conf)\n",
    "spark = pyspark.sql.SparkSession(sc)\n",
    "spark"
   ]
  },
  {
   "cell_type": "code",
   "execution_count": 2,
   "id": "a30e2839-d082-49f5-913f-607d9679e578",
   "metadata": {
    "execution": {
     "iopub.execute_input": "2023-03-09T23:40:05.539042Z",
     "iopub.status.busy": "2023-03-09T23:40:05.539042Z",
     "iopub.status.idle": "2023-03-09T23:40:06.794888Z",
     "shell.execute_reply": "2023-03-09T23:40:06.793905Z",
     "shell.execute_reply.started": "2023-03-09T23:40:05.539042Z"
    },
    "tags": []
   },
   "outputs": [],
   "source": [
    "jsonDF = spark.range(1).selectExpr(\"\"\" '{\"myJSONKey\" : {\"myJSONValue\" : [1, 2, 3]}}' as jsonString\"\"\")"
   ]
  },
  {
   "cell_type": "code",
   "execution_count": 3,
   "id": "126d798d-7c28-41b2-9bd8-05b15f88e998",
   "metadata": {
    "execution": {
     "iopub.execute_input": "2023-03-09T23:40:06.795885Z",
     "iopub.status.busy": "2023-03-09T23:40:06.795885Z",
     "iopub.status.idle": "2023-03-09T23:40:06.894681Z",
     "shell.execute_reply": "2023-03-09T23:40:06.894681Z",
     "shell.execute_reply.started": "2023-03-09T23:40:06.795885Z"
    },
    "tags": []
   },
   "outputs": [],
   "source": [
    "from pyspark.sql.functions import get_json_object, json_tuple, col\n",
    "newDF = jsonDF.select( get_json_object(col(\"jsonString\"), \"$.myJSONKey.myJSONValue[1]\").alias(\"column\"),\\\n",
    "                      json_tuple(col(\"jsonString\"), \"myJSONKey\"))"
   ]
  },
  {
   "cell_type": "code",
   "execution_count": 4,
   "id": "98aca17f-71b2-4f24-b9f4-85749a818431",
   "metadata": {
    "execution": {
     "iopub.execute_input": "2023-03-09T23:40:17.615846Z",
     "iopub.status.busy": "2023-03-09T23:40:17.615846Z",
     "iopub.status.idle": "2023-03-09T23:40:19.454813Z",
     "shell.execute_reply": "2023-03-09T23:40:19.454660Z",
     "shell.execute_reply.started": "2023-03-09T23:40:17.615846Z"
    },
    "tags": []
   },
   "outputs": [
    {
     "data": {
      "text/html": [
       "<div>\n",
       "<style scoped>\n",
       "    .dataframe tbody tr th:only-of-type {\n",
       "        vertical-align: middle;\n",
       "    }\n",
       "\n",
       "    .dataframe tbody tr th {\n",
       "        vertical-align: top;\n",
       "    }\n",
       "\n",
       "    .dataframe thead th {\n",
       "        text-align: right;\n",
       "    }\n",
       "</style>\n",
       "<table border=\"1\" class=\"dataframe\">\n",
       "  <thead>\n",
       "    <tr style=\"text-align: right;\">\n",
       "      <th></th>\n",
       "      <th>column</th>\n",
       "      <th>c0</th>\n",
       "    </tr>\n",
       "  </thead>\n",
       "  <tbody>\n",
       "    <tr>\n",
       "      <th>0</th>\n",
       "      <td>2</td>\n",
       "      <td>{\"myJSONValue\":[1,2,3]}</td>\n",
       "    </tr>\n",
       "  </tbody>\n",
       "</table>\n",
       "</div>"
      ],
      "text/plain": [
       "  column                       c0\n",
       "0      2  {\"myJSONValue\":[1,2,3]}"
      ]
     },
     "execution_count": 4,
     "metadata": {},
     "output_type": "execute_result"
    }
   ],
   "source": [
    "newDF.toPandas()"
   ]
  },
  {
   "cell_type": "code",
   "execution_count": null,
   "id": "0fb52d81-bea3-4c93-a426-55820f1f5030",
   "metadata": {},
   "outputs": [],
   "source": []
  }
 ],
 "metadata": {
  "kernelspec": {
   "display_name": "Python 3 (ipykernel)",
   "language": "python",
   "name": "python3"
  },
  "language_info": {
   "codemirror_mode": {
    "name": "ipython",
    "version": 3
   },
   "file_extension": ".py",
   "mimetype": "text/x-python",
   "name": "python",
   "nbconvert_exporter": "python",
   "pygments_lexer": "ipython3",
   "version": "3.8.16"
  }
 },
 "nbformat": 4,
 "nbformat_minor": 5
}
