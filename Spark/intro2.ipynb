{
 "cells": [
  {
   "cell_type": "code",
   "execution_count": 1,
   "id": "6bf10a13-4a7d-4b9d-970f-9c0b11a2fb13",
   "metadata": {
    "tags": []
   },
   "outputs": [
    {
     "data": {
      "text/html": [
       "\n",
       "            <div>\n",
       "                <p><b>SparkSession - in-memory</b></p>\n",
       "                \n",
       "        <div>\n",
       "            <p><b>SparkContext</b></p>\n",
       "\n",
       "            <p><a href=\"http://10.18.205.15:4040\">Spark UI</a></p>\n",
       "\n",
       "            <dl>\n",
       "              <dt>Version</dt>\n",
       "                <dd><code>v3.3.2</code></dd>\n",
       "              <dt>Master</dt>\n",
       "                <dd><code>local[*]</code></dd>\n",
       "              <dt>AppName</dt>\n",
       "                <dd><code>pyspark-shell</code></dd>\n",
       "            </dl>\n",
       "        </div>\n",
       "        \n",
       "            </div>\n",
       "        "
      ],
      "text/plain": [
       "<pyspark.sql.session.SparkSession at 0x188e60d3970>"
      ]
     },
     "execution_count": 1,
     "metadata": {},
     "output_type": "execute_result"
    }
   ],
   "source": [
    "import os\n",
    "import pyspark\n",
    "import sys\n",
    "\n",
    "os.environ['PYSPARK_PYTHON'] = sys.executable\n",
    "os.environ['PYSPARK_DRIVER_PYTHON'] = sys.executable\n",
    "conf = pyspark.SparkConf()\n",
    "sc = pyspark.SparkContext(conf=conf)\n",
    "spark = pyspark.sql.SparkSession(sc)\n",
    "spark"
   ]
  },
  {
   "cell_type": "raw",
   "id": "50b9d4ba-e6d8-4c12-934d-659feaa9d3f7",
   "metadata": {
    "tags": []
   },
   "source": [
    "df = spark.read.\\\n",
    "format(\"json\").load(\"flight-data/json/2015-summary.json\")\n",
    "df.printSchema()"
   ]
  },
  {
   "cell_type": "raw",
   "id": "b1e7aed6-2ed3-46d5-ab3c-a842ca1268f5",
   "metadata": {
    "tags": []
   },
   "source": [
    "df = spark.read.format(\"csv\").option(\"header\", True).option(\"InferSchema\", True).load(\"retail-data/online-retail-dataset.csv\").coalesce(5)"
   ]
  },
  {
   "cell_type": "raw",
   "id": "fb1b96e0-c210-437b-9831-17f7a61cf54a",
   "metadata": {
    "tags": []
   },
   "source": [
    "df.count()"
   ]
  },
  {
   "cell_type": "raw",
   "id": "2b823d20-8d9d-4c99-a4c0-5ce42526ef31",
   "metadata": {
    "tags": []
   },
   "source": [
    "df.printSchema()"
   ]
  },
  {
   "cell_type": "raw",
   "id": "318b1177-a600-4325-9373-5e2f70400ebb",
   "metadata": {
    "tags": []
   },
   "source": [
    "from pyspark.sql.functions import avg\n",
    "df.select(avg(\"UnitPrice\")).show()"
   ]
  },
  {
   "cell_type": "raw",
   "id": "7cfa9da6-01a4-4926-87e4-e6224ddb67fa",
   "metadata": {
    "tags": []
   },
   "source": [
    "from pyspark.sql import Row\n",
    "\n",
    "myRow = Row(\"Hello\", None, 1, False)"
   ]
  },
  {
   "cell_type": "raw",
   "id": "c9b8b52f-d74f-414b-ae30-ffab563c2ea6",
   "metadata": {
    "tags": []
   },
   "source": [
    "myRow"
   ]
  },
  {
   "cell_type": "raw",
   "id": "de36f872-3c3e-4684-9ff2-42c1ad6a2e28",
   "metadata": {
    "tags": []
   },
   "source": [
    "myRow[0]"
   ]
  },
  {
   "cell_type": "raw",
   "id": "74ac46d5-cd30-4dd1-b887-8526e4024659",
   "metadata": {
    "tags": []
   },
   "source": [
    "myRow[1]"
   ]
  },
  {
   "cell_type": "raw",
   "id": "9177fb05-1d93-4996-b46d-26a09396e713",
   "metadata": {
    "tags": []
   },
   "source": [
    "myRow[2]"
   ]
  },
  {
   "cell_type": "raw",
   "id": "3e27237b-527f-482d-86f9-0765863e7dfe",
   "metadata": {},
   "source": [
    "myRow[3]"
   ]
  },
  {
   "cell_type": "raw",
   "id": "95c57aa7-1d66-44f9-8d67-56806dc6a2c5",
   "metadata": {
    "tags": []
   },
   "source": [
    "from pyspark.sql.types import StructField, StructType, StringType, LongType, DoubleType\n",
    "\n",
    "myManualSchema = StructType([\n",
    "    StructField(\"some\", StringType(), True),\n",
    "    StructField(\"col\", StringType(), True),\n",
    "    StructField(\"names\", LongType(), False) ])\n",
    "\n"
   ]
  },
  {
   "cell_type": "raw",
   "id": "4bf64dda-f2d0-4362-9f05-d48d0dabf784",
   "metadata": {
    "tags": []
   },
   "source": [
    "myManualSchema"
   ]
  },
  {
   "cell_type": "raw",
   "id": "258e38b1-cebd-4545-85ec-b9f494ed7730",
   "metadata": {
    "tags": []
   },
   "source": [
    "myRow = Row(\"Hello\", None, 1)\n",
    "myRow1 = Row(\"Darkness\", None, 1)\n",
    "myRow2 = Row(\"My\", None, 1)\n",
    "myRow3 = Row(\"Old\", None, 1)\n",
    "myRow4 = Row(\"Friend\", None, 1)\n",
    "myDf = spark.createDataFrame([myRow,myRow1, myRow2, myRow3, myRow4], myManualSchema)\n"
   ]
  },
  {
   "cell_type": "raw",
   "id": "0d4d836d-b790-4fab-952d-43504f7299de",
   "metadata": {
    "tags": []
   },
   "source": [
    "myDf.show()"
   ]
  },
  {
   "cell_type": "code",
   "execution_count": 2,
   "id": "6bba24db-bcc1-42ac-b55d-6531134a7573",
   "metadata": {},
   "outputs": [],
   "source": [
    "from pyspark.sql.functions import *"
   ]
  },
  {
   "cell_type": "code",
   "execution_count": 3,
   "id": "cbe19c1b-7636-43af-aaad-524ba1555ccf",
   "metadata": {
    "tags": []
   },
   "outputs": [],
   "source": [
    "df = spark.read.option(\"header\", True).option(\"InferSchema\", True).csv(\"flight-data/csv/2015-summary.csv\").coalesce(5)"
   ]
  },
  {
   "cell_type": "code",
   "execution_count": 4,
   "id": "3531682b-1bf6-415a-94d9-aebb30322426",
   "metadata": {
    "tags": []
   },
   "outputs": [
    {
     "name": "stdout",
     "output_type": "stream",
     "text": [
      "root\n",
      " |-- DEST_COUNTRY_NAME: string (nullable = true)\n",
      " |-- ORIGIN_COUNTRY_NAME: string (nullable = true)\n",
      " |-- count: integer (nullable = true)\n",
      "\n"
     ]
    }
   ],
   "source": [
    "df.printSchema()"
   ]
  },
  {
   "cell_type": "code",
   "execution_count": 5,
   "id": "9a8c8573-7236-4edf-b92b-5290f5383eba",
   "metadata": {
    "tags": []
   },
   "outputs": [
    {
     "data": {
      "text/html": [
       "<div>\n",
       "<style scoped>\n",
       "    .dataframe tbody tr th:only-of-type {\n",
       "        vertical-align: middle;\n",
       "    }\n",
       "\n",
       "    .dataframe tbody tr th {\n",
       "        vertical-align: top;\n",
       "    }\n",
       "\n",
       "    .dataframe thead th {\n",
       "        text-align: right;\n",
       "    }\n",
       "</style>\n",
       "<table border=\"1\" class=\"dataframe\">\n",
       "  <thead>\n",
       "    <tr style=\"text-align: right;\">\n",
       "      <th></th>\n",
       "      <th>Coutry</th>\n",
       "    </tr>\n",
       "  </thead>\n",
       "  <tbody>\n",
       "    <tr>\n",
       "      <th>0</th>\n",
       "      <td>Paraguay</td>\n",
       "    </tr>\n",
       "    <tr>\n",
       "      <th>1</th>\n",
       "      <td>Russia</td>\n",
       "    </tr>\n",
       "    <tr>\n",
       "      <th>2</th>\n",
       "      <td>Anguilla</td>\n",
       "    </tr>\n",
       "    <tr>\n",
       "      <th>3</th>\n",
       "      <td>Senegal</td>\n",
       "    </tr>\n",
       "    <tr>\n",
       "      <th>4</th>\n",
       "      <td>Sweden</td>\n",
       "    </tr>\n",
       "    <tr>\n",
       "      <th>...</th>\n",
       "      <td>...</td>\n",
       "    </tr>\n",
       "    <tr>\n",
       "      <th>120</th>\n",
       "      <td>Hungary</td>\n",
       "    </tr>\n",
       "    <tr>\n",
       "      <th>121</th>\n",
       "      <td>Pakistan</td>\n",
       "    </tr>\n",
       "    <tr>\n",
       "      <th>122</th>\n",
       "      <td>United Kingdom</td>\n",
       "    </tr>\n",
       "    <tr>\n",
       "      <th>123</th>\n",
       "      <td>Vietnam</td>\n",
       "    </tr>\n",
       "    <tr>\n",
       "      <th>124</th>\n",
       "      <td>Netherlands</td>\n",
       "    </tr>\n",
       "  </tbody>\n",
       "</table>\n",
       "<p>125 rows × 1 columns</p>\n",
       "</div>"
      ],
      "text/plain": [
       "             Coutry\n",
       "0          Paraguay\n",
       "1            Russia\n",
       "2          Anguilla\n",
       "3           Senegal\n",
       "4            Sweden\n",
       "..              ...\n",
       "120         Hungary\n",
       "121        Pakistan\n",
       "122  United Kingdom\n",
       "123         Vietnam\n",
       "124     Netherlands\n",
       "\n",
       "[125 rows x 1 columns]"
      ]
     },
     "execution_count": 5,
     "metadata": {},
     "output_type": "execute_result"
    }
   ],
   "source": [
    "df.select(col(\"ORIGIN_COUNTRY_NAME\").alias(\"Coutry\")).distinct().toPandas()"
   ]
  },
  {
   "cell_type": "code",
   "execution_count": 6,
   "id": "4e6d01e0-8582-43d4-8180-4732c6a44238",
   "metadata": {
    "tags": []
   },
   "outputs": [
    {
     "data": {
      "text/html": [
       "<div>\n",
       "<style scoped>\n",
       "    .dataframe tbody tr th:only-of-type {\n",
       "        vertical-align: middle;\n",
       "    }\n",
       "\n",
       "    .dataframe tbody tr th {\n",
       "        vertical-align: top;\n",
       "    }\n",
       "\n",
       "    .dataframe thead th {\n",
       "        text-align: right;\n",
       "    }\n",
       "</style>\n",
       "<table border=\"1\" class=\"dataframe\">\n",
       "  <thead>\n",
       "    <tr style=\"text-align: right;\">\n",
       "      <th></th>\n",
       "      <th>DEST_COUNTRY_NAME</th>\n",
       "      <th>ORIGIN_COUNTRY_NAME</th>\n",
       "      <th>count</th>\n",
       "    </tr>\n",
       "  </thead>\n",
       "  <tbody>\n",
       "    <tr>\n",
       "      <th>0</th>\n",
       "      <td>United States</td>\n",
       "      <td>Romania</td>\n",
       "      <td>15</td>\n",
       "    </tr>\n",
       "    <tr>\n",
       "      <th>1</th>\n",
       "      <td>United States</td>\n",
       "      <td>Croatia</td>\n",
       "      <td>1</td>\n",
       "    </tr>\n",
       "    <tr>\n",
       "      <th>2</th>\n",
       "      <td>United States</td>\n",
       "      <td>Ireland</td>\n",
       "      <td>344</td>\n",
       "    </tr>\n",
       "    <tr>\n",
       "      <th>3</th>\n",
       "      <td>Egypt</td>\n",
       "      <td>United States</td>\n",
       "      <td>15</td>\n",
       "    </tr>\n",
       "    <tr>\n",
       "      <th>4</th>\n",
       "      <td>United States</td>\n",
       "      <td>India</td>\n",
       "      <td>62</td>\n",
       "    </tr>\n",
       "    <tr>\n",
       "      <th>5</th>\n",
       "      <td>United States</td>\n",
       "      <td>Singapore</td>\n",
       "      <td>1</td>\n",
       "    </tr>\n",
       "    <tr>\n",
       "      <th>6</th>\n",
       "      <td>United States</td>\n",
       "      <td>Grenada</td>\n",
       "      <td>62</td>\n",
       "    </tr>\n",
       "    <tr>\n",
       "      <th>7</th>\n",
       "      <td>Costa Rica</td>\n",
       "      <td>United States</td>\n",
       "      <td>588</td>\n",
       "    </tr>\n",
       "    <tr>\n",
       "      <th>8</th>\n",
       "      <td>Senegal</td>\n",
       "      <td>United States</td>\n",
       "      <td>40</td>\n",
       "    </tr>\n",
       "    <tr>\n",
       "      <th>9</th>\n",
       "      <td>Moldova</td>\n",
       "      <td>United States</td>\n",
       "      <td>1</td>\n",
       "    </tr>\n",
       "    <tr>\n",
       "      <th>10</th>\n",
       "      <td>United States</td>\n",
       "      <td>Sint Maarten</td>\n",
       "      <td>325</td>\n",
       "    </tr>\n",
       "    <tr>\n",
       "      <th>11</th>\n",
       "      <td>United States</td>\n",
       "      <td>Marshall Islands</td>\n",
       "      <td>39</td>\n",
       "    </tr>\n",
       "    <tr>\n",
       "      <th>12</th>\n",
       "      <td>Guyana</td>\n",
       "      <td>United States</td>\n",
       "      <td>64</td>\n",
       "    </tr>\n",
       "    <tr>\n",
       "      <th>13</th>\n",
       "      <td>Malta</td>\n",
       "      <td>United States</td>\n",
       "      <td>1</td>\n",
       "    </tr>\n",
       "    <tr>\n",
       "      <th>14</th>\n",
       "      <td>Anguilla</td>\n",
       "      <td>United States</td>\n",
       "      <td>41</td>\n",
       "    </tr>\n",
       "    <tr>\n",
       "      <th>15</th>\n",
       "      <td>Bolivia</td>\n",
       "      <td>United States</td>\n",
       "      <td>30</td>\n",
       "    </tr>\n",
       "    <tr>\n",
       "      <th>16</th>\n",
       "      <td>United States</td>\n",
       "      <td>Paraguay</td>\n",
       "      <td>6</td>\n",
       "    </tr>\n",
       "    <tr>\n",
       "      <th>17</th>\n",
       "      <td>Algeria</td>\n",
       "      <td>United States</td>\n",
       "      <td>4</td>\n",
       "    </tr>\n",
       "    <tr>\n",
       "      <th>18</th>\n",
       "      <td>Turks and Caicos Islands</td>\n",
       "      <td>United States</td>\n",
       "      <td>230</td>\n",
       "    </tr>\n",
       "    <tr>\n",
       "      <th>19</th>\n",
       "      <td>United States</td>\n",
       "      <td>Gibraltar</td>\n",
       "      <td>1</td>\n",
       "    </tr>\n",
       "  </tbody>\n",
       "</table>\n",
       "</div>"
      ],
      "text/plain": [
       "           DEST_COUNTRY_NAME ORIGIN_COUNTRY_NAME  count\n",
       "0              United States             Romania     15\n",
       "1              United States             Croatia      1\n",
       "2              United States             Ireland    344\n",
       "3                      Egypt       United States     15\n",
       "4              United States               India     62\n",
       "5              United States           Singapore      1\n",
       "6              United States             Grenada     62\n",
       "7                 Costa Rica       United States    588\n",
       "8                    Senegal       United States     40\n",
       "9                    Moldova       United States      1\n",
       "10             United States        Sint Maarten    325\n",
       "11             United States    Marshall Islands     39\n",
       "12                    Guyana       United States     64\n",
       "13                     Malta       United States      1\n",
       "14                  Anguilla       United States     41\n",
       "15                   Bolivia       United States     30\n",
       "16             United States            Paraguay      6\n",
       "17                   Algeria       United States      4\n",
       "18  Turks and Caicos Islands       United States    230\n",
       "19             United States           Gibraltar      1"
      ]
     },
     "execution_count": 6,
     "metadata": {},
     "output_type": "execute_result"
    }
   ],
   "source": [
    "df.limit(20).toPandas()"
   ]
  },
  {
   "cell_type": "code",
   "execution_count": 7,
   "id": "5a7bacea-737d-4579-be17-2ef4e5e4fd4d",
   "metadata": {
    "tags": []
   },
   "outputs": [
    {
     "data": {
      "text/plain": [
       "1"
      ]
     },
     "execution_count": 7,
     "metadata": {},
     "output_type": "execute_result"
    }
   ],
   "source": [
    "df.rdd.getNumPartitions()"
   ]
  },
  {
   "cell_type": "code",
   "execution_count": 8,
   "id": "e8d1db84-7d2f-4d1b-b123-1583669986f0",
   "metadata": {
    "tags": []
   },
   "outputs": [
    {
     "data": {
      "text/plain": [
       "DataFrame[DEST_COUNTRY_NAME: string, ORIGIN_COUNTRY_NAME: string, count: int]"
      ]
     },
     "execution_count": 8,
     "metadata": {},
     "output_type": "execute_result"
    }
   ],
   "source": [
    "df.repartition(5)"
   ]
  },
  {
   "cell_type": "code",
   "execution_count": 9,
   "id": "41f48d57-d0a3-4a65-bf38-4078ff66cdfd",
   "metadata": {
    "tags": []
   },
   "outputs": [
    {
     "data": {
      "text/plain": [
       "1"
      ]
     },
     "execution_count": 9,
     "metadata": {},
     "output_type": "execute_result"
    }
   ],
   "source": [
    "df.rdd.getNumPartitions()"
   ]
  },
  {
   "cell_type": "code",
   "execution_count": 10,
   "id": "21f88af7-be47-406d-aba8-aa6403465b12",
   "metadata": {
    "tags": []
   },
   "outputs": [],
   "source": [
    "from pyspark.sql.functions import current_date, current_timestamp\n",
    "dateDF = spark.range(10)\\\n",
    ".withColumn(\"today\", current_date())\\\n",
    ".withColumn(\"now\", current_timestamp())\n",
    "dateDF.createOrReplaceTempView(\"dateTable\")"
   ]
  },
  {
   "cell_type": "code",
   "execution_count": 11,
   "id": "bf0b9b6e-25f3-4ff1-8f27-2bf676e73a0e",
   "metadata": {
    "tags": []
   },
   "outputs": [
    {
     "name": "stderr",
     "output_type": "stream",
     "text": [
      "C:\\Users\\Alqia\\AppData\\Roaming\\jupyterlab-desktop\\jlab_server\\lib\\site-packages\\pyspark\\sql\\pandas\\conversion.py:248: FutureWarning: Passing unit-less datetime64 dtype to .astype is deprecated and will raise in a future version. Pass 'datetime64[ns]' instead\n",
      "  series = series.astype(t, copy=False)\n"
     ]
    },
    {
     "data": {
      "text/html": [
       "<div>\n",
       "<style scoped>\n",
       "    .dataframe tbody tr th:only-of-type {\n",
       "        vertical-align: middle;\n",
       "    }\n",
       "\n",
       "    .dataframe tbody tr th {\n",
       "        vertical-align: top;\n",
       "    }\n",
       "\n",
       "    .dataframe thead th {\n",
       "        text-align: right;\n",
       "    }\n",
       "</style>\n",
       "<table border=\"1\" class=\"dataframe\">\n",
       "  <thead>\n",
       "    <tr style=\"text-align: right;\">\n",
       "      <th></th>\n",
       "      <th>id</th>\n",
       "      <th>today</th>\n",
       "      <th>now</th>\n",
       "    </tr>\n",
       "  </thead>\n",
       "  <tbody>\n",
       "    <tr>\n",
       "      <th>0</th>\n",
       "      <td>0</td>\n",
       "      <td>2023-03-02</td>\n",
       "      <td>2023-03-02 19:56:04.432</td>\n",
       "    </tr>\n",
       "    <tr>\n",
       "      <th>1</th>\n",
       "      <td>1</td>\n",
       "      <td>2023-03-02</td>\n",
       "      <td>2023-03-02 19:56:04.432</td>\n",
       "    </tr>\n",
       "    <tr>\n",
       "      <th>2</th>\n",
       "      <td>2</td>\n",
       "      <td>2023-03-02</td>\n",
       "      <td>2023-03-02 19:56:04.432</td>\n",
       "    </tr>\n",
       "    <tr>\n",
       "      <th>3</th>\n",
       "      <td>3</td>\n",
       "      <td>2023-03-02</td>\n",
       "      <td>2023-03-02 19:56:04.432</td>\n",
       "    </tr>\n",
       "    <tr>\n",
       "      <th>4</th>\n",
       "      <td>4</td>\n",
       "      <td>2023-03-02</td>\n",
       "      <td>2023-03-02 19:56:04.432</td>\n",
       "    </tr>\n",
       "    <tr>\n",
       "      <th>5</th>\n",
       "      <td>5</td>\n",
       "      <td>2023-03-02</td>\n",
       "      <td>2023-03-02 19:56:04.432</td>\n",
       "    </tr>\n",
       "    <tr>\n",
       "      <th>6</th>\n",
       "      <td>6</td>\n",
       "      <td>2023-03-02</td>\n",
       "      <td>2023-03-02 19:56:04.432</td>\n",
       "    </tr>\n",
       "    <tr>\n",
       "      <th>7</th>\n",
       "      <td>7</td>\n",
       "      <td>2023-03-02</td>\n",
       "      <td>2023-03-02 19:56:04.432</td>\n",
       "    </tr>\n",
       "    <tr>\n",
       "      <th>8</th>\n",
       "      <td>8</td>\n",
       "      <td>2023-03-02</td>\n",
       "      <td>2023-03-02 19:56:04.432</td>\n",
       "    </tr>\n",
       "    <tr>\n",
       "      <th>9</th>\n",
       "      <td>9</td>\n",
       "      <td>2023-03-02</td>\n",
       "      <td>2023-03-02 19:56:04.432</td>\n",
       "    </tr>\n",
       "  </tbody>\n",
       "</table>\n",
       "</div>"
      ],
      "text/plain": [
       "   id       today                     now\n",
       "0   0  2023-03-02 2023-03-02 19:56:04.432\n",
       "1   1  2023-03-02 2023-03-02 19:56:04.432\n",
       "2   2  2023-03-02 2023-03-02 19:56:04.432\n",
       "3   3  2023-03-02 2023-03-02 19:56:04.432\n",
       "4   4  2023-03-02 2023-03-02 19:56:04.432\n",
       "5   5  2023-03-02 2023-03-02 19:56:04.432\n",
       "6   6  2023-03-02 2023-03-02 19:56:04.432\n",
       "7   7  2023-03-02 2023-03-02 19:56:04.432\n",
       "8   8  2023-03-02 2023-03-02 19:56:04.432\n",
       "9   9  2023-03-02 2023-03-02 19:56:04.432"
      ]
     },
     "execution_count": 11,
     "metadata": {},
     "output_type": "execute_result"
    }
   ],
   "source": [
    "dateDF.toPandas()"
   ]
  },
  {
   "cell_type": "code",
   "execution_count": 15,
   "id": "8ad40315-e76d-40b2-ab09-4e16a88c729f",
   "metadata": {
    "tags": []
   },
   "outputs": [
    {
     "data": {
      "text/html": [
       "<div>\n",
       "<style scoped>\n",
       "    .dataframe tbody tr th:only-of-type {\n",
       "        vertical-align: middle;\n",
       "    }\n",
       "\n",
       "    .dataframe tbody tr th {\n",
       "        vertical-align: top;\n",
       "    }\n",
       "\n",
       "    .dataframe thead th {\n",
       "        text-align: right;\n",
       "    }\n",
       "</style>\n",
       "<table border=\"1\" class=\"dataframe\">\n",
       "  <thead>\n",
       "    <tr style=\"text-align: right;\">\n",
       "      <th></th>\n",
       "      <th>date_sub(today, 5)</th>\n",
       "      <th>date_add(today, 5)</th>\n",
       "    </tr>\n",
       "  </thead>\n",
       "  <tbody>\n",
       "    <tr>\n",
       "      <th>0</th>\n",
       "      <td>2023-02-25</td>\n",
       "      <td>2023-03-07</td>\n",
       "    </tr>\n",
       "    <tr>\n",
       "      <th>1</th>\n",
       "      <td>2023-02-25</td>\n",
       "      <td>2023-03-07</td>\n",
       "    </tr>\n",
       "    <tr>\n",
       "      <th>2</th>\n",
       "      <td>2023-02-25</td>\n",
       "      <td>2023-03-07</td>\n",
       "    </tr>\n",
       "    <tr>\n",
       "      <th>3</th>\n",
       "      <td>2023-02-25</td>\n",
       "      <td>2023-03-07</td>\n",
       "    </tr>\n",
       "    <tr>\n",
       "      <th>4</th>\n",
       "      <td>2023-02-25</td>\n",
       "      <td>2023-03-07</td>\n",
       "    </tr>\n",
       "    <tr>\n",
       "      <th>5</th>\n",
       "      <td>2023-02-25</td>\n",
       "      <td>2023-03-07</td>\n",
       "    </tr>\n",
       "    <tr>\n",
       "      <th>6</th>\n",
       "      <td>2023-02-25</td>\n",
       "      <td>2023-03-07</td>\n",
       "    </tr>\n",
       "    <tr>\n",
       "      <th>7</th>\n",
       "      <td>2023-02-25</td>\n",
       "      <td>2023-03-07</td>\n",
       "    </tr>\n",
       "    <tr>\n",
       "      <th>8</th>\n",
       "      <td>2023-02-25</td>\n",
       "      <td>2023-03-07</td>\n",
       "    </tr>\n",
       "    <tr>\n",
       "      <th>9</th>\n",
       "      <td>2023-02-25</td>\n",
       "      <td>2023-03-07</td>\n",
       "    </tr>\n",
       "  </tbody>\n",
       "</table>\n",
       "</div>"
      ],
      "text/plain": [
       "  date_sub(today, 5) date_add(today, 5)\n",
       "0         2023-02-25         2023-03-07\n",
       "1         2023-02-25         2023-03-07\n",
       "2         2023-02-25         2023-03-07\n",
       "3         2023-02-25         2023-03-07\n",
       "4         2023-02-25         2023-03-07\n",
       "5         2023-02-25         2023-03-07\n",
       "6         2023-02-25         2023-03-07\n",
       "7         2023-02-25         2023-03-07\n",
       "8         2023-02-25         2023-03-07\n",
       "9         2023-02-25         2023-03-07"
      ]
     },
     "execution_count": 15,
     "metadata": {},
     "output_type": "execute_result"
    }
   ],
   "source": [
    "from pyspark.sql.functions import date_add, date_sub\n",
    "dateDF.select(date_sub(col(\"today\"), 5), date_add(col(\"today\"),\n",
    "5)).toPandas()"
   ]
  },
  {
   "cell_type": "code",
   "execution_count": 16,
   "id": "4ef30f9b-0d0b-440a-b2ad-241a15ef7581",
   "metadata": {
    "tags": []
   },
   "outputs": [
    {
     "data": {
      "text/html": [
       "<div>\n",
       "<style scoped>\n",
       "    .dataframe tbody tr th:only-of-type {\n",
       "        vertical-align: middle;\n",
       "    }\n",
       "\n",
       "    .dataframe tbody tr th {\n",
       "        vertical-align: top;\n",
       "    }\n",
       "\n",
       "    .dataframe thead th {\n",
       "        text-align: right;\n",
       "    }\n",
       "</style>\n",
       "<table border=\"1\" class=\"dataframe\">\n",
       "  <thead>\n",
       "    <tr style=\"text-align: right;\">\n",
       "      <th></th>\n",
       "      <th>DEST_COUNTRY_NAME</th>\n",
       "      <th>ORIGIN_COUNTRY_NAME</th>\n",
       "      <th>count</th>\n",
       "    </tr>\n",
       "  </thead>\n",
       "  <tbody>\n",
       "    <tr>\n",
       "      <th>0</th>\n",
       "      <td>United States</td>\n",
       "      <td>Romania</td>\n",
       "      <td>15</td>\n",
       "    </tr>\n",
       "    <tr>\n",
       "      <th>1</th>\n",
       "      <td>United States</td>\n",
       "      <td>Croatia</td>\n",
       "      <td>1</td>\n",
       "    </tr>\n",
       "    <tr>\n",
       "      <th>2</th>\n",
       "      <td>United States</td>\n",
       "      <td>Ireland</td>\n",
       "      <td>344</td>\n",
       "    </tr>\n",
       "    <tr>\n",
       "      <th>3</th>\n",
       "      <td>Egypt</td>\n",
       "      <td>United States</td>\n",
       "      <td>15</td>\n",
       "    </tr>\n",
       "    <tr>\n",
       "      <th>4</th>\n",
       "      <td>United States</td>\n",
       "      <td>India</td>\n",
       "      <td>62</td>\n",
       "    </tr>\n",
       "    <tr>\n",
       "      <th>...</th>\n",
       "      <td>...</td>\n",
       "      <td>...</td>\n",
       "      <td>...</td>\n",
       "    </tr>\n",
       "    <tr>\n",
       "      <th>251</th>\n",
       "      <td>United States</td>\n",
       "      <td>Saint Kitts and Nevis</td>\n",
       "      <td>145</td>\n",
       "    </tr>\n",
       "    <tr>\n",
       "      <th>252</th>\n",
       "      <td>Uruguay</td>\n",
       "      <td>United States</td>\n",
       "      <td>43</td>\n",
       "    </tr>\n",
       "    <tr>\n",
       "      <th>253</th>\n",
       "      <td>United States</td>\n",
       "      <td>Haiti</td>\n",
       "      <td>225</td>\n",
       "    </tr>\n",
       "    <tr>\n",
       "      <th>254</th>\n",
       "      <td>Bonaire, Sint Eustatius, and Saba</td>\n",
       "      <td>United States</td>\n",
       "      <td>58</td>\n",
       "    </tr>\n",
       "    <tr>\n",
       "      <th>255</th>\n",
       "      <td>Greece</td>\n",
       "      <td>United States</td>\n",
       "      <td>30</td>\n",
       "    </tr>\n",
       "  </tbody>\n",
       "</table>\n",
       "<p>256 rows × 3 columns</p>\n",
       "</div>"
      ],
      "text/plain": [
       "                     DEST_COUNTRY_NAME    ORIGIN_COUNTRY_NAME  count\n",
       "0                        United States                Romania     15\n",
       "1                        United States                Croatia      1\n",
       "2                        United States                Ireland    344\n",
       "3                                Egypt          United States     15\n",
       "4                        United States                  India     62\n",
       "..                                 ...                    ...    ...\n",
       "251                      United States  Saint Kitts and Nevis    145\n",
       "252                            Uruguay          United States     43\n",
       "253                      United States                  Haiti    225\n",
       "254  Bonaire, Sint Eustatius, and Saba          United States     58\n",
       "255                             Greece          United States     30\n",
       "\n",
       "[256 rows x 3 columns]"
      ]
     },
     "execution_count": 16,
     "metadata": {},
     "output_type": "execute_result"
    }
   ],
   "source": [
    "df.toPandas()"
   ]
  },
  {
   "cell_type": "code",
   "execution_count": 32,
   "id": "96578b44-b323-46ab-98dd-e7f9099edaf2",
   "metadata": {
    "tags": []
   },
   "outputs": [
    {
     "data": {
      "text/html": [
       "<div>\n",
       "<style scoped>\n",
       "    .dataframe tbody tr th:only-of-type {\n",
       "        vertical-align: middle;\n",
       "    }\n",
       "\n",
       "    .dataframe tbody tr th {\n",
       "        vertical-align: top;\n",
       "    }\n",
       "\n",
       "    .dataframe thead th {\n",
       "        text-align: right;\n",
       "    }\n",
       "</style>\n",
       "<table border=\"1\" class=\"dataframe\">\n",
       "  <thead>\n",
       "    <tr style=\"text-align: right;\">\n",
       "      <th></th>\n",
       "      <th>DEST_COUNTRY_NAME</th>\n",
       "      <th>list</th>\n",
       "    </tr>\n",
       "  </thead>\n",
       "  <tbody>\n",
       "    <tr>\n",
       "      <th>0</th>\n",
       "      <td>United States</td>\n",
       "      <td>[united, states]</td>\n",
       "    </tr>\n",
       "    <tr>\n",
       "      <th>1</th>\n",
       "      <td>United States</td>\n",
       "      <td>[united, states]</td>\n",
       "    </tr>\n",
       "    <tr>\n",
       "      <th>2</th>\n",
       "      <td>United States</td>\n",
       "      <td>[united, states]</td>\n",
       "    </tr>\n",
       "    <tr>\n",
       "      <th>3</th>\n",
       "      <td>Egypt</td>\n",
       "      <td>[egypt]</td>\n",
       "    </tr>\n",
       "    <tr>\n",
       "      <th>4</th>\n",
       "      <td>United States</td>\n",
       "      <td>[united, states]</td>\n",
       "    </tr>\n",
       "    <tr>\n",
       "      <th>...</th>\n",
       "      <td>...</td>\n",
       "      <td>...</td>\n",
       "    </tr>\n",
       "    <tr>\n",
       "      <th>251</th>\n",
       "      <td>United States</td>\n",
       "      <td>[united, states]</td>\n",
       "    </tr>\n",
       "    <tr>\n",
       "      <th>252</th>\n",
       "      <td>Uruguay</td>\n",
       "      <td>[uruguay]</td>\n",
       "    </tr>\n",
       "    <tr>\n",
       "      <th>253</th>\n",
       "      <td>United States</td>\n",
       "      <td>[united, states]</td>\n",
       "    </tr>\n",
       "    <tr>\n",
       "      <th>254</th>\n",
       "      <td>Bonaire, Sint Eustatius, and Saba</td>\n",
       "      <td>[bonaire,, sint, eustatius,, and, saba]</td>\n",
       "    </tr>\n",
       "    <tr>\n",
       "      <th>255</th>\n",
       "      <td>Greece</td>\n",
       "      <td>[greece]</td>\n",
       "    </tr>\n",
       "  </tbody>\n",
       "</table>\n",
       "<p>256 rows × 2 columns</p>\n",
       "</div>"
      ],
      "text/plain": [
       "                     DEST_COUNTRY_NAME  \\\n",
       "0                        United States   \n",
       "1                        United States   \n",
       "2                        United States   \n",
       "3                                Egypt   \n",
       "4                        United States   \n",
       "..                                 ...   \n",
       "251                      United States   \n",
       "252                            Uruguay   \n",
       "253                      United States   \n",
       "254  Bonaire, Sint Eustatius, and Saba   \n",
       "255                             Greece   \n",
       "\n",
       "                                        list  \n",
       "0                           [united, states]  \n",
       "1                           [united, states]  \n",
       "2                           [united, states]  \n",
       "3                                    [egypt]  \n",
       "4                           [united, states]  \n",
       "..                                       ...  \n",
       "251                         [united, states]  \n",
       "252                                [uruguay]  \n",
       "253                         [united, states]  \n",
       "254  [bonaire,, sint, eustatius,, and, saba]  \n",
       "255                                 [greece]  \n",
       "\n",
       "[256 rows x 2 columns]"
      ]
     },
     "execution_count": 32,
     "metadata": {},
     "output_type": "execute_result"
    }
   ],
   "source": [
    "df.select(\n",
    "    col(\"DEST_COUNTRY_NAME\"),\\\n",
    "    split(\\\n",
    "        lower(\\\n",
    "            col(\"DEST_COUNTRY_NAME\")\n",
    "             ), \" \"\n",
    "         ).alias(\"list\")\n",
    ").toPandas()"
   ]
  },
  {
   "cell_type": "code",
   "execution_count": null,
   "id": "22311325-43e1-469d-9d92-93f5681e78af",
   "metadata": {},
   "outputs": [],
   "source": []
  }
 ],
 "metadata": {
  "kernelspec": {
   "display_name": "Python 3 (ipykernel)",
   "language": "python",
   "name": "python3"
  },
  "language_info": {
   "codemirror_mode": {
    "name": "ipython",
    "version": 3
   },
   "file_extension": ".py",
   "mimetype": "text/x-python",
   "name": "python",
   "nbconvert_exporter": "python",
   "pygments_lexer": "ipython3",
   "version": "3.8.16"
  }
 },
 "nbformat": 4,
 "nbformat_minor": 5
}
