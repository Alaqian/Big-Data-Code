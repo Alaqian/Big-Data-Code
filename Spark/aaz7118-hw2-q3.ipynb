{
 "cells": [
  {
   "cell_type": "markdown",
   "id": "a0a11e5d-b62b-4b17-b253-59d45e80f727",
   "metadata": {},
   "source": [
    "# Assignment 2 - Spark Dataframes\n",
    "***Note***: All the dataset files were stored in the same folder as this notebook."
   ]
  },
  {
   "cell_type": "code",
   "execution_count": 1,
   "id": "bda4be81-c73e-459b-a426-209b94e4631b",
   "metadata": {
    "tags": []
   },
   "outputs": [
    {
     "data": {
      "text/html": [
       "\n",
       "            <div>\n",
       "                <p><b>SparkSession - in-memory</b></p>\n",
       "                \n",
       "        <div>\n",
       "            <p><b>SparkContext</b></p>\n",
       "\n",
       "            <p><a href=\"http://host.docker.internal:4041\">Spark UI</a></p>\n",
       "\n",
       "            <dl>\n",
       "              <dt>Version</dt>\n",
       "                <dd><code>v3.3.2</code></dd>\n",
       "              <dt>Master</dt>\n",
       "                <dd><code>local[*]</code></dd>\n",
       "              <dt>AppName</dt>\n",
       "                <dd><code>pyspark-shell</code></dd>\n",
       "            </dl>\n",
       "        </div>\n",
       "        \n",
       "            </div>\n",
       "        "
      ],
      "text/plain": [
       "<pyspark.sql.session.SparkSession at 0x25855e6d4f0>"
      ]
     },
     "execution_count": 1,
     "metadata": {},
     "output_type": "execute_result"
    }
   ],
   "source": [
    "import os\n",
    "import pyspark\n",
    "import sys\n",
    "\n",
    "os.environ['PYSPARK_PYTHON'] = sys.executable\n",
    "os.environ['PYSPARK_DRIVER_PYTHON'] = sys.executable\n",
    "conf = pyspark.SparkConf()\n",
    "sc = pyspark.SparkContext(conf=conf)\n",
    "spark = pyspark.sql.SparkSession(sc)\n",
    "spark"
   ]
  },
  {
   "cell_type": "markdown",
   "id": "e1b389af-e9a2-4c6a-8c08-7fdb347fbac6",
   "metadata": {},
   "source": [
    "## 3. 10 Points\n",
    "**Datafile**: Restaurants_in_Durham_County_NC.csv\n",
    "\n",
    "__NOTE*** This file is colon delimited (not comma) ***__\n",
    "\n",
    "\n",
    "**Solve**: How many years are represented in this dataset?\n",
    "\n",
    "### Approach:\n",
    "1. Import `Restaurants_in_Durham_County_NC` into a dataframe"
   ]
  },
  {
   "cell_type": "code",
   "execution_count": 3,
   "id": "798a4acf-2cd2-43d5-90f4-91593e1139e8",
   "metadata": {
    "tags": []
   },
   "outputs": [
    {
     "name": "stdout",
     "output_type": "stream",
     "text": [
      "+---------------------------------------------------------------------------------------------------------------------------------------------------------------------------------------------------------------------------------------------------------------------------------------------+\n",
      "|ID;Premise_Name;Premise_Address1;Premise_Address2;Premise_City;Premise_State;Premise_Zip;Premise_Phone;Hours_Of_Operation;Opening_Date;Closing_Date;Seats;Water;Sewage;Insp_Freq;Est_Group_Desc;Risk;Smoking_Allowed;Type_Description;Rpt_Area_Desc;Status;Transitional_Type_Desc;geolocation|\n",
      "+---------------------------------------------------------------------------------------------------------------------------------------------------------------------------------------------------------------------------------------------------------------------------------------------+\n",
      "|                                                                                                                                                                                                                                                                         56060;WEST 94TH S...|\n",
      "|                                                                                                                                                                                                                                                                         58123;BROOKDALE D...|\n",
      "|                                                                                                                                                                                                                                                                         70266;SMOOTHIE KI...|\n",
      "|                                                                                                                                                                                                                                                                         97837;HAMPTON INN...|\n",
      "|                                                                                                                                                                                                                                                                         60690;BETTER LIVI...|\n",
      "|                                                                                                                                                                                                                                                                         60686;ADVENTURE H...|\n",
      "|                                                                                                                                                                                                                                                                         85252;ANOTHER BEA...|\n",
      "|                                                                                                                                                                                                                                                                         59120;BRIDGES AT ...|\n",
      "|                                                                                                                                                                                                                                                                         59124;SHEARTON IN...|\n",
      "|                                                                                                                                                                                                                                                                         59263;SPA HEALTH ...|\n",
      "|                                                                                                                                                                                                                                                                         58349;KROGER R 38...|\n",
      "|                                                                                                                                                                                                                                                                         58342;LEONE INTER...|\n",
      "|                                                                                                                                                                                                                                                                         57278;PIZZA HUT D...|\n",
      "|                                                                                                                                                                                                                                                                         57190;CHUBBYS TAC...|\n",
      "|                                                                                                                                                                                                                                                                         57585;SUBWAY;1058...|\n",
      "|                                                                                                                                                                                                                                                                         59132;DUKE UNIVER...|\n",
      "|                                                                                                                                                                                                                                                                         58444;DEBORAH'S D...|\n",
      "|                                                                                                                                                                                                                                                                         59136;EMERALD FOR...|\n",
      "|                                                                                                                                                                                                                                                                         59038;AUBURN SWIM...|\n",
      "|                                                                                                                                                                                                                                                                         178137;DUKE UNIVE...|\n",
      "+---------------------------------------------------------------------------------------------------------------------------------------------------------------------------------------------------------------------------------------------------------------------------------------------+\n",
      "only showing top 20 rows\n",
      "\n"
     ]
    }
   ],
   "source": [
    "# 1. Import BreadBasket_DMS.csv into a dataframe\n",
    "q3 = spark.read.option(\"header\", True).option(\"InferSchema\", True).csv(\"Restaurants_in_Durham_County_NC.csv\")\n",
    "q3.show()"
   ]
  },
  {
   "cell_type": "code",
   "execution_count": null,
   "id": "ded0afef-67a7-4c7a-a575-64c6e67c7036",
   "metadata": {},
   "outputs": [],
   "source": []
  }
 ],
 "metadata": {
  "kernelspec": {
   "display_name": "Python 3 (ipykernel)",
   "language": "python",
   "name": "python3"
  },
  "language_info": {
   "codemirror_mode": {
    "name": "ipython",
    "version": 3
   },
   "file_extension": ".py",
   "mimetype": "text/x-python",
   "name": "python",
   "nbconvert_exporter": "python",
   "pygments_lexer": "ipython3",
   "version": "3.8.16"
  }
 },
 "nbformat": 4,
 "nbformat_minor": 5
}
